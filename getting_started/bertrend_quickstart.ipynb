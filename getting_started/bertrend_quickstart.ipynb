{
 "cells": [
  {
   "cell_type": "markdown",
   "id": "73870050e69c50e6",
   "metadata": {},
   "source": [
    "\n",
    "\n",
    "\n",
    "\n"
   ]
  },
  {
   "cell_type": "markdown",
   "id": "10a9d82c667c7fbe",
   "metadata": {},
   "source": [
    "# BERTrend quickstart\n",
    "The purpose of this notebook is to complement the existing demos available in the directory `bertrend/demos` with some code examples that explain how to integrate BERTrend with your application code."
   ]
  },
  {
   "cell_type": "code",
   "id": "849734b0d71f2495",
   "metadata": {
    "ExecuteTime": {
     "end_time": "2025-03-31T12:25:00.907777Z",
     "start_time": "2025-03-31T12:25:00.875310Z"
    }
   },
   "source": [
    "\n",
    "%load_ext autoreload\n",
    "%autoreload 2"
   ],
   "outputs": [],
   "execution_count": 1
  },
  {
   "cell_type": "markdown",
   "id": "a795490c2d3e539e",
   "metadata": {},
   "source": [
    "## BERTrend installation"
   ]
  },
  {
   "cell_type": "code",
   "id": "ba4a7eacde91b892",
   "metadata": {
    "ExecuteTime": {
     "end_time": "2025-03-31T12:25:24.690558Z",
     "start_time": "2025-03-31T12:25:01.106361Z"
    }
   },
   "source": [
    "from pathlib import Path\n",
    "import pandas as pd\n",
    "from pandas import Timestamp\n",
    "from IPython.display import display\n",
    "from loguru import logger\n",
    "import os\n",
    "\n",
    "from bertrend import DATA_PATH\n",
    "from bertrend.BERTrend import BERTrend\n",
    "from bertrend import MODELS_DIR\n",
    "from bertrend.utils.data_loading import load_data, split_data, TEXT_COLUMN\n",
    "from bertrend.services.embedding_service import EmbeddingService\n",
    "from bertrend.BERTopicModel import BERTopicModel\n",
    "from bertrend.topic_analysis.topic_description import generate_topic_description\n",
    "from bertrend.trend_analysis.weak_signals import analyze_signal\n"
   ],
   "outputs": [],
   "execution_count": 2
  },
  {
   "cell_type": "code",
   "execution_count": 3,
   "id": "74702a2391f80f72",
   "metadata": {
    "ExecuteTime": {
     "end_time": "2025-01-26T21:07:30.328141Z",
     "start_time": "2025-01-26T21:07:30.324568Z"
    }
   },
   "outputs": [],
   "source": [
    "#!pip install bertrend"
   ]
  },
  {
   "cell_type": "markdown",
   "id": "ca03bdd5398b56b3",
   "metadata": {},
   "source": [
    "### Configuration of topic models"
   ]
  },
  {
   "cell_type": "code",
   "id": "b97d93ac81a4d420",
   "metadata": {
    "ExecuteTime": {
     "end_time": "2025-03-31T12:25:24.930673Z",
     "start_time": "2025-03-31T12:25:24.850784Z"
    }
   },
   "source": [
    "# Topic model with default parameters - each parameter of BERTopic can be modified from the constructor or can be read from a configuration file\n",
    "# overrides the default config to use English\n",
    "config = '''\n",
    "# Default configuration file to be used for topic model\n",
    "\n",
    "# Global parameters\n",
    "[global]\n",
    "language = \"English\"\n",
    "\n",
    "# BERTopic parameters: https://maartengr.github.io/BERTopic/api/bertopic.html#bertopic._bertopic.BERTopic.__init__\n",
    "[bertopic_model]\n",
    "top_n_words = 10\n",
    "verbose = true\n",
    "representation_model = [\"MaximalMarginalRelevance\"] # KeyBERTInspired, OpenAI\n",
    "zeroshot_topic_list = []\n",
    "zeroshot_min_similarity = 0\n",
    "\n",
    "# UMAP parameters: https://umap-learn.readthedocs.io/en/latest/api.html\n",
    "[umap_model]\n",
    "n_neighbors = 5\n",
    "n_components = 5\n",
    "min_dist = 0.0\n",
    "metric = \"cosine\"\n",
    "random_state = 42\n",
    "\n",
    "# HDBSCAN parameters: https://hdbscan.readthedocs.io/en/latest/api.html\n",
    "[hdbscan_model]\n",
    "min_cluster_size = 5\n",
    "min_samples = 5\n",
    "metric = \"euclidean\"\n",
    "cluster_selection_method = \"eom\"\n",
    "prediction_data = true\n",
    "\n",
    "# CountVectorizer: https://scikit-learn.org/1.5/modules/generated/sklearn.feature_extraction.text.CountVectorizer.html\n",
    "[vectorizer_model]\n",
    "ngram_range = [1, 1]\n",
    "stop_words = true # If true, will check `language` parameter and load associated stopwords file\n",
    "min_df = 2\n",
    "\n",
    "# ClassTfidfTransformer: https://maartengr.github.io/BERTopic/api/ctfidf.html\n",
    "[ctfidf_model]\n",
    "bm25_weighting = false\n",
    "reduce_frequent_words = true\n",
    "\n",
    "# MaximalMarginalRelevance: https://maartengr.github.io/BERTopic/api/representation/mmr.html\n",
    "[mmr_model]\n",
    "diversity = 0.3\n",
    "\n",
    "# Reduce outliers: https://maartengr.github.io/BERTopic/api/bertopic.html#bertopic._bertopic.BERTopic.reduce_outliers\n",
    "[reduce_outliers]\n",
    "strategy = \"c-tf-idf\"\n",
    "'''\n",
    "\n",
    "topic_model = BERTopicModel(config)"
   ],
   "outputs": [],
   "execution_count": 3
  },
  {
   "cell_type": "code",
   "execution_count": null,
   "id": "fa92f4b55e7b7b72",
   "metadata": {
    "ExecuteTime": {
     "end_time": "2025-01-20T15:00:35.547370Z",
     "start_time": "2025-01-20T15:00:35.486087Z"
    }
   },
   "outputs": [],
   "source": [
    "# The TopicModel class is mainly a wrapper around BERTopic and can be used as-is, for example for a first analysis of data (without considering evolving trends, but this is not mandatory at all)\n"
   ]
  },
  {
   "cell_type": "markdown",
   "id": "7cfd832467877a23",
   "metadata": {},
   "source": [
    "## Using BERTrend for retrospective analysis"
   ]
  },
  {
   "cell_type": "markdown",
   "id": "6a07ec11284b82cb",
   "metadata": {},
   "source": [
    "### Instantiation of BERTrend\n"
   ]
  },
  {
   "cell_type": "markdown",
   "id": "c5118dce73f8cfce",
   "metadata": {},
   "source": [
    "In the case of a **retrospective trend analysis** task, the goal is to identify and evaluate patterns or changes over time within a dataset, allowing for insights into historical performance, behaviors, or events that can inform future decision-making and strategy development.\n",
    "\n",
    "In this context, the general principle consists in splitting the past data into different time slices. Then each dataset is used to train a separate topic models. Each topic model description corresponding to the older data slice is merged with the next one and decay factors are applied. This allows to have a vision of topic evolution over time"
   ]
  },
  {
   "cell_type": "code",
   "id": "52bc66eed5bb040",
   "metadata": {
    "ExecuteTime": {
     "end_time": "2025-03-31T12:25:29.929741Z",
     "start_time": "2025-03-31T12:25:29.859026Z"
    }
   },
   "source": [
    "# Basic creation of the object and parametrization\n",
    "# BERTrend uses several topic models; therefore, it is necessary to pass a topic_model object as a reference\n",
    "bertrend = BERTrend(topic_model=topic_model)"
   ],
   "outputs": [],
   "execution_count": 4
  },
  {
   "cell_type": "markdown",
   "id": "bf7cd6699bf77299",
   "metadata": {},
   "source": [
    "### 1. Gather historical data to be analyzed\n"
   ]
  },
  {
   "cell_type": "code",
   "id": "154fb553f7004986",
   "metadata": {
    "ExecuteTime": {
     "end_time": "2025-03-31T12:25:33.519320Z",
     "start_time": "2025-03-31T12:25:33.288943Z"
    }
   },
   "source": [
    "# Here some Trump tweets from: https://github.com/MarkHershey/CompleteTrumpTweetsArchive/blob/master/data/realDonaldTrump_in_office.csv\n",
    "#!wget \"https://raw.githubusercontent.com/MarkHershey/CompleteTrumpTweetsArchive/refs/heads/master/data/realDonaldTrump_in_office.csv\"\n",
    "df = pd.read_csv(\"realDonaldTrump_in_office.csv\",  sep=',',quotechar='\"', skipinitialspace=True)\n",
    "# BERTrend expects specific data format\n",
    "df = df.rename(columns={'Time': 'timestamp', 'Tweet URL': 'url', \"Tweet Text\": \"text\"})\n",
    "df[\"source\"]=df[\"ID\"]\n",
    "df[\"document_id\"] = df.index\n",
    "df.reset_index(inplace=True, drop=True)\n",
    "df.head(5)"
   ],
   "outputs": [
    {
     "data": {
      "text/plain": [
       "                 ID         timestamp  \\\n",
       "0  @realDonaldTrump  2017-01-20 06:31   \n",
       "1  @realDonaldTrump  2017-01-20 11:51   \n",
       "2  @realDonaldTrump  2017-01-20 11:51   \n",
       "3  @realDonaldTrump  2017-01-20 11:52   \n",
       "4  @realDonaldTrump  2017-01-20 11:53   \n",
       "\n",
       "                                                 url  \\\n",
       "0  https://twitter.com/realDonaldTrump/status/822...   \n",
       "1  https://twitter.com/realDonaldTrump/status/822...   \n",
       "2  https://twitter.com/realDonaldTrump/status/822...   \n",
       "3  https://twitter.com/realDonaldTrump/status/822...   \n",
       "4  https://twitter.com/realDonaldTrump/status/822...   \n",
       "\n",
       "                                                text            source  \\\n",
       "0  It all begins today! I will see you at 11:00 A...  @realDonaldTrump   \n",
       "1  Today we are not merely transferring power fro...  @realDonaldTrump   \n",
       "2  power from Washington, D.C. and giving it back...  @realDonaldTrump   \n",
       "3  What truly matters is not which party controls...  @realDonaldTrump   \n",
       "4  January 20th 2017, will be remembered as the d...  @realDonaldTrump   \n",
       "\n",
       "   document_id  \n",
       "0            0  \n",
       "1            1  \n",
       "2            2  \n",
       "3            3  \n",
       "4            4  "
      ],
      "text/html": [
       "<div>\n",
       "<style scoped>\n",
       "    .dataframe tbody tr th:only-of-type {\n",
       "        vertical-align: middle;\n",
       "    }\n",
       "\n",
       "    .dataframe tbody tr th {\n",
       "        vertical-align: top;\n",
       "    }\n",
       "\n",
       "    .dataframe thead th {\n",
       "        text-align: right;\n",
       "    }\n",
       "</style>\n",
       "<table border=\"1\" class=\"dataframe\">\n",
       "  <thead>\n",
       "    <tr style=\"text-align: right;\">\n",
       "      <th></th>\n",
       "      <th>ID</th>\n",
       "      <th>timestamp</th>\n",
       "      <th>url</th>\n",
       "      <th>text</th>\n",
       "      <th>source</th>\n",
       "      <th>document_id</th>\n",
       "    </tr>\n",
       "  </thead>\n",
       "  <tbody>\n",
       "    <tr>\n",
       "      <th>0</th>\n",
       "      <td>@realDonaldTrump</td>\n",
       "      <td>2017-01-20 06:31</td>\n",
       "      <td>https://twitter.com/realDonaldTrump/status/822...</td>\n",
       "      <td>It all begins today! I will see you at 11:00 A...</td>\n",
       "      <td>@realDonaldTrump</td>\n",
       "      <td>0</td>\n",
       "    </tr>\n",
       "    <tr>\n",
       "      <th>1</th>\n",
       "      <td>@realDonaldTrump</td>\n",
       "      <td>2017-01-20 11:51</td>\n",
       "      <td>https://twitter.com/realDonaldTrump/status/822...</td>\n",
       "      <td>Today we are not merely transferring power fro...</td>\n",
       "      <td>@realDonaldTrump</td>\n",
       "      <td>1</td>\n",
       "    </tr>\n",
       "    <tr>\n",
       "      <th>2</th>\n",
       "      <td>@realDonaldTrump</td>\n",
       "      <td>2017-01-20 11:51</td>\n",
       "      <td>https://twitter.com/realDonaldTrump/status/822...</td>\n",
       "      <td>power from Washington, D.C. and giving it back...</td>\n",
       "      <td>@realDonaldTrump</td>\n",
       "      <td>2</td>\n",
       "    </tr>\n",
       "    <tr>\n",
       "      <th>3</th>\n",
       "      <td>@realDonaldTrump</td>\n",
       "      <td>2017-01-20 11:52</td>\n",
       "      <td>https://twitter.com/realDonaldTrump/status/822...</td>\n",
       "      <td>What truly matters is not which party controls...</td>\n",
       "      <td>@realDonaldTrump</td>\n",
       "      <td>3</td>\n",
       "    </tr>\n",
       "    <tr>\n",
       "      <th>4</th>\n",
       "      <td>@realDonaldTrump</td>\n",
       "      <td>2017-01-20 11:53</td>\n",
       "      <td>https://twitter.com/realDonaldTrump/status/822...</td>\n",
       "      <td>January 20th 2017, will be remembered as the d...</td>\n",
       "      <td>@realDonaldTrump</td>\n",
       "      <td>4</td>\n",
       "    </tr>\n",
       "  </tbody>\n",
       "</table>\n",
       "</div>"
      ]
     },
     "execution_count": 5,
     "metadata": {},
     "output_type": "execute_result"
    }
   ],
   "execution_count": 5
  },
  {
   "cell_type": "code",
   "execution_count": null,
   "id": "d2e8b96b46718241",
   "metadata": {
    "ExecuteTime": {
     "end_time": "2025-01-20T15:00:36.089939Z",
     "start_time": "2025-01-20T15:00:36.031108Z"
    }
   },
   "outputs": [],
   "source": [
    "df.index"
   ]
  },
  {
   "cell_type": "markdown",
   "id": "9d26753d9496a25",
   "metadata": {},
   "source": [
    "### 2. Embed data"
   ]
  },
  {
   "cell_type": "code",
   "id": "1ca3e17198fdbb6a",
   "metadata": {
    "ExecuteTime": {
     "end_time": "2025-03-31T12:30:03.998208Z",
     "start_time": "2025-03-31T12:29:33.095868Z"
    }
   },
   "source": [
    "# Selection of a subset of data\n",
    "df = df.head(1000)\n",
    "client_secret = \"bd76aa472dd91aed4a56bf1935dbb802583c119824380d8567086579c0ef3324\"\n",
    "#embedding_service_cfg = {\"local\": False, \"url\":\"https://localhost:6464\"}\n",
    "embedding_service_cfg = {\"local\": False, \"url\":\"https://10.132.5.44:6464\", \"client_secret\":client_secret}\n",
    "\n",
    "\n",
    "embedding_service = EmbeddingService(**embedding_service_cfg)\n",
    "embeddings, token_strings, token_embeddings = embedding_service.embed(\n",
    "                texts=df[\"text\"],\n",
    "            )"
   ],
   "outputs": [
    {
     "name": "stderr",
     "output_type": "stream",
     "text": [
      "\u001B[32m2025-03-31 14:29:33.268\u001B[0m | \u001B[34m\u001B[1mDEBUG   \u001B[0m | \u001B[36mbertrend.services.embedding_client\u001B[0m:\u001B[36mget_api_model_name\u001B[0m:\u001B[36m49\u001B[0m - \u001B[34m\u001B[1mModel name: OrdalieTech/Solon-embeddings-large-0.1\u001B[0m\n",
      "\u001B[32m2025-03-31 14:29:33.377\u001B[0m | \u001B[34m\u001B[1mDEBUG   \u001B[0m | \u001B[36mbertrend.services.embedding_client\u001B[0m:\u001B[36mget_num_workers\u001B[0m:\u001B[36m65\u001B[0m - \u001B[34m\u001B[1mNumber of workers: 2\u001B[0m\n",
      "\u001B[32m2025-03-31 14:29:33.381\u001B[0m | \u001B[34m\u001B[1mDEBUG   \u001B[0m | \u001B[36mbertrend.services.embedding_service\u001B[0m:\u001B[36m_remote_embed_documents\u001B[0m:\u001B[36m207\u001B[0m - \u001B[34m\u001B[1mComputing embeddings...\u001B[0m\n",
      "\u001B[32m2025-03-31 14:29:33.383\u001B[0m | \u001B[34m\u001B[1mDEBUG   \u001B[0m | \u001B[36mbertrend.services.embedding_client\u001B[0m:\u001B[36membed_documents\u001B[0m:\u001B[36m124\u001B[0m - \u001B[34m\u001B[1mCalling EmbeddingAPI using model: OrdalieTech/Solon-embeddings-large-0.1\u001B[0m\n",
      "\u001B[32m2025-03-31 14:29:33.384\u001B[0m | \u001B[34m\u001B[1mDEBUG   \u001B[0m | \u001B[36mbertrend.services.embedding_client\u001B[0m:\u001B[36membed_documents\u001B[0m:\u001B[36m128\u001B[0m - \u001B[34m\u001B[1mComputing embeddings on 1000 documents using (1) batches...\u001B[0m\n",
      "2025-03-31 14:29:35.240 | DEBUG    | bertrend.services.embedding_client:embed_batch:94 - Computing embeddings...\n",
      "2025-03-31 14:30:03.776 | DEBUG    | bertrend.services.embedding_client:embed_batch:103 - Computing embeddings done for batch\n"
     ]
    }
   ],
   "execution_count": 8
  },
  {
   "cell_type": "code",
   "id": "72df96f5c7d8d52b",
   "metadata": {
    "ExecuteTime": {
     "end_time": "2025-03-31T12:30:52.488482Z",
     "start_time": "2025-03-31T12:30:52.433864Z"
    }
   },
   "source": [
    "embedding_model_name = embedding_service.embedding_model_name\n"
   ],
   "outputs": [],
   "execution_count": 12
  },
  {
   "cell_type": "markdown",
   "id": "2e94b24d1ef107a2",
   "metadata": {},
   "source": [
    "### 3. Split the data into time slices\n",
    "\n",
    "This can be done manually for some reason or can be done automatically based on a specified time granularity"
   ]
  },
  {
   "cell_type": "code",
   "id": "9ea313bff64c8cce",
   "metadata": {
    "ExecuteTime": {
     "end_time": "2025-03-31T12:30:16.719314Z",
     "start_time": "2025-03-31T12:30:16.611874Z"
    }
   },
   "source": [
    "from bertrend.utils.data_loading import group_by_days, load_data\n",
    "\n",
    "day_granularity = 30\n",
    "grouped_data = group_by_days(df=df, day_granularity=day_granularity)"
   ],
   "outputs": [],
   "execution_count": 9
  },
  {
   "cell_type": "code",
   "id": "a89b3c810c4575bc",
   "metadata": {
    "ExecuteTime": {
     "end_time": "2025-03-31T12:30:18.831456Z",
     "start_time": "2025-03-31T12:30:18.750080Z"
    }
   },
   "source": [
    "# Number of sliced data\n",
    "len(grouped_data)"
   ],
   "outputs": [
    {
     "data": {
      "text/plain": [
       "6"
      ]
     },
     "execution_count": 10,
     "metadata": {},
     "output_type": "execute_result"
    }
   ],
   "execution_count": 10
  },
  {
   "cell_type": "markdown",
   "id": "9d7ffa03a6ed9330",
   "metadata": {},
   "source": [
    "### 4. Train topic models"
   ]
  },
  {
   "cell_type": "code",
   "id": "8e11789ecb115639",
   "metadata": {
    "ExecuteTime": {
     "end_time": "2025-03-31T12:31:03.915310Z",
     "start_time": "2025-03-31T12:30:56.279219Z"
    }
   },
   "source": [
    "bertrend.train_topic_models(grouped_data=grouped_data, embedding_model=embedding_model_name, embeddings=embeddings)"
   ],
   "outputs": [
    {
     "name": "stderr",
     "output_type": "stream",
     "text": [
      "\u001B[32m2025-03-31 14:30:56.334\u001B[0m | \u001B[1mINFO    \u001B[0m | \u001B[36mbertrend.BERTrend\u001B[0m:\u001B[36mtrain_topic_models\u001B[0m:\u001B[36m240\u001B[0m - \u001B[1mTraining topic model 1/6...\u001B[0m\n",
      "\u001B[32m2025-03-31 14:30:56.336\u001B[0m | \u001B[34m\u001B[1mDEBUG   \u001B[0m | \u001B[36mbertrend.BERTrend\u001B[0m:\u001B[36m_train_by_period\u001B[0m:\u001B[36m149\u001B[0m - \u001B[34m\u001B[1mProcessing period: 2017-01-20 00:00:00\u001B[0m\n",
      "\u001B[32m2025-03-31 14:30:56.336\u001B[0m | \u001B[34m\u001B[1mDEBUG   \u001B[0m | \u001B[36mbertrend.BERTrend\u001B[0m:\u001B[36m_train_by_period\u001B[0m:\u001B[36m150\u001B[0m - \u001B[34m\u001B[1mNumber of documents: 184\u001B[0m\n",
      "\u001B[32m2025-03-31 14:30:56.338\u001B[0m | \u001B[34m\u001B[1mDEBUG   \u001B[0m | \u001B[36mbertrend.BERTrend\u001B[0m:\u001B[36m_train_by_period\u001B[0m:\u001B[36m152\u001B[0m - \u001B[34m\u001B[1mCreating topic model...\u001B[0m\n",
      "\u001B[32m2025-03-31 14:30:56.340\u001B[0m | \u001B[34m\u001B[1mDEBUG   \u001B[0m | \u001B[36mbertrend.BERTopicModel\u001B[0m:\u001B[36mfit\u001B[0m:\u001B[36m230\u001B[0m - \u001B[34m\u001B[1m\tInitializing BERTopic model\u001B[0m\n",
      "\u001B[32m2025-03-31 14:30:56.342\u001B[0m | \u001B[32m\u001B[1mSUCCESS \u001B[0m | \u001B[36mbertrend.BERTopicModel\u001B[0m:\u001B[36mfit\u001B[0m:\u001B[36m240\u001B[0m - \u001B[32m\u001B[1m\tBERTopic model instance created successfully\u001B[0m\n",
      "\u001B[32m2025-03-31 14:30:56.348\u001B[0m | \u001B[34m\u001B[1mDEBUG   \u001B[0m | \u001B[36mbertrend.BERTopicModel\u001B[0m:\u001B[36mfit\u001B[0m:\u001B[36m242\u001B[0m - \u001B[34m\u001B[1m\tFitting BERTopic model\u001B[0m\n",
      "2025-03-31 14:30:56,350 - BERTopic - Dimensionality - Fitting the dimensionality reduction algorithm\n",
      "2025-03-31 14:31:02,184 - BERTopic - Dimensionality - Completed ✓\n",
      "2025-03-31 14:31:02,185 - BERTopic - Cluster - Start clustering the reduced embeddings\n",
      "2025-03-31 14:31:02,199 - BERTopic - Cluster - Completed ✓\n",
      "2025-03-31 14:31:02,206 - BERTopic - Representation - Extracting topics from clusters using representation models.\n",
      "2025-03-31 14:31:02,238 - BERTopic - Representation - Completed ✓\n",
      "\u001B[32m2025-03-31 14:31:02.275\u001B[0m | \u001B[34m\u001B[1mDEBUG   \u001B[0m | \u001B[36mbertrend.BERTopicModel\u001B[0m:\u001B[36mfit\u001B[0m:\u001B[36m249\u001B[0m - \u001B[34m\u001B[1m\tReducing outliers\u001B[0m\n",
      "2025-03-31 14:31:02,279 - BERTopic - WARNING: Using a custom list of topic assignments may lead to errors if topic reduction techniques are used afterwards. Make sure that manually assigning topics is the last step in the pipeline.Note that topic embeddings will also be created through weightedc-TF-IDF embeddings instead of centroid embeddings.\n",
      "\u001B[32m2025-03-31 14:31:02.295\u001B[0m | \u001B[32m\u001B[1mSUCCESS \u001B[0m | \u001B[36mbertrend.BERTopicModel\u001B[0m:\u001B[36mfit\u001B[0m:\u001B[36m277\u001B[0m - \u001B[32m\u001B[1m\tBERTopic model fitted successfully\u001B[0m\n",
      "\u001B[32m2025-03-31 14:31:02.296\u001B[0m | \u001B[34m\u001B[1mDEBUG   \u001B[0m | \u001B[36mbertrend.BERTrend\u001B[0m:\u001B[36m_train_by_period\u001B[0m:\u001B[36m158\u001B[0m - \u001B[34m\u001B[1mTopic model created successfully\u001B[0m\n",
      "\u001B[32m2025-03-31 14:31:02.323\u001B[0m | \u001B[34m\u001B[1mDEBUG   \u001B[0m | \u001B[36mbertrend.BERTrend\u001B[0m:\u001B[36mtrain_topic_models\u001B[0m:\u001B[36m263\u001B[0m - \u001B[34m\u001B[1mSuccessfully processed period: 2017-01-20 00:00:00\u001B[0m\n",
      "\u001B[32m2025-03-31 14:31:02.324\u001B[0m | \u001B[1mINFO    \u001B[0m | \u001B[36mbertrend.BERTrend\u001B[0m:\u001B[36mtrain_topic_models\u001B[0m:\u001B[36m240\u001B[0m - \u001B[1mTraining topic model 2/6...\u001B[0m\n",
      "\u001B[32m2025-03-31 14:31:02.325\u001B[0m | \u001B[34m\u001B[1mDEBUG   \u001B[0m | \u001B[36mbertrend.BERTrend\u001B[0m:\u001B[36m_train_by_period\u001B[0m:\u001B[36m149\u001B[0m - \u001B[34m\u001B[1mProcessing period: 2017-02-19 00:00:00\u001B[0m\n",
      "\u001B[32m2025-03-31 14:31:02.326\u001B[0m | \u001B[34m\u001B[1mDEBUG   \u001B[0m | \u001B[36mbertrend.BERTrend\u001B[0m:\u001B[36m_train_by_period\u001B[0m:\u001B[36m150\u001B[0m - \u001B[34m\u001B[1mNumber of documents: 123\u001B[0m\n",
      "\u001B[32m2025-03-31 14:31:02.327\u001B[0m | \u001B[34m\u001B[1mDEBUG   \u001B[0m | \u001B[36mbertrend.BERTrend\u001B[0m:\u001B[36m_train_by_period\u001B[0m:\u001B[36m152\u001B[0m - \u001B[34m\u001B[1mCreating topic model...\u001B[0m\n",
      "\u001B[32m2025-03-31 14:31:02.328\u001B[0m | \u001B[34m\u001B[1mDEBUG   \u001B[0m | \u001B[36mbertrend.BERTopicModel\u001B[0m:\u001B[36mfit\u001B[0m:\u001B[36m230\u001B[0m - \u001B[34m\u001B[1m\tInitializing BERTopic model\u001B[0m\n",
      "\u001B[32m2025-03-31 14:31:02.329\u001B[0m | \u001B[32m\u001B[1mSUCCESS \u001B[0m | \u001B[36mbertrend.BERTopicModel\u001B[0m:\u001B[36mfit\u001B[0m:\u001B[36m240\u001B[0m - \u001B[32m\u001B[1m\tBERTopic model instance created successfully\u001B[0m\n",
      "\u001B[32m2025-03-31 14:31:02.329\u001B[0m | \u001B[34m\u001B[1mDEBUG   \u001B[0m | \u001B[36mbertrend.BERTopicModel\u001B[0m:\u001B[36mfit\u001B[0m:\u001B[36m242\u001B[0m - \u001B[34m\u001B[1m\tFitting BERTopic model\u001B[0m\n",
      "2025-03-31 14:31:02,331 - BERTopic - Dimensionality - Fitting the dimensionality reduction algorithm\n",
      "2025-03-31 14:31:02,479 - BERTopic - Dimensionality - Completed ✓\n",
      "2025-03-31 14:31:02,480 - BERTopic - Cluster - Start clustering the reduced embeddings\n",
      "2025-03-31 14:31:02,486 - BERTopic - Cluster - Completed ✓\n",
      "2025-03-31 14:31:02,490 - BERTopic - Representation - Extracting topics from clusters using representation models.\n",
      "2025-03-31 14:31:02,502 - BERTopic - Representation - Completed ✓\n",
      "\u001B[32m2025-03-31 14:31:02.514\u001B[0m | \u001B[34m\u001B[1mDEBUG   \u001B[0m | \u001B[36mbertrend.BERTopicModel\u001B[0m:\u001B[36mfit\u001B[0m:\u001B[36m249\u001B[0m - \u001B[34m\u001B[1m\tReducing outliers\u001B[0m\n",
      "2025-03-31 14:31:02,516 - BERTopic - WARNING: Using a custom list of topic assignments may lead to errors if topic reduction techniques are used afterwards. Make sure that manually assigning topics is the last step in the pipeline.Note that topic embeddings will also be created through weightedc-TF-IDF embeddings instead of centroid embeddings.\n",
      "\u001B[32m2025-03-31 14:31:02.526\u001B[0m | \u001B[32m\u001B[1mSUCCESS \u001B[0m | \u001B[36mbertrend.BERTopicModel\u001B[0m:\u001B[36mfit\u001B[0m:\u001B[36m277\u001B[0m - \u001B[32m\u001B[1m\tBERTopic model fitted successfully\u001B[0m\n",
      "\u001B[32m2025-03-31 14:31:02.526\u001B[0m | \u001B[34m\u001B[1mDEBUG   \u001B[0m | \u001B[36mbertrend.BERTrend\u001B[0m:\u001B[36m_train_by_period\u001B[0m:\u001B[36m158\u001B[0m - \u001B[34m\u001B[1mTopic model created successfully\u001B[0m\n",
      "\u001B[32m2025-03-31 14:31:02.547\u001B[0m | \u001B[34m\u001B[1mDEBUG   \u001B[0m | \u001B[36mbertrend.BERTrend\u001B[0m:\u001B[36mmerge_models_with\u001B[0m:\u001B[36m281\u001B[0m - \u001B[34m\u001B[1mMerging topic models for timestamps: 2017-01-20 00:00:00 and 2017-02-19 00:00:00\u001B[0m\n",
      "\u001B[32m2025-03-31 14:31:02.571\u001B[0m | \u001B[32m\u001B[1mSUCCESS \u001B[0m | \u001B[36mbertrend.BERTrend\u001B[0m:\u001B[36mmerge_models_with\u001B[0m:\u001B[36m349\u001B[0m - \u001B[32m\u001B[1mModels 2017-02-19 00:00:00 merged successfully with others\u001B[0m\n",
      "\u001B[32m2025-03-31 14:31:02.572\u001B[0m | \u001B[1mINFO    \u001B[0m | \u001B[36mbertrend.BERTrend\u001B[0m:\u001B[36mtrain_topic_models\u001B[0m:\u001B[36m253\u001B[0m - \u001B[1mSaving topic model for period 2017-02-19 00:00:00...\u001B[0m\n",
      "2025-03-31 14:31:02,573 - BERTopic - WARNING: You are saving a BERTopic model without explicitly defining an embedding model.If you are using a sentence-transformers model or a HuggingFace model supportedby sentence-transformers, please save the model by using a pointer towards that model.For example, `save_embedding_model='sentence-transformers/all-mpnet-base-v2'`\n",
      "\u001B[32m2025-03-31 14:31:02.576\u001B[0m | \u001B[34m\u001B[1mDEBUG   \u001B[0m | \u001B[36mbertrend.BERTrend\u001B[0m:\u001B[36mtrain_topic_models\u001B[0m:\u001B[36m263\u001B[0m - \u001B[34m\u001B[1mSuccessfully processed period: 2017-02-19 00:00:00\u001B[0m\n",
      "\u001B[32m2025-03-31 14:31:02.577\u001B[0m | \u001B[1mINFO    \u001B[0m | \u001B[36mbertrend.BERTrend\u001B[0m:\u001B[36mtrain_topic_models\u001B[0m:\u001B[36m240\u001B[0m - \u001B[1mTraining topic model 3/6...\u001B[0m\n",
      "\u001B[32m2025-03-31 14:31:02.579\u001B[0m | \u001B[34m\u001B[1mDEBUG   \u001B[0m | \u001B[36mbertrend.BERTrend\u001B[0m:\u001B[36m_train_by_period\u001B[0m:\u001B[36m149\u001B[0m - \u001B[34m\u001B[1mProcessing period: 2017-03-21 00:00:00\u001B[0m\n",
      "\u001B[32m2025-03-31 14:31:02.580\u001B[0m | \u001B[34m\u001B[1mDEBUG   \u001B[0m | \u001B[36mbertrend.BERTrend\u001B[0m:\u001B[36m_train_by_period\u001B[0m:\u001B[36m150\u001B[0m - \u001B[34m\u001B[1mNumber of documents: 132\u001B[0m\n",
      "\u001B[32m2025-03-31 14:31:02.580\u001B[0m | \u001B[34m\u001B[1mDEBUG   \u001B[0m | \u001B[36mbertrend.BERTrend\u001B[0m:\u001B[36m_train_by_period\u001B[0m:\u001B[36m152\u001B[0m - \u001B[34m\u001B[1mCreating topic model...\u001B[0m\n",
      "\u001B[32m2025-03-31 14:31:02.580\u001B[0m | \u001B[34m\u001B[1mDEBUG   \u001B[0m | \u001B[36mbertrend.BERTopicModel\u001B[0m:\u001B[36mfit\u001B[0m:\u001B[36m230\u001B[0m - \u001B[34m\u001B[1m\tInitializing BERTopic model\u001B[0m\n",
      "\u001B[32m2025-03-31 14:31:02.583\u001B[0m | \u001B[32m\u001B[1mSUCCESS \u001B[0m | \u001B[36mbertrend.BERTopicModel\u001B[0m:\u001B[36mfit\u001B[0m:\u001B[36m240\u001B[0m - \u001B[32m\u001B[1m\tBERTopic model instance created successfully\u001B[0m\n",
      "\u001B[32m2025-03-31 14:31:02.583\u001B[0m | \u001B[34m\u001B[1mDEBUG   \u001B[0m | \u001B[36mbertrend.BERTopicModel\u001B[0m:\u001B[36mfit\u001B[0m:\u001B[36m242\u001B[0m - \u001B[34m\u001B[1m\tFitting BERTopic model\u001B[0m\n",
      "2025-03-31 14:31:02,584 - BERTopic - Dimensionality - Fitting the dimensionality reduction algorithm\n",
      "2025-03-31 14:31:02,739 - BERTopic - Dimensionality - Completed ✓\n",
      "2025-03-31 14:31:02,739 - BERTopic - Cluster - Start clustering the reduced embeddings\n",
      "2025-03-31 14:31:02,746 - BERTopic - Cluster - Completed ✓\n",
      "2025-03-31 14:31:02,748 - BERTopic - Representation - Extracting topics from clusters using representation models.\n",
      "2025-03-31 14:31:02,764 - BERTopic - Representation - Completed ✓\n",
      "\u001B[32m2025-03-31 14:31:02.781\u001B[0m | \u001B[34m\u001B[1mDEBUG   \u001B[0m | \u001B[36mbertrend.BERTopicModel\u001B[0m:\u001B[36mfit\u001B[0m:\u001B[36m249\u001B[0m - \u001B[34m\u001B[1m\tReducing outliers\u001B[0m\n",
      "2025-03-31 14:31:02,783 - BERTopic - WARNING: Using a custom list of topic assignments may lead to errors if topic reduction techniques are used afterwards. Make sure that manually assigning topics is the last step in the pipeline.Note that topic embeddings will also be created through weightedc-TF-IDF embeddings instead of centroid embeddings.\n",
      "\u001B[32m2025-03-31 14:31:02.793\u001B[0m | \u001B[32m\u001B[1mSUCCESS \u001B[0m | \u001B[36mbertrend.BERTopicModel\u001B[0m:\u001B[36mfit\u001B[0m:\u001B[36m277\u001B[0m - \u001B[32m\u001B[1m\tBERTopic model fitted successfully\u001B[0m\n",
      "\u001B[32m2025-03-31 14:31:02.794\u001B[0m | \u001B[34m\u001B[1mDEBUG   \u001B[0m | \u001B[36mbertrend.BERTrend\u001B[0m:\u001B[36m_train_by_period\u001B[0m:\u001B[36m158\u001B[0m - \u001B[34m\u001B[1mTopic model created successfully\u001B[0m\n",
      "\u001B[32m2025-03-31 14:31:02.812\u001B[0m | \u001B[34m\u001B[1mDEBUG   \u001B[0m | \u001B[36mbertrend.BERTrend\u001B[0m:\u001B[36mmerge_models_with\u001B[0m:\u001B[36m281\u001B[0m - \u001B[34m\u001B[1mMerging topic models for timestamps: 2017-02-19 00:00:00 and 2017-03-21 00:00:00\u001B[0m\n",
      "\u001B[32m2025-03-31 14:31:02.828\u001B[0m | \u001B[32m\u001B[1mSUCCESS \u001B[0m | \u001B[36mbertrend.BERTrend\u001B[0m:\u001B[36mmerge_models_with\u001B[0m:\u001B[36m349\u001B[0m - \u001B[32m\u001B[1mModels 2017-03-21 00:00:00 merged successfully with others\u001B[0m\n",
      "\u001B[32m2025-03-31 14:31:02.828\u001B[0m | \u001B[1mINFO    \u001B[0m | \u001B[36mbertrend.BERTrend\u001B[0m:\u001B[36mtrain_topic_models\u001B[0m:\u001B[36m253\u001B[0m - \u001B[1mSaving topic model for period 2017-03-21 00:00:00...\u001B[0m\n",
      "2025-03-31 14:31:02,829 - BERTopic - WARNING: You are saving a BERTopic model without explicitly defining an embedding model.If you are using a sentence-transformers model or a HuggingFace model supportedby sentence-transformers, please save the model by using a pointer towards that model.For example, `save_embedding_model='sentence-transformers/all-mpnet-base-v2'`\n",
      "\u001B[32m2025-03-31 14:31:02.832\u001B[0m | \u001B[34m\u001B[1mDEBUG   \u001B[0m | \u001B[36mbertrend.BERTrend\u001B[0m:\u001B[36mtrain_topic_models\u001B[0m:\u001B[36m263\u001B[0m - \u001B[34m\u001B[1mSuccessfully processed period: 2017-03-21 00:00:00\u001B[0m\n",
      "\u001B[32m2025-03-31 14:31:02.832\u001B[0m | \u001B[1mINFO    \u001B[0m | \u001B[36mbertrend.BERTrend\u001B[0m:\u001B[36mtrain_topic_models\u001B[0m:\u001B[36m240\u001B[0m - \u001B[1mTraining topic model 4/6...\u001B[0m\n",
      "\u001B[32m2025-03-31 14:31:02.834\u001B[0m | \u001B[34m\u001B[1mDEBUG   \u001B[0m | \u001B[36mbertrend.BERTrend\u001B[0m:\u001B[36m_train_by_period\u001B[0m:\u001B[36m149\u001B[0m - \u001B[34m\u001B[1mProcessing period: 2017-04-20 00:00:00\u001B[0m\n",
      "\u001B[32m2025-03-31 14:31:02.834\u001B[0m | \u001B[34m\u001B[1mDEBUG   \u001B[0m | \u001B[36mbertrend.BERTrend\u001B[0m:\u001B[36m_train_by_period\u001B[0m:\u001B[36m150\u001B[0m - \u001B[34m\u001B[1mNumber of documents: 168\u001B[0m\n",
      "\u001B[32m2025-03-31 14:31:02.834\u001B[0m | \u001B[34m\u001B[1mDEBUG   \u001B[0m | \u001B[36mbertrend.BERTrend\u001B[0m:\u001B[36m_train_by_period\u001B[0m:\u001B[36m152\u001B[0m - \u001B[34m\u001B[1mCreating topic model...\u001B[0m\n",
      "\u001B[32m2025-03-31 14:31:02.835\u001B[0m | \u001B[34m\u001B[1mDEBUG   \u001B[0m | \u001B[36mbertrend.BERTopicModel\u001B[0m:\u001B[36mfit\u001B[0m:\u001B[36m230\u001B[0m - \u001B[34m\u001B[1m\tInitializing BERTopic model\u001B[0m\n",
      "\u001B[32m2025-03-31 14:31:02.835\u001B[0m | \u001B[32m\u001B[1mSUCCESS \u001B[0m | \u001B[36mbertrend.BERTopicModel\u001B[0m:\u001B[36mfit\u001B[0m:\u001B[36m240\u001B[0m - \u001B[32m\u001B[1m\tBERTopic model instance created successfully\u001B[0m\n",
      "\u001B[32m2025-03-31 14:31:02.836\u001B[0m | \u001B[34m\u001B[1mDEBUG   \u001B[0m | \u001B[36mbertrend.BERTopicModel\u001B[0m:\u001B[36mfit\u001B[0m:\u001B[36m242\u001B[0m - \u001B[34m\u001B[1m\tFitting BERTopic model\u001B[0m\n",
      "2025-03-31 14:31:02,837 - BERTopic - Dimensionality - Fitting the dimensionality reduction algorithm\n",
      "2025-03-31 14:31:03,034 - BERTopic - Dimensionality - Completed ✓\n",
      "2025-03-31 14:31:03,035 - BERTopic - Cluster - Start clustering the reduced embeddings\n",
      "2025-03-31 14:31:03,043 - BERTopic - Cluster - Completed ✓\n",
      "2025-03-31 14:31:03,046 - BERTopic - Representation - Extracting topics from clusters using representation models.\n",
      "2025-03-31 14:31:03,061 - BERTopic - Representation - Completed ✓\n",
      "\u001B[32m2025-03-31 14:31:03.079\u001B[0m | \u001B[34m\u001B[1mDEBUG   \u001B[0m | \u001B[36mbertrend.BERTopicModel\u001B[0m:\u001B[36mfit\u001B[0m:\u001B[36m249\u001B[0m - \u001B[34m\u001B[1m\tReducing outliers\u001B[0m\n",
      "2025-03-31 14:31:03,082 - BERTopic - WARNING: Using a custom list of topic assignments may lead to errors if topic reduction techniques are used afterwards. Make sure that manually assigning topics is the last step in the pipeline.Note that topic embeddings will also be created through weightedc-TF-IDF embeddings instead of centroid embeddings.\n",
      "\u001B[32m2025-03-31 14:31:03.095\u001B[0m | \u001B[32m\u001B[1mSUCCESS \u001B[0m | \u001B[36mbertrend.BERTopicModel\u001B[0m:\u001B[36mfit\u001B[0m:\u001B[36m277\u001B[0m - \u001B[32m\u001B[1m\tBERTopic model fitted successfully\u001B[0m\n",
      "\u001B[32m2025-03-31 14:31:03.096\u001B[0m | \u001B[34m\u001B[1mDEBUG   \u001B[0m | \u001B[36mbertrend.BERTrend\u001B[0m:\u001B[36m_train_by_period\u001B[0m:\u001B[36m158\u001B[0m - \u001B[34m\u001B[1mTopic model created successfully\u001B[0m\n",
      "\u001B[32m2025-03-31 14:31:03.112\u001B[0m | \u001B[34m\u001B[1mDEBUG   \u001B[0m | \u001B[36mbertrend.BERTrend\u001B[0m:\u001B[36mmerge_models_with\u001B[0m:\u001B[36m281\u001B[0m - \u001B[34m\u001B[1mMerging topic models for timestamps: 2017-03-21 00:00:00 and 2017-04-20 00:00:00\u001B[0m\n",
      "\u001B[32m2025-03-31 14:31:03.133\u001B[0m | \u001B[32m\u001B[1mSUCCESS \u001B[0m | \u001B[36mbertrend.BERTrend\u001B[0m:\u001B[36mmerge_models_with\u001B[0m:\u001B[36m349\u001B[0m - \u001B[32m\u001B[1mModels 2017-04-20 00:00:00 merged successfully with others\u001B[0m\n",
      "\u001B[32m2025-03-31 14:31:03.134\u001B[0m | \u001B[1mINFO    \u001B[0m | \u001B[36mbertrend.BERTrend\u001B[0m:\u001B[36mtrain_topic_models\u001B[0m:\u001B[36m253\u001B[0m - \u001B[1mSaving topic model for period 2017-04-20 00:00:00...\u001B[0m\n",
      "2025-03-31 14:31:03,138 - BERTopic - WARNING: You are saving a BERTopic model without explicitly defining an embedding model.If you are using a sentence-transformers model or a HuggingFace model supportedby sentence-transformers, please save the model by using a pointer towards that model.For example, `save_embedding_model='sentence-transformers/all-mpnet-base-v2'`\n",
      "\u001B[32m2025-03-31 14:31:03.143\u001B[0m | \u001B[34m\u001B[1mDEBUG   \u001B[0m | \u001B[36mbertrend.BERTrend\u001B[0m:\u001B[36mtrain_topic_models\u001B[0m:\u001B[36m263\u001B[0m - \u001B[34m\u001B[1mSuccessfully processed period: 2017-04-20 00:00:00\u001B[0m\n",
      "\u001B[32m2025-03-31 14:31:03.144\u001B[0m | \u001B[1mINFO    \u001B[0m | \u001B[36mbertrend.BERTrend\u001B[0m:\u001B[36mtrain_topic_models\u001B[0m:\u001B[36m240\u001B[0m - \u001B[1mTraining topic model 5/6...\u001B[0m\n",
      "\u001B[32m2025-03-31 14:31:03.145\u001B[0m | \u001B[34m\u001B[1mDEBUG   \u001B[0m | \u001B[36mbertrend.BERTrend\u001B[0m:\u001B[36m_train_by_period\u001B[0m:\u001B[36m149\u001B[0m - \u001B[34m\u001B[1mProcessing period: 2017-05-20 00:00:00\u001B[0m\n",
      "\u001B[32m2025-03-31 14:31:03.146\u001B[0m | \u001B[34m\u001B[1mDEBUG   \u001B[0m | \u001B[36mbertrend.BERTrend\u001B[0m:\u001B[36m_train_by_period\u001B[0m:\u001B[36m150\u001B[0m - \u001B[34m\u001B[1mNumber of documents: 161\u001B[0m\n",
      "\u001B[32m2025-03-31 14:31:03.146\u001B[0m | \u001B[34m\u001B[1mDEBUG   \u001B[0m | \u001B[36mbertrend.BERTrend\u001B[0m:\u001B[36m_train_by_period\u001B[0m:\u001B[36m152\u001B[0m - \u001B[34m\u001B[1mCreating topic model...\u001B[0m\n",
      "\u001B[32m2025-03-31 14:31:03.147\u001B[0m | \u001B[34m\u001B[1mDEBUG   \u001B[0m | \u001B[36mbertrend.BERTopicModel\u001B[0m:\u001B[36mfit\u001B[0m:\u001B[36m230\u001B[0m - \u001B[34m\u001B[1m\tInitializing BERTopic model\u001B[0m\n",
      "\u001B[32m2025-03-31 14:31:03.148\u001B[0m | \u001B[32m\u001B[1mSUCCESS \u001B[0m | \u001B[36mbertrend.BERTopicModel\u001B[0m:\u001B[36mfit\u001B[0m:\u001B[36m240\u001B[0m - \u001B[32m\u001B[1m\tBERTopic model instance created successfully\u001B[0m\n",
      "\u001B[32m2025-03-31 14:31:03.148\u001B[0m | \u001B[34m\u001B[1mDEBUG   \u001B[0m | \u001B[36mbertrend.BERTopicModel\u001B[0m:\u001B[36mfit\u001B[0m:\u001B[36m242\u001B[0m - \u001B[34m\u001B[1m\tFitting BERTopic model\u001B[0m\n",
      "2025-03-31 14:31:03,149 - BERTopic - Dimensionality - Fitting the dimensionality reduction algorithm\n",
      "2025-03-31 14:31:03,345 - BERTopic - Dimensionality - Completed ✓\n",
      "2025-03-31 14:31:03,346 - BERTopic - Cluster - Start clustering the reduced embeddings\n",
      "2025-03-31 14:31:03,354 - BERTopic - Cluster - Completed ✓\n",
      "2025-03-31 14:31:03,356 - BERTopic - Representation - Extracting topics from clusters using representation models.\n",
      "2025-03-31 14:31:03,384 - BERTopic - Representation - Completed ✓\n",
      "\u001B[32m2025-03-31 14:31:03.411\u001B[0m | \u001B[34m\u001B[1mDEBUG   \u001B[0m | \u001B[36mbertrend.BERTopicModel\u001B[0m:\u001B[36mfit\u001B[0m:\u001B[36m249\u001B[0m - \u001B[34m\u001B[1m\tReducing outliers\u001B[0m\n",
      "2025-03-31 14:31:03,413 - BERTopic - WARNING: Using a custom list of topic assignments may lead to errors if topic reduction techniques are used afterwards. Make sure that manually assigning topics is the last step in the pipeline.Note that topic embeddings will also be created through weightedc-TF-IDF embeddings instead of centroid embeddings.\n",
      "\u001B[32m2025-03-31 14:31:03.431\u001B[0m | \u001B[32m\u001B[1mSUCCESS \u001B[0m | \u001B[36mbertrend.BERTopicModel\u001B[0m:\u001B[36mfit\u001B[0m:\u001B[36m277\u001B[0m - \u001B[32m\u001B[1m\tBERTopic model fitted successfully\u001B[0m\n",
      "\u001B[32m2025-03-31 14:31:03.432\u001B[0m | \u001B[34m\u001B[1mDEBUG   \u001B[0m | \u001B[36mbertrend.BERTrend\u001B[0m:\u001B[36m_train_by_period\u001B[0m:\u001B[36m158\u001B[0m - \u001B[34m\u001B[1mTopic model created successfully\u001B[0m\n",
      "\u001B[32m2025-03-31 14:31:03.452\u001B[0m | \u001B[34m\u001B[1mDEBUG   \u001B[0m | \u001B[36mbertrend.BERTrend\u001B[0m:\u001B[36mmerge_models_with\u001B[0m:\u001B[36m281\u001B[0m - \u001B[34m\u001B[1mMerging topic models for timestamps: 2017-04-20 00:00:00 and 2017-05-20 00:00:00\u001B[0m\n",
      "\u001B[32m2025-03-31 14:31:03.476\u001B[0m | \u001B[32m\u001B[1mSUCCESS \u001B[0m | \u001B[36mbertrend.BERTrend\u001B[0m:\u001B[36mmerge_models_with\u001B[0m:\u001B[36m349\u001B[0m - \u001B[32m\u001B[1mModels 2017-05-20 00:00:00 merged successfully with others\u001B[0m\n",
      "\u001B[32m2025-03-31 14:31:03.476\u001B[0m | \u001B[1mINFO    \u001B[0m | \u001B[36mbertrend.BERTrend\u001B[0m:\u001B[36mtrain_topic_models\u001B[0m:\u001B[36m253\u001B[0m - \u001B[1mSaving topic model for period 2017-05-20 00:00:00...\u001B[0m\n",
      "2025-03-31 14:31:03,477 - BERTopic - WARNING: You are saving a BERTopic model without explicitly defining an embedding model.If you are using a sentence-transformers model or a HuggingFace model supportedby sentence-transformers, please save the model by using a pointer towards that model.For example, `save_embedding_model='sentence-transformers/all-mpnet-base-v2'`\n",
      "\u001B[32m2025-03-31 14:31:03.480\u001B[0m | \u001B[34m\u001B[1mDEBUG   \u001B[0m | \u001B[36mbertrend.BERTrend\u001B[0m:\u001B[36mtrain_topic_models\u001B[0m:\u001B[36m263\u001B[0m - \u001B[34m\u001B[1mSuccessfully processed period: 2017-05-20 00:00:00\u001B[0m\n",
      "\u001B[32m2025-03-31 14:31:03.481\u001B[0m | \u001B[1mINFO    \u001B[0m | \u001B[36mbertrend.BERTrend\u001B[0m:\u001B[36mtrain_topic_models\u001B[0m:\u001B[36m240\u001B[0m - \u001B[1mTraining topic model 6/6...\u001B[0m\n",
      "\u001B[32m2025-03-31 14:31:03.483\u001B[0m | \u001B[34m\u001B[1mDEBUG   \u001B[0m | \u001B[36mbertrend.BERTrend\u001B[0m:\u001B[36m_train_by_period\u001B[0m:\u001B[36m149\u001B[0m - \u001B[34m\u001B[1mProcessing period: 2017-06-19 00:00:00\u001B[0m\n",
      "\u001B[32m2025-03-31 14:31:03.483\u001B[0m | \u001B[34m\u001B[1mDEBUG   \u001B[0m | \u001B[36mbertrend.BERTrend\u001B[0m:\u001B[36m_train_by_period\u001B[0m:\u001B[36m150\u001B[0m - \u001B[34m\u001B[1mNumber of documents: 232\u001B[0m\n",
      "\u001B[32m2025-03-31 14:31:03.484\u001B[0m | \u001B[34m\u001B[1mDEBUG   \u001B[0m | \u001B[36mbertrend.BERTrend\u001B[0m:\u001B[36m_train_by_period\u001B[0m:\u001B[36m152\u001B[0m - \u001B[34m\u001B[1mCreating topic model...\u001B[0m\n",
      "\u001B[32m2025-03-31 14:31:03.484\u001B[0m | \u001B[34m\u001B[1mDEBUG   \u001B[0m | \u001B[36mbertrend.BERTopicModel\u001B[0m:\u001B[36mfit\u001B[0m:\u001B[36m230\u001B[0m - \u001B[34m\u001B[1m\tInitializing BERTopic model\u001B[0m\n",
      "\u001B[32m2025-03-31 14:31:03.485\u001B[0m | \u001B[32m\u001B[1mSUCCESS \u001B[0m | \u001B[36mbertrend.BERTopicModel\u001B[0m:\u001B[36mfit\u001B[0m:\u001B[36m240\u001B[0m - \u001B[32m\u001B[1m\tBERTopic model instance created successfully\u001B[0m\n",
      "\u001B[32m2025-03-31 14:31:03.485\u001B[0m | \u001B[34m\u001B[1mDEBUG   \u001B[0m | \u001B[36mbertrend.BERTopicModel\u001B[0m:\u001B[36mfit\u001B[0m:\u001B[36m242\u001B[0m - \u001B[34m\u001B[1m\tFitting BERTopic model\u001B[0m\n",
      "2025-03-31 14:31:03,486 - BERTopic - Dimensionality - Fitting the dimensionality reduction algorithm\n",
      "2025-03-31 14:31:03,773 - BERTopic - Dimensionality - Completed ✓\n",
      "2025-03-31 14:31:03,773 - BERTopic - Cluster - Start clustering the reduced embeddings\n",
      "2025-03-31 14:31:03,782 - BERTopic - Cluster - Completed ✓\n",
      "2025-03-31 14:31:03,784 - BERTopic - Representation - Extracting topics from clusters using representation models.\n",
      "2025-03-31 14:31:03,804 - BERTopic - Representation - Completed ✓\n",
      "\u001B[32m2025-03-31 14:31:03.842\u001B[0m | \u001B[34m\u001B[1mDEBUG   \u001B[0m | \u001B[36mbertrend.BERTopicModel\u001B[0m:\u001B[36mfit\u001B[0m:\u001B[36m249\u001B[0m - \u001B[34m\u001B[1m\tReducing outliers\u001B[0m\n",
      "2025-03-31 14:31:03,844 - BERTopic - WARNING: Using a custom list of topic assignments may lead to errors if topic reduction techniques are used afterwards. Make sure that manually assigning topics is the last step in the pipeline.Note that topic embeddings will also be created through weightedc-TF-IDF embeddings instead of centroid embeddings.\n",
      "\u001B[32m2025-03-31 14:31:03.860\u001B[0m | \u001B[32m\u001B[1mSUCCESS \u001B[0m | \u001B[36mbertrend.BERTopicModel\u001B[0m:\u001B[36mfit\u001B[0m:\u001B[36m277\u001B[0m - \u001B[32m\u001B[1m\tBERTopic model fitted successfully\u001B[0m\n",
      "\u001B[32m2025-03-31 14:31:03.861\u001B[0m | \u001B[34m\u001B[1mDEBUG   \u001B[0m | \u001B[36mbertrend.BERTrend\u001B[0m:\u001B[36m_train_by_period\u001B[0m:\u001B[36m158\u001B[0m - \u001B[34m\u001B[1mTopic model created successfully\u001B[0m\n",
      "\u001B[32m2025-03-31 14:31:03.877\u001B[0m | \u001B[34m\u001B[1mDEBUG   \u001B[0m | \u001B[36mbertrend.BERTrend\u001B[0m:\u001B[36mmerge_models_with\u001B[0m:\u001B[36m281\u001B[0m - \u001B[34m\u001B[1mMerging topic models for timestamps: 2017-05-20 00:00:00 and 2017-06-19 00:00:00\u001B[0m\n",
      "\u001B[32m2025-03-31 14:31:03.904\u001B[0m | \u001B[32m\u001B[1mSUCCESS \u001B[0m | \u001B[36mbertrend.BERTrend\u001B[0m:\u001B[36mmerge_models_with\u001B[0m:\u001B[36m349\u001B[0m - \u001B[32m\u001B[1mModels 2017-06-19 00:00:00 merged successfully with others\u001B[0m\n",
      "\u001B[32m2025-03-31 14:31:03.904\u001B[0m | \u001B[1mINFO    \u001B[0m | \u001B[36mbertrend.BERTrend\u001B[0m:\u001B[36mtrain_topic_models\u001B[0m:\u001B[36m253\u001B[0m - \u001B[1mSaving topic model for period 2017-06-19 00:00:00...\u001B[0m\n",
      "2025-03-31 14:31:03,907 - BERTopic - WARNING: You are saving a BERTopic model without explicitly defining an embedding model.If you are using a sentence-transformers model or a HuggingFace model supportedby sentence-transformers, please save the model by using a pointer towards that model.For example, `save_embedding_model='sentence-transformers/all-mpnet-base-v2'`\n",
      "\u001B[32m2025-03-31 14:31:03.911\u001B[0m | \u001B[34m\u001B[1mDEBUG   \u001B[0m | \u001B[36mbertrend.BERTrend\u001B[0m:\u001B[36mtrain_topic_models\u001B[0m:\u001B[36m263\u001B[0m - \u001B[34m\u001B[1mSuccessfully processed period: 2017-06-19 00:00:00\u001B[0m\n",
      "\u001B[32m2025-03-31 14:31:03.911\u001B[0m | \u001B[32m\u001B[1mSUCCESS \u001B[0m | \u001B[36mbertrend.BERTrend\u001B[0m:\u001B[36mtrain_topic_models\u001B[0m:\u001B[36m272\u001B[0m - \u001B[32m\u001B[1mFinished training all topic models\u001B[0m\n"
     ]
    }
   ],
   "execution_count": 13
  },
  {
   "cell_type": "markdown",
   "id": "855c151c8cd9f93d",
   "metadata": {},
   "source": [
    "### 5. (Optional) Save trained_models"
   ]
  },
  {
   "cell_type": "code",
   "id": "2a54146c6b5f591b",
   "metadata": {
    "scrolled": true,
    "ExecuteTime": {
     "end_time": "2025-03-31T12:31:19.788347Z",
     "start_time": "2025-03-31T12:31:19.667884Z"
    }
   },
   "source": "bertrend.save_model()",
   "outputs": [
    {
     "name": "stderr",
     "output_type": "stream",
     "text": [
      "\u001B[32m2025-03-31 14:31:19.783\u001B[0m | \u001B[1mINFO    \u001B[0m | \u001B[36mbertrend.BERTrend\u001B[0m:\u001B[36msave_model\u001B[0m:\u001B[36m623\u001B[0m - \u001B[1mBERTrend model saved to: /home/jerome/dev/cache/models\u001B[0m\n"
     ]
    }
   ],
   "execution_count": 14
  },
  {
   "cell_type": "markdown",
   "id": "d5cbf21f65102cd5",
   "metadata": {},
   "source": [
    "### 7. Calculate signal popularity"
   ]
  },
  {
   "cell_type": "code",
   "id": "94859eb8b9944224",
   "metadata": {
    "ExecuteTime": {
     "end_time": "2025-03-31T12:32:07.956333Z",
     "start_time": "2025-03-31T12:32:07.637211Z"
    }
   },
   "source": [
    "bertrend.calculate_signal_popularity()"
   ],
   "outputs": [],
   "execution_count": 16
  },
  {
   "cell_type": "code",
   "id": "dcba20eeaef6b472",
   "metadata": {
    "ExecuteTime": {
     "end_time": "2025-03-31T12:36:41.543075Z",
     "start_time": "2025-03-31T12:36:41.367001Z"
    }
   },
   "source": [
    "window_size = 30\n",
    "\n",
    "# List of strong and weak signals over time\n",
    "for ts in bertrend.doc_groups.keys():\n",
    "    print(ts)\n",
    "    noise_topics_df, weak_signal_topics_df, strong_signal_topics_df = bertrend.classify_signals(window_size, ts)\n",
    "    if not weak_signal_topics_df.empty:\n",
    "        print(\"Weak signals\")\n",
    "        display(weak_signal_topics_df[[\"Topic\",\"Representation\"]].head(5))\n",
    "    if not strong_signal_topics_df.empty:\n",
    "        print(\"Strong signals\")\n",
    "        display(strong_signal_topics_df[[\"Topic\",\"Representation\"]].head(5))\n",
    "    print()\n"
   ],
   "outputs": [
    {
     "name": "stdout",
     "output_type": "stream",
     "text": [
      "2017-01-20 00:00:00\n",
      "Strong signals\n"
     ]
    },
    {
     "data": {
      "text/plain": [
       "   Topic                                     Representation\n",
       "0      0  will_healthcare_disaster_together_coming_getti...\n",
       "1      1         great_at_to_in_rt_you_the_of_meeting_again"
      ],
      "text/html": [
       "<div>\n",
       "<style scoped>\n",
       "    .dataframe tbody tr th:only-of-type {\n",
       "        vertical-align: middle;\n",
       "    }\n",
       "\n",
       "    .dataframe tbody tr th {\n",
       "        vertical-align: top;\n",
       "    }\n",
       "\n",
       "    .dataframe thead th {\n",
       "        text-align: right;\n",
       "    }\n",
       "</style>\n",
       "<table border=\"1\" class=\"dataframe\">\n",
       "  <thead>\n",
       "    <tr style=\"text-align: right;\">\n",
       "      <th></th>\n",
       "      <th>Topic</th>\n",
       "      <th>Representation</th>\n",
       "    </tr>\n",
       "  </thead>\n",
       "  <tbody>\n",
       "    <tr>\n",
       "      <th>0</th>\n",
       "      <td>0</td>\n",
       "      <td>will_healthcare_disaster_together_coming_getti...</td>\n",
       "    </tr>\n",
       "    <tr>\n",
       "      <th>1</th>\n",
       "      <td>1</td>\n",
       "      <td>great_at_to_in_rt_you_the_of_meeting_again</td>\n",
       "    </tr>\n",
       "  </tbody>\n",
       "</table>\n",
       "</div>"
      ]
     },
     "metadata": {},
     "output_type": "display_data"
    },
    {
     "name": "stdout",
     "output_type": "stream",
     "text": [
      "\n",
      "2017-02-19 00:00:00\n",
      "Weak signals\n"
     ]
    },
    {
     "data": {
      "text/plain": [
       "   Topic                                     Representation\n",
       "0      0  win_republicans_now_in_for_your_immigration_wh...\n",
       "1      1      our_today_jobs_american_to_you_great_it_we_of"
      ],
      "text/html": [
       "<div>\n",
       "<style scoped>\n",
       "    .dataframe tbody tr th:only-of-type {\n",
       "        vertical-align: middle;\n",
       "    }\n",
       "\n",
       "    .dataframe tbody tr th {\n",
       "        vertical-align: top;\n",
       "    }\n",
       "\n",
       "    .dataframe thead th {\n",
       "        text-align: right;\n",
       "    }\n",
       "</style>\n",
       "<table border=\"1\" class=\"dataframe\">\n",
       "  <thead>\n",
       "    <tr style=\"text-align: right;\">\n",
       "      <th></th>\n",
       "      <th>Topic</th>\n",
       "      <th>Representation</th>\n",
       "    </tr>\n",
       "  </thead>\n",
       "  <tbody>\n",
       "    <tr>\n",
       "      <th>0</th>\n",
       "      <td>0</td>\n",
       "      <td>win_republicans_now_in_for_your_immigration_wh...</td>\n",
       "    </tr>\n",
       "    <tr>\n",
       "      <th>1</th>\n",
       "      <td>1</td>\n",
       "      <td>our_today_jobs_american_to_you_great_it_we_of</td>\n",
       "    </tr>\n",
       "  </tbody>\n",
       "</table>\n",
       "</div>"
      ]
     },
     "metadata": {},
     "output_type": "display_data"
    },
    {
     "name": "stdout",
     "output_type": "stream",
     "text": [
      "\n",
      "2017-03-21 00:00:00\n",
      "Weak signals\n"
     ]
    },
    {
     "data": {
      "text/plain": [
       "   Topic                                     Representation\n",
       "0      4  big_night_forward_foxnews_saturday_state_looki...\n",
       "1     10  healthcare_obamacare_plan_dead_you_down_is_wil..."
      ],
      "text/html": [
       "<div>\n",
       "<style scoped>\n",
       "    .dataframe tbody tr th:only-of-type {\n",
       "        vertical-align: middle;\n",
       "    }\n",
       "\n",
       "    .dataframe tbody tr th {\n",
       "        vertical-align: top;\n",
       "    }\n",
       "\n",
       "    .dataframe thead th {\n",
       "        text-align: right;\n",
       "    }\n",
       "</style>\n",
       "<table border=\"1\" class=\"dataframe\">\n",
       "  <thead>\n",
       "    <tr style=\"text-align: right;\">\n",
       "      <th></th>\n",
       "      <th>Topic</th>\n",
       "      <th>Representation</th>\n",
       "    </tr>\n",
       "  </thead>\n",
       "  <tbody>\n",
       "    <tr>\n",
       "      <th>0</th>\n",
       "      <td>4</td>\n",
       "      <td>big_night_forward_foxnews_saturday_state_looki...</td>\n",
       "    </tr>\n",
       "    <tr>\n",
       "      <th>1</th>\n",
       "      <td>10</td>\n",
       "      <td>healthcare_obamacare_plan_dead_you_down_is_wil...</td>\n",
       "    </tr>\n",
       "  </tbody>\n",
       "</table>\n",
       "</div>"
      ]
     },
     "metadata": {},
     "output_type": "display_data"
    },
    {
     "name": "stdout",
     "output_type": "stream",
     "text": [
      "Strong signals\n"
     ]
    },
    {
     "data": {
      "text/plain": [
       "   Topic                                     Representation\n",
       "0      0  media_fake_said_news_been_vote_almost_nothing_...\n",
       "1      1  today_order_an_on_at_rt_presidential_to_of_pre...\n",
       "2      2  democrats_from_want_our_wall_insurance_compani..."
      ],
      "text/html": [
       "<div>\n",
       "<style scoped>\n",
       "    .dataframe tbody tr th:only-of-type {\n",
       "        vertical-align: middle;\n",
       "    }\n",
       "\n",
       "    .dataframe tbody tr th {\n",
       "        vertical-align: top;\n",
       "    }\n",
       "\n",
       "    .dataframe thead th {\n",
       "        text-align: right;\n",
       "    }\n",
       "</style>\n",
       "<table border=\"1\" class=\"dataframe\">\n",
       "  <thead>\n",
       "    <tr style=\"text-align: right;\">\n",
       "      <th></th>\n",
       "      <th>Topic</th>\n",
       "      <th>Representation</th>\n",
       "    </tr>\n",
       "  </thead>\n",
       "  <tbody>\n",
       "    <tr>\n",
       "      <th>0</th>\n",
       "      <td>0</td>\n",
       "      <td>media_fake_said_news_been_vote_almost_nothing_...</td>\n",
       "    </tr>\n",
       "    <tr>\n",
       "      <th>1</th>\n",
       "      <td>1</td>\n",
       "      <td>today_order_an_on_at_rt_presidential_to_of_pre...</td>\n",
       "    </tr>\n",
       "    <tr>\n",
       "      <th>2</th>\n",
       "      <td>2</td>\n",
       "      <td>democrats_from_want_our_wall_insurance_compani...</td>\n",
       "    </tr>\n",
       "  </tbody>\n",
       "</table>\n",
       "</div>"
      ]
     },
     "metadata": {},
     "output_type": "display_data"
    },
    {
     "name": "stdout",
     "output_type": "stream",
     "text": [
      "\n",
      "2017-04-20 00:00:00\n",
      "Weak signals\n"
     ]
    },
    {
     "data": {
      "text/plain": [
       "   Topic                                     Representation\n",
       "0      2  people_help_against_we_it_down_an_air_country_...\n",
       "1      4  g7_arrived_just_jobs_usa_trip_dollars_terroris...\n",
       "2      8  nato_they_arabia_middle_countries_saudi_east_t...\n",
       "3      9  healthcare_republicans_tax_get_big_cuts_republ..."
      ],
      "text/html": [
       "<div>\n",
       "<style scoped>\n",
       "    .dataframe tbody tr th:only-of-type {\n",
       "        vertical-align: middle;\n",
       "    }\n",
       "\n",
       "    .dataframe tbody tr th {\n",
       "        vertical-align: top;\n",
       "    }\n",
       "\n",
       "    .dataframe thead th {\n",
       "        text-align: right;\n",
       "    }\n",
       "</style>\n",
       "<table border=\"1\" class=\"dataframe\">\n",
       "  <thead>\n",
       "    <tr style=\"text-align: right;\">\n",
       "      <th></th>\n",
       "      <th>Topic</th>\n",
       "      <th>Representation</th>\n",
       "    </tr>\n",
       "  </thead>\n",
       "  <tbody>\n",
       "    <tr>\n",
       "      <th>0</th>\n",
       "      <td>2</td>\n",
       "      <td>people_help_against_we_it_down_an_air_country_...</td>\n",
       "    </tr>\n",
       "    <tr>\n",
       "      <th>1</th>\n",
       "      <td>4</td>\n",
       "      <td>g7_arrived_just_jobs_usa_trip_dollars_terroris...</td>\n",
       "    </tr>\n",
       "    <tr>\n",
       "      <th>2</th>\n",
       "      <td>8</td>\n",
       "      <td>nato_they_arabia_middle_countries_saudi_east_t...</td>\n",
       "    </tr>\n",
       "    <tr>\n",
       "      <th>3</th>\n",
       "      <td>9</td>\n",
       "      <td>healthcare_republicans_tax_get_big_cuts_republ...</td>\n",
       "    </tr>\n",
       "  </tbody>\n",
       "</table>\n",
       "</div>"
      ]
     },
     "metadata": {},
     "output_type": "display_data"
    },
    {
     "name": "stdout",
     "output_type": "stream",
     "text": [
      "Strong signals\n"
     ]
    },
    {
     "data": {
      "text/plain": [
       "   Topic                                     Representation\n",
       "0      0          news_media_dems_by_are_so_was_no_now_dont\n",
       "1      1  decision_deal_better_workers_support_make_rt_w..."
      ],
      "text/html": [
       "<div>\n",
       "<style scoped>\n",
       "    .dataframe tbody tr th:only-of-type {\n",
       "        vertical-align: middle;\n",
       "    }\n",
       "\n",
       "    .dataframe tbody tr th {\n",
       "        vertical-align: top;\n",
       "    }\n",
       "\n",
       "    .dataframe thead th {\n",
       "        text-align: right;\n",
       "    }\n",
       "</style>\n",
       "<table border=\"1\" class=\"dataframe\">\n",
       "  <thead>\n",
       "    <tr style=\"text-align: right;\">\n",
       "      <th></th>\n",
       "      <th>Topic</th>\n",
       "      <th>Representation</th>\n",
       "    </tr>\n",
       "  </thead>\n",
       "  <tbody>\n",
       "    <tr>\n",
       "      <th>0</th>\n",
       "      <td>0</td>\n",
       "      <td>news_media_dems_by_are_so_was_no_now_dont</td>\n",
       "    </tr>\n",
       "    <tr>\n",
       "      <th>1</th>\n",
       "      <td>1</td>\n",
       "      <td>decision_deal_better_workers_support_make_rt_w...</td>\n",
       "    </tr>\n",
       "  </tbody>\n",
       "</table>\n",
       "</div>"
      ]
     },
     "metadata": {},
     "output_type": "display_data"
    },
    {
     "name": "stdout",
     "output_type": "stream",
     "text": [
      "\n",
      "2017-05-20 00:00:00\n",
      "Weak signals\n"
     ]
    },
    {
     "data": {
      "text/plain": [
       "   Topic                                     Representation\n",
       "0     12  georgia_gop_foxnews_you_thank_congressional_ha..."
      ],
      "text/html": [
       "<div>\n",
       "<style scoped>\n",
       "    .dataframe tbody tr th:only-of-type {\n",
       "        vertical-align: middle;\n",
       "    }\n",
       "\n",
       "    .dataframe tbody tr th {\n",
       "        vertical-align: top;\n",
       "    }\n",
       "\n",
       "    .dataframe thead th {\n",
       "        text-align: right;\n",
       "    }\n",
       "</style>\n",
       "<table border=\"1\" class=\"dataframe\">\n",
       "  <thead>\n",
       "    <tr style=\"text-align: right;\">\n",
       "      <th></th>\n",
       "      <th>Topic</th>\n",
       "      <th>Representation</th>\n",
       "    </tr>\n",
       "  </thead>\n",
       "  <tbody>\n",
       "    <tr>\n",
       "      <th>0</th>\n",
       "      <td>12</td>\n",
       "      <td>georgia_gop_foxnews_you_thank_congressional_ha...</td>\n",
       "    </tr>\n",
       "  </tbody>\n",
       "</table>\n",
       "</div>"
      ]
     },
     "metadata": {},
     "output_type": "display_data"
    },
    {
     "name": "stdout",
     "output_type": "stream",
     "text": [
      "Strong signals\n"
     ]
    },
    {
     "data": {
      "text/plain": [
       "   Topic                                     Representation\n",
       "0      0       fbi_why_dem_cia_give_asked_her_were_its_away\n",
       "1      1  realdonaldtrump_potus_like_rt_an_address_end_f...\n",
       "2      3  obama_meddling_election_nothing_2016_russia_ru...\n",
       "3      7  north_trade_this_south_meeting_uswomensopen_de...\n",
       "4      9  democrats_healthcare_they_would_dems_work_as_s..."
      ],
      "text/html": [
       "<div>\n",
       "<style scoped>\n",
       "    .dataframe tbody tr th:only-of-type {\n",
       "        vertical-align: middle;\n",
       "    }\n",
       "\n",
       "    .dataframe tbody tr th {\n",
       "        vertical-align: top;\n",
       "    }\n",
       "\n",
       "    .dataframe thead th {\n",
       "        text-align: right;\n",
       "    }\n",
       "</style>\n",
       "<table border=\"1\" class=\"dataframe\">\n",
       "  <thead>\n",
       "    <tr style=\"text-align: right;\">\n",
       "      <th></th>\n",
       "      <th>Topic</th>\n",
       "      <th>Representation</th>\n",
       "    </tr>\n",
       "  </thead>\n",
       "  <tbody>\n",
       "    <tr>\n",
       "      <th>0</th>\n",
       "      <td>0</td>\n",
       "      <td>fbi_why_dem_cia_give_asked_her_were_its_away</td>\n",
       "    </tr>\n",
       "    <tr>\n",
       "      <th>1</th>\n",
       "      <td>1</td>\n",
       "      <td>realdonaldtrump_potus_like_rt_an_address_end_f...</td>\n",
       "    </tr>\n",
       "    <tr>\n",
       "      <th>2</th>\n",
       "      <td>3</td>\n",
       "      <td>obama_meddling_election_nothing_2016_russia_ru...</td>\n",
       "    </tr>\n",
       "    <tr>\n",
       "      <th>3</th>\n",
       "      <td>7</td>\n",
       "      <td>north_trade_this_south_meeting_uswomensopen_de...</td>\n",
       "    </tr>\n",
       "    <tr>\n",
       "      <th>4</th>\n",
       "      <td>9</td>\n",
       "      <td>democrats_healthcare_they_would_dems_work_as_s...</td>\n",
       "    </tr>\n",
       "  </tbody>\n",
       "</table>\n",
       "</div>"
      ]
     },
     "metadata": {},
     "output_type": "display_data"
    },
    {
     "name": "stdout",
     "output_type": "stream",
     "text": [
      "\n",
      "2017-06-19 00:00:00\n",
      "Weak signals\n"
     ]
    },
    {
     "data": {
      "text/plain": [
       "   Topic                                     Representation\n",
       "0      3  obama_meddling_election_nothing_2016_russia_ru...\n",
       "1      7  north_trade_this_south_meeting_uswomensopen_de...\n",
       "2      9  democrats_healthcare_they_would_dems_work_as_s...\n",
       "3     12  georgia_gop_foxnews_you_thank_congressional_ha...\n",
       "4     13  market_new_jobs_years_like_really_deal_another..."
      ],
      "text/html": [
       "<div>\n",
       "<style scoped>\n",
       "    .dataframe tbody tr th:only-of-type {\n",
       "        vertical-align: middle;\n",
       "    }\n",
       "\n",
       "    .dataframe tbody tr th {\n",
       "        vertical-align: top;\n",
       "    }\n",
       "\n",
       "    .dataframe thead th {\n",
       "        text-align: right;\n",
       "    }\n",
       "</style>\n",
       "<table border=\"1\" class=\"dataframe\">\n",
       "  <thead>\n",
       "    <tr style=\"text-align: right;\">\n",
       "      <th></th>\n",
       "      <th>Topic</th>\n",
       "      <th>Representation</th>\n",
       "    </tr>\n",
       "  </thead>\n",
       "  <tbody>\n",
       "    <tr>\n",
       "      <th>0</th>\n",
       "      <td>3</td>\n",
       "      <td>obama_meddling_election_nothing_2016_russia_ru...</td>\n",
       "    </tr>\n",
       "    <tr>\n",
       "      <th>1</th>\n",
       "      <td>7</td>\n",
       "      <td>north_trade_this_south_meeting_uswomensopen_de...</td>\n",
       "    </tr>\n",
       "    <tr>\n",
       "      <th>2</th>\n",
       "      <td>9</td>\n",
       "      <td>democrats_healthcare_they_would_dems_work_as_s...</td>\n",
       "    </tr>\n",
       "    <tr>\n",
       "      <th>3</th>\n",
       "      <td>12</td>\n",
       "      <td>georgia_gop_foxnews_you_thank_congressional_ha...</td>\n",
       "    </tr>\n",
       "    <tr>\n",
       "      <th>4</th>\n",
       "      <td>13</td>\n",
       "      <td>market_new_jobs_years_like_really_deal_another...</td>\n",
       "    </tr>\n",
       "  </tbody>\n",
       "</table>\n",
       "</div>"
      ]
     },
     "metadata": {},
     "output_type": "display_data"
    },
    {
     "name": "stdout",
     "output_type": "stream",
     "text": [
      "Strong signals\n"
     ]
    },
    {
     "data": {
      "text/plain": [
       "   Topic                                     Representation\n",
       "0      0       fbi_why_dem_cia_give_asked_her_were_its_away\n",
       "1      1  realdonaldtrump_potus_like_rt_an_address_end_f..."
      ],
      "text/html": [
       "<div>\n",
       "<style scoped>\n",
       "    .dataframe tbody tr th:only-of-type {\n",
       "        vertical-align: middle;\n",
       "    }\n",
       "\n",
       "    .dataframe tbody tr th {\n",
       "        vertical-align: top;\n",
       "    }\n",
       "\n",
       "    .dataframe thead th {\n",
       "        text-align: right;\n",
       "    }\n",
       "</style>\n",
       "<table border=\"1\" class=\"dataframe\">\n",
       "  <thead>\n",
       "    <tr style=\"text-align: right;\">\n",
       "      <th></th>\n",
       "      <th>Topic</th>\n",
       "      <th>Representation</th>\n",
       "    </tr>\n",
       "  </thead>\n",
       "  <tbody>\n",
       "    <tr>\n",
       "      <th>0</th>\n",
       "      <td>0</td>\n",
       "      <td>fbi_why_dem_cia_give_asked_her_were_its_away</td>\n",
       "    </tr>\n",
       "    <tr>\n",
       "      <th>1</th>\n",
       "      <td>1</td>\n",
       "      <td>realdonaldtrump_potus_like_rt_an_address_end_f...</td>\n",
       "    </tr>\n",
       "  </tbody>\n",
       "</table>\n",
       "</div>"
      ]
     },
     "metadata": {},
     "output_type": "display_data"
    },
    {
     "name": "stdout",
     "output_type": "stream",
     "text": [
      "\n"
     ]
    }
   ],
   "execution_count": 18
  },
  {
   "cell_type": "code",
   "id": "4582c0cb6c1f6186",
   "metadata": {
    "ExecuteTime": {
     "end_time": "2025-03-31T12:37:58.552554Z",
     "start_time": "2025-03-31T12:37:58.478430Z"
    }
   },
   "source": [
    "# selection of one particular timestamp to look at\n",
    "selected_timestamp = Timestamp('2017-04-20 00:00:00')\n",
    "selected_topic_model = bertrend.restore_topic_model(selected_timestamp)\n"
   ],
   "outputs": [
    {
     "name": "stderr",
     "output_type": "stream",
     "text": [
      "2025-03-31 14:37:58,544 - BERTopic - WARNING: You are loading a BERTopic model without explicitly defining an embedding model. If you want to also load in an embedding model, make sure to use `BERTopic.load(my_model, embedding_model=my_embedding_model)`.\n"
     ]
    }
   ],
   "execution_count": 22
  },
  {
   "cell_type": "markdown",
   "id": "e31285ee5eb9d9f6",
   "metadata": {},
   "source": [
    "### Get topic description\n"
   ]
  },
  {
   "cell_type": "code",
   "id": "c945b625df18d881",
   "metadata": {
    "ExecuteTime": {
     "end_time": "2025-03-31T12:38:09.022873Z",
     "start_time": "2025-03-31T12:38:06.657176Z"
    }
   },
   "source": [
    "desc = generate_topic_description(topic_model=selected_topic_model, topic_number=5, filtered_docs=df, language_code=\"en\")\n"
   ],
   "outputs": [
    {
     "name": "stderr",
     "output_type": "stream",
     "text": [
      "\u001B[32m2025-03-31 14:38:09.019\u001B[0m | \u001B[34m\u001B[1mDEBUG   \u001B[0m | \u001B[36mbertrend.llm_utils.openai_client\u001B[0m:\u001B[36mgenerate_from_history\u001B[0m:\u001B[36m128\u001B[0m - \u001B[34m\u001B[1mAPI returned: ChatCompletion(id='chatcmpl-BH8gxgz5wTS99j3pJavnMf6dssRQn', choices=[Choice(finish_reason='stop', index=0, logprobs=None, message=ChatCompletionMessage(content='{\\n  \"title\": \"China-US Trade Relations: Future Deal Implications\",\\n  \"description\": \"This theme explores the evolving dynamics of trade relations between China and the United States, particularly in light of recent political changes and leadership transitions. The focus is on how potential trade deals may impact economic policies, bilateral relations, and global markets. As both nations navigate their respective interests, the implications of these negotiations could reshape the landscape of international trade. The discussion also considers the broader context of power transfer within the U.S. government and its influence on foreign policy, especially regarding economic partnerships with major global players like China.\"\\n}', refusal=None, role='assistant', annotations=None, audio=None, function_call=None, tool_calls=None), content_filter_results={'hate': {'filtered': False, 'severity': 'safe'}, 'protected_material_code': {'filtered': False, 'detected': False}, 'protected_material_text': {'filtered': False, 'detected': False}, 'self_harm': {'filtered': False, 'severity': 'safe'}, 'sexual': {'filtered': False, 'severity': 'safe'}, 'violence': {'filtered': False, 'severity': 'safe'}})], created=1743424687, model='gpt-4o-mini-2024-07-18', object='chat.completion', service_tier=None, system_fingerprint='fp_ded0d14823', usage=CompletionUsage(completion_tokens=125, prompt_tokens=218, total_tokens=343, completion_tokens_details=CompletionTokensDetails(accepted_prediction_tokens=0, audio_tokens=0, reasoning_tokens=0, rejected_prediction_tokens=0), prompt_tokens_details=PromptTokensDetails(audio_tokens=0, cached_tokens=0)), prompt_filter_results=[{'prompt_index': 0, 'content_filter_results': {'hate': {'filtered': False, 'severity': 'safe'}, 'jailbreak': {'filtered': False, 'detected': False}, 'self_harm': {'filtered': False, 'severity': 'safe'}, 'sexual': {'filtered': False, 'severity': 'safe'}, 'violence': {'filtered': False, 'severity': 'safe'}}}])\u001B[0m\n"
     ]
    }
   ],
   "execution_count": 23
  },
  {
   "cell_type": "code",
   "id": "e61b903379a0fbd1",
   "metadata": {
    "ExecuteTime": {
     "end_time": "2025-03-31T12:38:13.797043Z",
     "start_time": "2025-03-31T12:38:13.737196Z"
    }
   },
   "source": [
    "desc[\"title\"]"
   ],
   "outputs": [
    {
     "data": {
      "text/plain": [
       "'China-US Trade Relations: Future Deal Implications'"
      ]
     },
     "execution_count": 24,
     "metadata": {},
     "output_type": "execute_result"
    }
   ],
   "execution_count": 24
  },
  {
   "cell_type": "code",
   "id": "c4dbdd4998e0956a",
   "metadata": {
    "ExecuteTime": {
     "end_time": "2025-03-31T12:38:15.236543Z",
     "start_time": "2025-03-31T12:38:15.170436Z"
    }
   },
   "source": [
    "desc[\"description\"]"
   ],
   "outputs": [
    {
     "data": {
      "text/plain": [
       "'This theme explores the evolving dynamics of trade relations between China and the United States, particularly in light of recent political changes and leadership transitions. The focus is on how potential trade deals may impact economic policies, bilateral relations, and global markets. As both nations navigate their respective interests, the implications of these negotiations could reshape the landscape of international trade. The discussion also considers the broader context of power transfer within the U.S. government and its influence on foreign policy, especially regarding economic partnerships with major global players like China.'"
      ]
     },
     "execution_count": 25,
     "metadata": {},
     "output_type": "execute_result"
    }
   ],
   "execution_count": 25
  },
  {
   "cell_type": "markdown",
   "id": "e27e46b0adc6e88b",
   "metadata": {},
   "source": [
    "### Get topic analysis"
   ]
  },
  {
   "cell_type": "code",
   "id": "cdc44ef6f558aac0",
   "metadata": {
    "ExecuteTime": {
     "end_time": "2025-03-31T12:39:41.629076Z",
     "start_time": "2025-03-31T12:38:45.773521Z"
    }
   },
   "source": "summary, analysis, formatted_html = analyze_signal(bertrend, 1, selected_timestamp)",
   "outputs": [
    {
     "name": "stderr",
     "output_type": "stream",
     "text": [
      "\u001B[32m2025-03-31 14:38:45.956\u001B[0m | \u001B[34m\u001B[1mDEBUG   \u001B[0m | \u001B[36mbertrend.trend_analysis.weak_signals\u001B[0m:\u001B[36manalyze_signal\u001B[0m:\u001B[36m368\u001B[0m - \u001B[34m\u001B[1mFirst prompt - generate summary\u001B[0m\n",
      "\u001B[32m2025-03-31 14:39:02.091\u001B[0m | \u001B[34m\u001B[1mDEBUG   \u001B[0m | \u001B[36mbertrend.llm_utils.openai_client\u001B[0m:\u001B[36mgenerate_from_history\u001B[0m:\u001B[36m128\u001B[0m - \u001B[34m\u001B[1mAPI returned: ChatCompletion(id='chatcmpl-BH8ha6VQmNSv23vj9zXrwWvv0a6qz', choices=[Choice(finish_reason='stop', index=0, logprobs=None, message=ChatCompletionMessage(content='## A New Era of American Leadership\\n### Date: January 20, 2017\\n### Key Developments\\n- Donald Trump’s inauguration marked a shift in power dynamics, emphasizing a government \"for the people.\"\\n- The slogan \"America First\" was introduced, focusing on job creation, border control, and economic revitalization.\\n- A commitment to \"Buy American & Hire American\" was established as a core principle of the administration.\\n\\n### Analysis\\nThe inauguration of Donald Trump signified a pivotal moment in American politics, characterized by a populist approach aimed at returning power to the citizens. The emphasis on economic nationalism and job creation resonated with many Americans who felt left behind by globalization. This foundational rhetoric set the stage for a series of policies aimed at reshaping the American economy and its global standing.\\n\\n---\\n\\n## Building Momentum for Change\\n### Date: January 22, 2017\\n### Key Developments\\n- Trump engaged with industry leaders, reinforcing his commitment to job creation and economic growth.\\n- The administration began to address controversial topics such as sanctuary cities and healthcare reform.\\n- Public sentiment reflected optimism regarding economic prospects, with the stock market showing positive trends.\\n\\n### Analysis\\nIn the days following the inauguration, Trump’s administration quickly moved to solidify its agenda by engaging directly with business leaders and addressing contentious issues. The focus on economic growth and job creation continued to dominate the narrative, suggesting a strong alignment between the administration\\'s goals and public expectations. This period marked the beginning of a proactive approach to governance, with an emphasis on immediate action.\\n\\n### What\\'s New\\nThis period introduced a more hands-on approach from the administration, with direct engagement with industry leaders and a focus on immediate policy discussions, contrasting with the initial inauguration rhetoric.\\n\\n---\\n\\n## Reinforcing the \"America First\" Agenda\\n### Date: February 19, 2017\\n### Key Developments\\n- Continued emphasis on \"America First\" with a focus on job creation and economic revitalization.\\n- The administration highlighted its commitment to border control and national security.\\n- Public demonstrations and protests were acknowledged as part of the democratic process.\\n\\n### Analysis\\nThe administration\\'s consistent messaging around \"America First\" reinforced its commitment to prioritizing American interests in both domestic and foreign policy. By addressing protests and emphasizing national security, Trump sought to position his administration as responsive to both supporters and dissenters. This dual approach aimed to solidify his base while navigating the complexities of a divided political landscape.\\n\\n### What\\'s New\\nThis period saw a stronger emphasis on national security and the acknowledgment of public dissent, indicating a more nuanced approach to governance that balanced assertive policy promotion with recognition of democratic rights.\\n\\n---\\n\\n## Focus on Jobs and Economic Growth\\n### Date: February 21, 2017\\n### Key Developments\\n- Trump continued to promote job creation as a central theme, emphasizing the need for American manufacturing.\\n- Engagement with various sectors, including healthcare and education, was highlighted.\\n- The administration celebrated significant investments from major corporations.\\n\\n### Analysis\\nThe focus on job creation and economic growth remained a cornerstone of Trump\\'s agenda, with a clear intent to revitalize American manufacturing. By engaging with different sectors, the administration aimed to create a comprehensive strategy for economic recovery. This approach not only sought to boost employment but also to foster a sense of national pride in American industry.\\n\\n### What\\'s New\\nThis period marked a broader engagement with multiple sectors beyond manufacturing, indicating an expanding scope of the administration\\'s economic strategy.\\n\\n---\\n\\n## Legislative Actions and Economic Initiatives\\n### Date: March 21, 2017\\n### Key Developments\\n- Trump signed significant executive orders aimed at promoting American jobs and infrastructure.\\n- The administration continued to emphasize the importance of American labor and resources.\\n- Public statements reinforced the commitment to national security and economic growth.\\n\\n### Analysis\\nThe signing of executive orders illustrated the administration\\'s commitment to translating its rhetoric into actionable policy. By prioritizing American labor and resources, Trump aimed to create a more favorable environment for domestic industries. This period highlighted the administration\\'s focus on infrastructure as a means to stimulate economic growth and job creation.\\n\\n### What\\'s New\\nThis period introduced concrete legislative actions, showcasing a shift from rhetoric to policy implementation, particularly in infrastructure and job creation.\\n\\n---\\n\\n## Strengthening Economic Policies\\n### Date: April 20, 2017\\n### Key Developments\\n- Continued focus on \"America First\" with a commitment to using American resources and labor.\\n- The administration celebrated achievements in job creation and economic growth.\\n- Engagement with international leaders emphasized the importance of American interests in global trade.\\n\\n### Analysis\\nThe administration\\'s ongoing commitment to \"America First\" reflected a sustained effort to prioritize domestic interests in economic policy. By celebrating job creation and engaging with international leaders, Trump sought to position the U.S. as a strong player in global trade while ensuring that American workers remained at the forefront of his agenda.\\n\\n### What\\'s New\\nThis period saw a more pronounced international engagement, indicating a balancing act between domestic priorities and global economic positioning.\\n\\n---\\n\\n## Decision-Making on Climate Policy\\n### Date: April 22, 2017\\n### Key Developments\\n- Trump announced plans to review the Paris Accord, signaling a potential shift in climate policy.\\n- The administration emphasized the need for better deals that prioritize American workers.\\n- Public statements reinforced the commitment to economic growth over environmental regulations.\\n\\n### Analysis\\nThe decision to review the Paris Accord highlighted a critical moment in the administration\\'s approach to climate policy, prioritizing economic considerations over international agreements. This move resonated with Trump\\'s base, who viewed environmental regulations as burdensome to American industry. The administration\\'s focus on securing better deals for American workers underscored its commitment to economic nationalism.\\n\\n### What\\'s New\\nThis period introduced a significant shift in climate policy discussions, with a clear prioritization of economic interests over international environmental commitments, marking a departure from previous administrations\\' approaches.', refusal=None, role='assistant', annotations=None, audio=None, function_call=None, tool_calls=None), content_filter_results={'hate': {'filtered': False, 'severity': 'safe'}, 'protected_material_code': {'filtered': False, 'detected': False}, 'protected_material_text': {'filtered': False, 'detected': False}, 'self_harm': {'filtered': False, 'severity': 'safe'}, 'sexual': {'filtered': False, 'severity': 'safe'}, 'violence': {'filtered': False, 'severity': 'safe'}})], created=1743424726, model='gpt-4o-mini-2024-07-18', object='chat.completion', service_tier=None, system_fingerprint='fp_ded0d14823', usage=CompletionUsage(completion_tokens=1181, prompt_tokens=19794, total_tokens=20975, completion_tokens_details=CompletionTokensDetails(accepted_prediction_tokens=0, audio_tokens=0, reasoning_tokens=0, rejected_prediction_tokens=0), prompt_tokens_details=PromptTokensDetails(audio_tokens=0, cached_tokens=0)), prompt_filter_results=[{'prompt_index': 0, 'content_filter_results': {'hate': {'filtered': False, 'severity': 'safe'}, 'jailbreak': {'filtered': False, 'detected': False}, 'self_harm': {'filtered': False, 'severity': 'safe'}, 'sexual': {'filtered': False, 'severity': 'safe'}, 'violence': {'filtered': False, 'severity': 'safe'}}}])\u001B[0m\n",
      "\u001B[32m2025-03-31 14:39:02.092\u001B[0m | \u001B[34m\u001B[1mDEBUG   \u001B[0m | \u001B[36mbertrend.trend_analysis.weak_signals\u001B[0m:\u001B[36manalyze_signal\u001B[0m:\u001B[36m383\u001B[0m - \u001B[34m\u001B[1mSecond prompt - analyze weak signal\u001B[0m\n",
      "\u001B[32m2025-03-31 14:39:21.791\u001B[0m | \u001B[34m\u001B[1mDEBUG   \u001B[0m | \u001B[36mbertrend.llm_utils.openai_client\u001B[0m:\u001B[36mgenerate_from_history\u001B[0m:\u001B[36m128\u001B[0m - \u001B[34m\u001B[1mAPI returned: ChatCompletion(id='chatcmpl-BH8hqg9KptyuBEu2ZthWo8ZiX8BeT', choices=[Choice(finish_reason='stop', index=0, logprobs=None, message=ChatCompletionMessage(content='### 1. Potential Impact Analysis\\n\\n#### Short-Term Implications\\n- **Economic Sectors**: The \"America First\" agenda is likely to have immediate effects on manufacturing, construction, and energy sectors. Policies favoring domestic production could lead to job creation in these industries, while simultaneously increasing costs for companies reliant on global supply chains.\\n- **Public Sentiment**: The focus on job creation and economic revitalization may initially boost public optimism, particularly among demographics that feel marginalized by globalization. However, this could also lead to increased polarization as dissenting voices raise concerns about the implications of economic nationalism.\\n- **Political Landscape**: The administration\\'s populist rhetoric may galvanize support among its base, but it could also provoke significant opposition, leading to heightened political activism and protests.\\n\\n#### Long-Term Implications\\n- **Global Trade Dynamics**: A sustained \"America First\" approach could lead to trade tensions, as other nations may retaliate against perceived protectionist policies. This could reshape global trade agreements and alliances, potentially isolating the U.S. economically.\\n- **Labor Market Transformation**: A focus on domestic job creation may lead to a shift in labor market dynamics, with increased demand for skilled labor in manufacturing and infrastructure. However, this could also exacerbate inequalities if workers in declining sectors are not adequately supported.\\n- **Environmental Policy**: The prioritization of economic growth over environmental regulations could have long-term consequences for climate change efforts, potentially leading to increased emissions and environmental degradation.\\n\\n#### Ripple Effects and Second-Order Consequences\\n- **Investment Shifts**: Companies may redirect investments towards domestic operations, impacting global supply chains and potentially leading to increased costs for consumers.\\n- **Social Movements**: The administration\\'s policies may inspire new social movements advocating for environmental protection, labor rights, and immigration reform, leading to a more active civil society.\\n- **International Relations**: The U.S. may face challenges in maintaining its influence on the global stage, as allies and adversaries alike respond to its unilateral approach to trade and diplomacy.\\n\\n### 2. Evolution Scenarios\\n\\n#### Optimistic Scenario\\n- **Economic Resurgence**: The focus on domestic job creation leads to a revitalized manufacturing sector, resulting in significant economic growth and reduced unemployment. This success fosters a sense of national pride and unity, encouraging bipartisan support for infrastructure and education investments.\\n- **Global Leadership in Innovation**: The U.S. emerges as a leader in innovative technologies, particularly in clean energy and advanced manufacturing, positioning itself favorably in global markets.\\n\\n#### Pessimistic Scenario\\n- **Trade Wars and Economic Isolation**: The \"America First\" policies provoke retaliatory measures from trading partners, leading to trade wars that stifle economic growth and increase consumer prices. This results in a recession and heightened political instability.\\n- **Social Unrest**: Increased polarization and social unrest emerge as marginalized groups protest against economic policies perceived as exclusionary. This could lead to a fracturing of the political landscape and challenges to governance.\\n\\n### 3. Interconnections and Synergies\\n\\n- **Technological Advancements**: The push for domestic manufacturing may align with advancements in automation and AI, creating opportunities for innovation in production processes. However, this could also lead to job displacement if not managed carefully.\\n- **Environmental Movements**: The prioritization of economic growth over environmental concerns may catalyze stronger grassroots movements advocating for sustainable practices, potentially leading to a clash between economic and environmental priorities.\\n- **Global Health Trends**: The focus on American jobs may intersect with global health initiatives, particularly in the context of pandemics, as the U.S. may prioritize domestic production of medical supplies and pharmaceuticals.\\n\\n### 4. Drivers and Inhibitors\\n\\n#### Drivers\\n- **Public Support for Economic Nationalism**: A significant portion of the American populace may continue to support policies that prioritize domestic job creation, driving political momentum for the \"America First\" agenda.\\n- **Technological Innovation**: Advances in technology that enhance domestic production capabilities could bolster the administration\\'s agenda, making it more feasible to achieve economic goals.\\n\\n#### Inhibitors\\n- **Global Economic Interdependence**: The interconnected nature of the global economy may limit the effectiveness of protectionist policies, as companies and consumers face higher costs and reduced choices.\\n- **Political Opposition**: Strong opposition from both political rivals and civil society organizations could hinder the implementation of the administration\\'s agenda, leading to legislative gridlock and public protests.\\n\\n### Conclusion\\nThe \"America First\" signal represents a significant shift in American leadership and policy direction, with profound implications for various sectors and societal aspects. Its evolution will depend on a complex interplay of domestic and international factors, public sentiment, and the administration\\'s ability to navigate challenges and capitalize on opportunities. Strategic foresight in this context will require continuous monitoring of economic indicators, public opinion, and global developments to inform decision-making and future planning.', refusal=None, role='assistant', annotations=None, audio=None, function_call=None, tool_calls=None), content_filter_results={'hate': {'filtered': False, 'severity': 'safe'}, 'protected_material_code': {'filtered': False, 'detected': False}, 'protected_material_text': {'filtered': False, 'detected': False}, 'self_harm': {'filtered': False, 'severity': 'safe'}, 'sexual': {'filtered': False, 'severity': 'safe'}, 'violence': {'filtered': False, 'severity': 'safe'}})], created=1743424742, model='gpt-4o-mini-2024-07-18', object='chat.completion', service_tier=None, system_fingerprint='fp_ded0d14823', usage=CompletionUsage(completion_tokens=988, prompt_tokens=1501, total_tokens=2489, completion_tokens_details=CompletionTokensDetails(accepted_prediction_tokens=0, audio_tokens=0, reasoning_tokens=0, rejected_prediction_tokens=0), prompt_tokens_details=PromptTokensDetails(audio_tokens=0, cached_tokens=0)), prompt_filter_results=[{'prompt_index': 0, 'content_filter_results': {'hate': {'filtered': False, 'severity': 'safe'}, 'jailbreak': {'filtered': False, 'detected': False}, 'self_harm': {'filtered': False, 'severity': 'safe'}, 'sexual': {'filtered': False, 'severity': 'safe'}, 'violence': {'filtered': False, 'severity': 'safe'}}}])\u001B[0m\n",
      "\u001B[32m2025-03-31 14:39:21.792\u001B[0m | \u001B[34m\u001B[1mDEBUG   \u001B[0m | \u001B[36mbertrend.trend_analysis.weak_signals\u001B[0m:\u001B[36manalyze_signal\u001B[0m:\u001B[36m395\u001B[0m - \u001B[34m\u001B[1mThird prompt - generate html format\u001B[0m\n",
      "\u001B[32m2025-03-31 14:39:41.620\u001B[0m | \u001B[34m\u001B[1mDEBUG   \u001B[0m | \u001B[36mbertrend.llm_utils.openai_client\u001B[0m:\u001B[36mgenerate_from_history\u001B[0m:\u001B[36m128\u001B[0m - \u001B[34m\u001B[1mAPI returned: ChatCompletion(id='chatcmpl-BH8i9vBvO8xD7z4Fcx7mZocOJMFIN', choices=[Choice(finish_reason='stop', index=0, logprobs=None, message=ChatCompletionMessage(content='```html\\n<!--\\n  ~ Copyright (c) 2024, RTE (https://www.rte-france.com)\\n  ~ See AUTHORS.txt\\n  ~ SPDX-License-Identifier: MPL-2.0\\n  ~ This file is part of BERTrend.\\n  -->\\n\\n<!DOCTYPE html>\\n<html lang=\"en\">\\n<head>\\n    <meta charset=\"UTF-8\">\\n    <meta name=\"viewport\" content=\"width=device-width, initial-scale=1.0\">\\n    <title>A New Era of American Leadership Analysis Dashboard</title>\\n    <style>\\n        body {\\n            font-family: Arial, sans-serif;\\n            line-height: 1.6;\\n            color: #333;\\n            background-color: #f0f0f0;\\n            margin: 0;\\n            padding: 20px;\\n        }\\n        .dashboard {\\n            display: flex;\\n            gap: 20px;\\n            max-width: 1400px;\\n            margin: 0 auto;\\n        }\\n        .column {\\n            flex: 1;\\n            background-color: #fff;\\n            border-radius: 8px;\\n            padding: 20px;\\n            box-shadow: 0 2px 4px rgba(0,0,0,0.1);\\n        }\\n        h2 {\\n            color: #3498db;\\n            border-bottom: 2px solid #3498db;\\n            padding-bottom: 10px;\\n        }\\n        .event, .section {\\n            background-color: #f9f9f9;\\n            border-radius: 4px;\\n            padding: 15px;\\n            margin-bottom: 15px;\\n        }\\n        .event h3, .section h3 {\\n            margin-top: 0;\\n            color: #2980b9;\\n        }\\n        .whats-new {\\n            background-color: #fffde7;\\n            border-left: 4px solid #fbc02d;\\n            padding: 10px;\\n            margin-top: 10px;\\n        }\\n        .grid {\\n            display: grid;\\n            grid-template-columns: 1fr 1fr;\\n            gap: 15px;\\n        }\\n        ul {\\n            padding-left: 20px;\\n            margin: 0;\\n        }\\n        li {\\n            margin-bottom: 5px;\\n        }\\n        .scenario {\\n            border-left: 4px solid;\\n            padding-left: 10px;\\n            margin-bottom: 15px;\\n        }\\n        .optimistic {\\n            border-color: #2ecc71;\\n        }\\n        .pessimistic {\\n            border-color: #e74c3c;\\n        }\\n    </style>\\n</head>\\n<body>\\n    <div class=\"dashboard\">\\n        <div class=\"column\">\\n            <h2>Topic Evolution</h2>\\n            <div class=\"event\">\\n                <h3>January 20, 2017: A New Era of American Leadership</h3>\\n                <p>Donald Trump’s inauguration marked a shift in power dynamics, emphasizing a government \"for the people.\" The slogan \"America First\" was introduced, focusing on job creation, border control, and economic revitalization. A commitment to \"Buy American & Hire American\" was established as a core principle of the administration.</p>\\n                <div class=\"whats-new\">\\n                    <strong>What\\'s New:</strong> This foundational rhetoric set the stage for a series of policies aimed at reshaping the American economy and its global standing.\\n                </div>\\n            </div>\\n            <div class=\"event\">\\n                <h3>January 22, 2017: Building Momentum for Change</h3>\\n                <p>Trump engaged with industry leaders, reinforcing his commitment to job creation and economic growth. The administration began to address controversial topics such as sanctuary cities and healthcare reform. Public sentiment reflected optimism regarding economic prospects, with the stock market showing positive trends.</p>\\n                <div class=\"whats-new\">\\n                    <strong>What\\'s New:</strong> This period introduced a more hands-on approach from the administration, with direct engagement with industry leaders and a focus on immediate policy discussions.\\n                </div>\\n            </div>\\n            <div class=\"event\">\\n                <h3>February 19, 2017: Reinforcing the \"America First\" Agenda</h3>\\n                <p>Continued emphasis on \"America First\" with a focus on job creation and economic revitalization. The administration highlighted its commitment to border control and national security. Public demonstrations and protests were acknowledged as part of the democratic process.</p>\\n                <div class=\"whats-new\">\\n                    <strong>What\\'s New:</strong> This period saw a stronger emphasis on national security and the acknowledgment of public dissent.\\n                </div>\\n            </div>\\n            \\n            <h2>Evolution Scenarios</h2>\\n            <div class=\"scenario optimistic\">\\n                <h3>Optimistic Scenario</h3>\\n                <p>The focus on domestic job creation leads to a revitalized manufacturing sector, resulting in significant economic growth and reduced unemployment.</p>\\n                <ul>\\n                    <li>This success fosters a sense of national pride and unity.</li>\\n                    <li>Encouraging bipartisan support for infrastructure and education investments.</li>\\n                    <li>The U.S. emerges as a leader in innovative technologies, particularly in clean energy and advanced manufacturing.</li>\\n                    <li>Positioning itself favorably in global markets.</li>\\n                </ul>\\n            </div>\\n            <div class=\"scenario pessimistic\">\\n                <h3>Pessimistic Scenario</h3>\\n                <p>The \"America First\" policies provoke retaliatory measures from trading partners, leading to trade wars that stifle economic growth and increase consumer prices.</p>\\n                <ul>\\n                    <li>This results in a recession and heightened political instability.</li>\\n                    <li>Increased polarization and social unrest emerge as marginalized groups protest against economic policies perceived as exclusionary.</li>\\n                    <li>This could lead to a fracturing of the political landscape.</li>\\n                    <li>Challenges to governance may arise.</li>\\n                </ul>\\n            </div>\\n        </div>\\n        <div class=\"column\">\\n            <h2>Topic Analysis</h2>\\n            <div class=\"grid\">\\n                <div class=\"section\">\\n                    <h3>Short-term Implications</h3>\\n                    <ul>\\n                        <li>The \"America First\" agenda is likely to have immediate effects on manufacturing, construction, and energy sectors.</li>\\n                        <li>Policies favoring domestic production could lead to job creation in these industries.</li>\\n                        <li>Public sentiment may initially boost optimism, particularly among demographics feeling marginalized by globalization.</li>\\n                        <li>This could lead to increased polarization as dissenting voices raise concerns about economic nationalism.</li>\\n                    </ul>\\n                </div>\\n                <div class=\"section\">\\n                    <h3>Long-term Implications</h3>\\n                    <ul>\\n                        <li>A sustained \"America First\" approach could lead to trade tensions, reshaping global trade agreements and alliances.</li>\\n                        <li>A focus on domestic job creation may shift labor market dynamics, increasing demand for skilled labor.</li>\\n                        <li>This could exacerbate inequalities if workers in declining sectors are not adequately supported.</li>\\n                        <li>The prioritization of economic growth over environmental regulations could have long-term consequences for climate change efforts.</li>\\n                    </ul>\\n                </div>\\n                <div class=\"section\">\\n                    <h3>Ripple Effects</h3>\\n                    <ul>\\n                        <li>Companies may redirect investments towards domestic operations, impacting global supply chains.</li>\\n                        <li>This could lead to increased costs for consumers.</li>\\n                        <li>The administration\\'s policies may inspire new social movements advocating for environmental protection and labor rights.</li>\\n                        <li>The U.S. may face challenges in maintaining its influence on the global stage.</li>\\n                    </ul>\\n                </div>\\n                <div class=\"section\">\\n                    <h3>Interconnections</h3>\\n                    <ul>\\n                        <li>The push for domestic manufacturing may align with advancements in automation and AI.</li>\\n                        <li>This could create opportunities for innovation in production processes.</li>\\n                        <li>The prioritization of economic growth over environmental concerns may catalyze stronger grassroots movements advocating for sustainable practices.</li>\\n                        <li>The focus on American jobs may intersect with global health initiatives, particularly in the context of pandemics.</li>\\n                    </ul>\\n                </div>\\n                <div class=\"section\">\\n                    <h3>Drivers</h3>\\n                    <ul>\\n                        <li>A significant portion of the American populace may continue to support policies that prioritize domestic job creation.</li>\\n                        <li>Advances in technology that enhance domestic production capabilities could bolster the administration\\'s agenda.</li>\\n                        <li>Public support for economic nationalism may drive political momentum.</li>\\n                        <li>Technological innovation could make achieving economic goals more feasible.</li>\\n                    </ul>\\n                </div>\\n                <div class=\"section\">\\n                    <h3>Inhibitors</h3>\\n                    <ul>\\n                        <li>The interconnected nature of the global economy may limit the effectiveness of protectionist policies.</li>\\n                        <li>Strong opposition from political rivals and civil society organizations could hinder the implementation of the administration\\'s agenda.</li>\\n                        <li>Companies and consumers may face higher costs and reduced choices.</li>\\n                        <li>Legislative gridlock and public protests could arise from political opposition.</li>\\n                    </ul>\\n                </div>\\n            </div>\\n        </div>\\n    </div>\\n</body>\\n</html>\\n```', refusal=None, role='assistant', annotations=None, audio=None, function_call=None, tool_calls=None), content_filter_results={'hate': {'filtered': False, 'severity': 'safe'}, 'protected_material_code': {'filtered': False, 'detected': True, 'citation': {'URL': 'https://github.com/ypraw/Belajar-PHP/tree/96e6793b6c4756bdf301b95d4b6ef9aba359fc03/Nisa%20A.M%2Fpenanganan-form%2Finput03.php', 'license': 'NOASSERTION'}}, 'protected_material_text': {'filtered': False, 'detected': False}, 'self_harm': {'filtered': False, 'severity': 'safe'}, 'sexual': {'filtered': False, 'severity': 'safe'}, 'violence': {'filtered': False, 'severity': 'safe'}})], created=1743424761, model='gpt-4o-mini-2024-07-18', object='chat.completion', service_tier=None, system_fingerprint='fp_ded0d14823', usage=CompletionUsage(completion_tokens=1999, prompt_tokens=3907, total_tokens=5906, completion_tokens_details=CompletionTokensDetails(accepted_prediction_tokens=0, audio_tokens=0, reasoning_tokens=0, rejected_prediction_tokens=0), prompt_tokens_details=PromptTokensDetails(audio_tokens=0, cached_tokens=0)), prompt_filter_results=[{'prompt_index': 0, 'content_filter_results': {'hate': {'filtered': False, 'severity': 'safe'}, 'jailbreak': {'filtered': False, 'detected': False}, 'self_harm': {'filtered': False, 'severity': 'safe'}, 'sexual': {'filtered': False, 'severity': 'safe'}, 'violence': {'filtered': False, 'severity': 'safe'}}}])\u001B[0m\n"
     ]
    }
   ],
   "execution_count": 28
  },
  {
   "cell_type": "code",
   "id": "531558c5b600cb30",
   "metadata": {
    "ExecuteTime": {
     "end_time": "2025-03-31T12:39:41.742039Z",
     "start_time": "2025-03-31T12:39:41.676848Z"
    }
   },
   "source": [
    "from IPython.display import display, HTML\n",
    "display(HTML(formatted_html))"
   ],
   "outputs": [
    {
     "data": {
      "text/plain": [
       "<IPython.core.display.HTML object>"
      ],
      "text/html": [
       "<!--\n",
       "  ~ Copyright (c) 2024, RTE (https://www.rte-france.com)\n",
       "  ~ See AUTHORS.txt\n",
       "  ~ SPDX-License-Identifier: MPL-2.0\n",
       "  ~ This file is part of BERTrend.\n",
       "  -->\n",
       "\n",
       "<!DOCTYPE html>\n",
       "<html lang=\"en\">\n",
       "<head>\n",
       "    <meta charset=\"UTF-8\">\n",
       "    <meta name=\"viewport\" content=\"width=device-width, initial-scale=1.0\">\n",
       "    <title>A New Era of American Leadership Analysis Dashboard</title>\n",
       "    <style>\n",
       "        body {\n",
       "            font-family: Arial, sans-serif;\n",
       "            line-height: 1.6;\n",
       "            color: #333;\n",
       "            background-color: #f0f0f0;\n",
       "            margin: 0;\n",
       "            padding: 20px;\n",
       "        }\n",
       "        .dashboard {\n",
       "            display: flex;\n",
       "            gap: 20px;\n",
       "            max-width: 1400px;\n",
       "            margin: 0 auto;\n",
       "        }\n",
       "        .column {\n",
       "            flex: 1;\n",
       "            background-color: #fff;\n",
       "            border-radius: 8px;\n",
       "            padding: 20px;\n",
       "            box-shadow: 0 2px 4px rgba(0,0,0,0.1);\n",
       "        }\n",
       "        h2 {\n",
       "            color: #3498db;\n",
       "            border-bottom: 2px solid #3498db;\n",
       "            padding-bottom: 10px;\n",
       "        }\n",
       "        .event, .section {\n",
       "            background-color: #f9f9f9;\n",
       "            border-radius: 4px;\n",
       "            padding: 15px;\n",
       "            margin-bottom: 15px;\n",
       "        }\n",
       "        .event h3, .section h3 {\n",
       "            margin-top: 0;\n",
       "            color: #2980b9;\n",
       "        }\n",
       "        .whats-new {\n",
       "            background-color: #fffde7;\n",
       "            border-left: 4px solid #fbc02d;\n",
       "            padding: 10px;\n",
       "            margin-top: 10px;\n",
       "        }\n",
       "        .grid {\n",
       "            display: grid;\n",
       "            grid-template-columns: 1fr 1fr;\n",
       "            gap: 15px;\n",
       "        }\n",
       "        ul {\n",
       "            padding-left: 20px;\n",
       "            margin: 0;\n",
       "        }\n",
       "        li {\n",
       "            margin-bottom: 5px;\n",
       "        }\n",
       "        .scenario {\n",
       "            border-left: 4px solid;\n",
       "            padding-left: 10px;\n",
       "            margin-bottom: 15px;\n",
       "        }\n",
       "        .optimistic {\n",
       "            border-color: #2ecc71;\n",
       "        }\n",
       "        .pessimistic {\n",
       "            border-color: #e74c3c;\n",
       "        }\n",
       "    </style>\n",
       "</head>\n",
       "<body>\n",
       "    <div class=\"dashboard\">\n",
       "        <div class=\"column\">\n",
       "            <h2>Topic Evolution</h2>\n",
       "            <div class=\"event\">\n",
       "                <h3>January 20, 2017: A New Era of American Leadership</h3>\n",
       "                <p>Donald Trump’s inauguration marked a shift in power dynamics, emphasizing a government \"for the people.\" The slogan \"America First\" was introduced, focusing on job creation, border control, and economic revitalization. A commitment to \"Buy American & Hire American\" was established as a core principle of the administration.</p>\n",
       "                <div class=\"whats-new\">\n",
       "                    <strong>What's New:</strong> This foundational rhetoric set the stage for a series of policies aimed at reshaping the American economy and its global standing.\n",
       "                </div>\n",
       "            </div>\n",
       "            <div class=\"event\">\n",
       "                <h3>January 22, 2017: Building Momentum for Change</h3>\n",
       "                <p>Trump engaged with industry leaders, reinforcing his commitment to job creation and economic growth. The administration began to address controversial topics such as sanctuary cities and healthcare reform. Public sentiment reflected optimism regarding economic prospects, with the stock market showing positive trends.</p>\n",
       "                <div class=\"whats-new\">\n",
       "                    <strong>What's New:</strong> This period introduced a more hands-on approach from the administration, with direct engagement with industry leaders and a focus on immediate policy discussions.\n",
       "                </div>\n",
       "            </div>\n",
       "            <div class=\"event\">\n",
       "                <h3>February 19, 2017: Reinforcing the \"America First\" Agenda</h3>\n",
       "                <p>Continued emphasis on \"America First\" with a focus on job creation and economic revitalization. The administration highlighted its commitment to border control and national security. Public demonstrations and protests were acknowledged as part of the democratic process.</p>\n",
       "                <div class=\"whats-new\">\n",
       "                    <strong>What's New:</strong> This period saw a stronger emphasis on national security and the acknowledgment of public dissent.\n",
       "                </div>\n",
       "            </div>\n",
       "            \n",
       "            <h2>Evolution Scenarios</h2>\n",
       "            <div class=\"scenario optimistic\">\n",
       "                <h3>Optimistic Scenario</h3>\n",
       "                <p>The focus on domestic job creation leads to a revitalized manufacturing sector, resulting in significant economic growth and reduced unemployment.</p>\n",
       "                <ul>\n",
       "                    <li>This success fosters a sense of national pride and unity.</li>\n",
       "                    <li>Encouraging bipartisan support for infrastructure and education investments.</li>\n",
       "                    <li>The U.S. emerges as a leader in innovative technologies, particularly in clean energy and advanced manufacturing.</li>\n",
       "                    <li>Positioning itself favorably in global markets.</li>\n",
       "                </ul>\n",
       "            </div>\n",
       "            <div class=\"scenario pessimistic\">\n",
       "                <h3>Pessimistic Scenario</h3>\n",
       "                <p>The \"America First\" policies provoke retaliatory measures from trading partners, leading to trade wars that stifle economic growth and increase consumer prices.</p>\n",
       "                <ul>\n",
       "                    <li>This results in a recession and heightened political instability.</li>\n",
       "                    <li>Increased polarization and social unrest emerge as marginalized groups protest against economic policies perceived as exclusionary.</li>\n",
       "                    <li>This could lead to a fracturing of the political landscape.</li>\n",
       "                    <li>Challenges to governance may arise.</li>\n",
       "                </ul>\n",
       "            </div>\n",
       "        </div>\n",
       "        <div class=\"column\">\n",
       "            <h2>Topic Analysis</h2>\n",
       "            <div class=\"grid\">\n",
       "                <div class=\"section\">\n",
       "                    <h3>Short-term Implications</h3>\n",
       "                    <ul>\n",
       "                        <li>The \"America First\" agenda is likely to have immediate effects on manufacturing, construction, and energy sectors.</li>\n",
       "                        <li>Policies favoring domestic production could lead to job creation in these industries.</li>\n",
       "                        <li>Public sentiment may initially boost optimism, particularly among demographics feeling marginalized by globalization.</li>\n",
       "                        <li>This could lead to increased polarization as dissenting voices raise concerns about economic nationalism.</li>\n",
       "                    </ul>\n",
       "                </div>\n",
       "                <div class=\"section\">\n",
       "                    <h3>Long-term Implications</h3>\n",
       "                    <ul>\n",
       "                        <li>A sustained \"America First\" approach could lead to trade tensions, reshaping global trade agreements and alliances.</li>\n",
       "                        <li>A focus on domestic job creation may shift labor market dynamics, increasing demand for skilled labor.</li>\n",
       "                        <li>This could exacerbate inequalities if workers in declining sectors are not adequately supported.</li>\n",
       "                        <li>The prioritization of economic growth over environmental regulations could have long-term consequences for climate change efforts.</li>\n",
       "                    </ul>\n",
       "                </div>\n",
       "                <div class=\"section\">\n",
       "                    <h3>Ripple Effects</h3>\n",
       "                    <ul>\n",
       "                        <li>Companies may redirect investments towards domestic operations, impacting global supply chains.</li>\n",
       "                        <li>This could lead to increased costs for consumers.</li>\n",
       "                        <li>The administration's policies may inspire new social movements advocating for environmental protection and labor rights.</li>\n",
       "                        <li>The U.S. may face challenges in maintaining its influence on the global stage.</li>\n",
       "                    </ul>\n",
       "                </div>\n",
       "                <div class=\"section\">\n",
       "                    <h3>Interconnections</h3>\n",
       "                    <ul>\n",
       "                        <li>The push for domestic manufacturing may align with advancements in automation and AI.</li>\n",
       "                        <li>This could create opportunities for innovation in production processes.</li>\n",
       "                        <li>The prioritization of economic growth over environmental concerns may catalyze stronger grassroots movements advocating for sustainable practices.</li>\n",
       "                        <li>The focus on American jobs may intersect with global health initiatives, particularly in the context of pandemics.</li>\n",
       "                    </ul>\n",
       "                </div>\n",
       "                <div class=\"section\">\n",
       "                    <h3>Drivers</h3>\n",
       "                    <ul>\n",
       "                        <li>A significant portion of the American populace may continue to support policies that prioritize domestic job creation.</li>\n",
       "                        <li>Advances in technology that enhance domestic production capabilities could bolster the administration's agenda.</li>\n",
       "                        <li>Public support for economic nationalism may drive political momentum.</li>\n",
       "                        <li>Technological innovation could make achieving economic goals more feasible.</li>\n",
       "                    </ul>\n",
       "                </div>\n",
       "                <div class=\"section\">\n",
       "                    <h3>Inhibitors</h3>\n",
       "                    <ul>\n",
       "                        <li>The interconnected nature of the global economy may limit the effectiveness of protectionist policies.</li>\n",
       "                        <li>Strong opposition from political rivals and civil society organizations could hinder the implementation of the administration's agenda.</li>\n",
       "                        <li>Companies and consumers may face higher costs and reduced choices.</li>\n",
       "                        <li>Legislative gridlock and public protests could arise from political opposition.</li>\n",
       "                    </ul>\n",
       "                </div>\n",
       "            </div>\n",
       "        </div>\n",
       "    </div>\n",
       "</body>\n",
       "</html>"
      ]
     },
     "metadata": {},
     "output_type": "display_data"
    }
   ],
   "execution_count": 29
  },
  {
   "cell_type": "markdown",
   "id": "d4c54df2e25f24c9",
   "metadata": {},
   "source": []
  },
  {
   "cell_type": "markdown",
   "id": "c922549ec07859a9",
   "metadata": {},
   "source": [
    "## Using BERTrend for prospective analysis"
   ]
  },
  {
   "cell_type": "markdown",
   "id": "cd3a1210eb53e1e2",
   "metadata": {},
   "source": [
    "In the case of a **prospective trend analysis task**, the goal is to **forecast future** developments or outcomes based on current data and trends, enabling organizations to make informed decisions, allocate resources effectively, and strategize for upcoming challenges or opportunities.\n"
   ]
  },
  {
   "cell_type": "markdown",
   "id": "100f841b083ce637",
   "metadata": {},
   "source": [
    "In this example, we are going to simulate a prospective task:\n",
    "- we simulate new data coming in\n",
    "- for each new data, we will compute the new topic model, merge it to previous one and detect at each iteration strong and weak signals\n"
   ]
  },
  {
   "cell_type": "code",
   "id": "4d88b099fc25b600",
   "metadata": {
    "ExecuteTime": {
     "end_time": "2025-03-31T12:53:46.360412Z",
     "start_time": "2025-03-31T12:53:46.300695Z"
    }
   },
   "source": [
    "MY_DATA_DIR = Path(\"/DSIA/nlp/bertrend/data\") / \"feeds/feed_sobriete\"\n",
    "\n",
    "input_data = [\n",
    "    MY_DATA_DIR / \"2024-12-30_feed_sobriete.jsonl\",\n",
    "    MY_DATA_DIR / \"2025-01-06_feed_sobriete.jsonl\",\n",
    "    MY_DATA_DIR / \"2025-01-20_feed_sobriete.jsonl\",\n",
    "]\n",
    "\n",
    "window_size = 7"
   ],
   "outputs": [],
   "execution_count": 39
  },
  {
   "cell_type": "code",
   "id": "a4619e8b7e9fbf91",
   "metadata": {
    "ExecuteTime": {
     "end_time": "2025-03-31T12:53:49.720154Z",
     "start_time": "2025-03-31T12:53:49.441118Z"
    }
   },
   "source": [
    "embedding_service_cfg = {\"local\": False, \"url\":\"https://10.132.5.44:6464\", \"client_secret\":client_secret}\n",
    "\n",
    "embedding_service = EmbeddingService(**embedding_service_cfg)\n",
    "embedding_model_name = embedding_service.embedding_model_name"
   ],
   "outputs": [
    {
     "name": "stderr",
     "output_type": "stream",
     "text": [
      "\u001B[32m2025-03-31 14:53:49.611\u001B[0m | \u001B[34m\u001B[1mDEBUG   \u001B[0m | \u001B[36mbertrend.services.embedding_client\u001B[0m:\u001B[36mget_api_model_name\u001B[0m:\u001B[36m49\u001B[0m - \u001B[34m\u001B[1mModel name: OrdalieTech/Solon-embeddings-large-0.1\u001B[0m\n",
      "\u001B[32m2025-03-31 14:53:49.711\u001B[0m | \u001B[34m\u001B[1mDEBUG   \u001B[0m | \u001B[36mbertrend.services.embedding_client\u001B[0m:\u001B[36mget_num_workers\u001B[0m:\u001B[36m65\u001B[0m - \u001B[34m\u001B[1mNumber of workers: 2\u001B[0m\n"
     ]
    }
   ],
   "execution_count": 40
  },
  {
   "cell_type": "code",
   "id": "29f00b403ea81df1",
   "metadata": {
    "ExecuteTime": {
     "end_time": "2025-03-31T12:53:58.534049Z",
     "start_time": "2025-03-31T12:53:58.457763Z"
    }
   },
   "source": [
    "BERTREND_MODELS_PATH = MODELS_DIR / \"sobriete_models\""
   ],
   "outputs": [],
   "execution_count": 41
  },
  {
   "cell_type": "code",
   "id": "63e3d13a7d8c0cb",
   "metadata": {
    "ExecuteTime": {
     "end_time": "2025-03-31T13:23:09.225130Z",
     "start_time": "2025-03-31T13:23:09.110987Z"
    }
   },
   "source": [
    "def process_new_data(data_slice_path: Path, timestamp: pd.Timestamp):\n",
    "    logger.debug(f\"Processing new data: {data_slice_path}\")\n",
    "\n",
    "    # Restore previous models\n",
    "    try:\n",
    "        bertrend = BERTrend.restore_model(BERTREND_MODELS_PATH)\n",
    "    except:\n",
    "        logger.warning(\"Cannot restore previous models, creating new one\")\n",
    "        bertrend = BERTrend(topic_model=BERTopicModel())\n",
    "\n",
    "    # Read data\n",
    "    df = load_data(data_slice_path, language=\"French\")\n",
    "    df = split_data(df)\n",
    "    text = df[TEXT_COLUMN]\n",
    "\n",
    "    # Embed new data\n",
    "    embeddings, token_strings, token_embeddings = embedding_service.embed(\n",
    "                texts=text,\n",
    "    )\n",
    "\n",
    "    # Create topic model for new data\n",
    "    bertrend.train_topic_models({timestamp: df}, embeddings=embeddings, embedding_model=embedding_model_name)\n",
    "    \n",
    "    logger.info(f\"BERTrend processed {len(bertrend.doc_groups)} time periods\")\n",
    "    \n",
    "    # Save models\n",
    "    bertrend.save_model(models_path=BERTREND_MODELS_PATH)\n",
    "\n",
    "    \n",
    "    if len(bertrend.doc_groups)<2:\n",
    "        return None\n",
    "        \n",
    "    # Compute popularities\n",
    "    bertrend.calculate_signal_popularity()\n",
    "    \n",
    "    # classify last signals\n",
    "    noise_topics_df, weak_signal_topics_df, strong_signal_topics_df = bertrend.classify_signals(window_size, timestamp)\n",
    "    # TODO: save dfs\n",
    "\n",
    "    if weak_signal_topics_df.empty:\n",
    "        return None\n",
    "        \n",
    "    wt = weak_signal_topics_df['Topic']\n",
    "    logger.info(f\"Weak topics: {wt}\")\n",
    "    wt_list = []\n",
    "    for topic in wt:\n",
    "        topic_model = bertrend.restore_topic_model(timestamp)\n",
    "        desc = generate_topic_description(topic_model=topic_model, topic_number=topic, filtered_docs=df, language_code=\"fr\")\n",
    "        wt_list.append({\"timestamp\": timestamp, \"topic\": topic, \"title\": desc[\"title\"], \"description\": desc[\"description\"]})\n",
    "\n",
    "    return pd.DataFrame(wt_list)\n"
   ],
   "outputs": [],
   "execution_count": 52
  },
  {
   "cell_type": "code",
   "id": "1b36e0e226103b8c",
   "metadata": {
    "ExecuteTime": {
     "end_time": "2025-03-31T13:27:58.057222Z",
     "start_time": "2025-03-31T13:27:57.928736Z"
    }
   },
   "source": "",
   "outputs": [
    {
     "name": "stderr",
     "output_type": "stream",
     "text": [
      "\u001B[32m2025-03-31 15:27:57.985\u001B[0m | \u001B[1mINFO    \u001B[0m | \u001B[36mbertrend.BERTrend\u001B[0m:\u001B[36mrestore_model\u001B[0m:\u001B[36m629\u001B[0m - \u001B[1mLoading BERTrend model from: /home/jerome/dev/cache/models/sobriete_models\u001B[0m\n"
     ]
    },
    {
     "data": {
      "text/plain": [
       "3"
      ]
     },
     "execution_count": 54,
     "metadata": {},
     "output_type": "execute_result"
    }
   ],
   "execution_count": 54
  },
  {
   "cell_type": "code",
   "id": "a2695805f56be632",
   "metadata": {
    "ExecuteTime": {
     "end_time": "2025-03-31T13:27:08.934672Z",
     "start_time": "2025-03-31T13:23:14.268494Z"
    }
   },
   "source": [
    "for data_file in input_data:\n",
    "    timestamp = pd.Timestamp(data_file.name.split('_')[0])\n",
    "    display(process_new_data(data_file, timestamp))"
   ],
   "outputs": [
    {
     "name": "stderr",
     "output_type": "stream",
     "text": [
      "\u001B[32m2025-03-31 15:23:14.338\u001B[0m | \u001B[34m\u001B[1mDEBUG   \u001B[0m | \u001B[36m__main__\u001B[0m:\u001B[36mprocess_new_data\u001B[0m:\u001B[36m2\u001B[0m - \u001B[34m\u001B[1mProcessing new data: /DSIA/nlp/bertrend/data/feeds/feed_sobriete/2024-12-30_feed_sobriete.jsonl\u001B[0m\n",
      "\u001B[32m2025-03-31 15:23:14.340\u001B[0m | \u001B[1mINFO    \u001B[0m | \u001B[36mbertrend.BERTrend\u001B[0m:\u001B[36mrestore_model\u001B[0m:\u001B[36m629\u001B[0m - \u001B[1mLoading BERTrend model from: /home/jerome/dev/cache/models/sobriete_models\u001B[0m\n",
      "\u001B[32m2025-03-31 15:23:14.767\u001B[0m | \u001B[34m\u001B[1mDEBUG   \u001B[0m | \u001B[36mbertrend.services.embedding_service\u001B[0m:\u001B[36m_remote_embed_documents\u001B[0m:\u001B[36m207\u001B[0m - \u001B[34m\u001B[1mComputing embeddings...\u001B[0m\n",
      "\u001B[32m2025-03-31 15:23:14.768\u001B[0m | \u001B[34m\u001B[1mDEBUG   \u001B[0m | \u001B[36mbertrend.services.embedding_client\u001B[0m:\u001B[36membed_documents\u001B[0m:\u001B[36m124\u001B[0m - \u001B[34m\u001B[1mCalling EmbeddingAPI using model: OrdalieTech/Solon-embeddings-large-0.1\u001B[0m\n",
      "\u001B[32m2025-03-31 15:23:14.768\u001B[0m | \u001B[34m\u001B[1mDEBUG   \u001B[0m | \u001B[36mbertrend.services.embedding_client\u001B[0m:\u001B[36membed_documents\u001B[0m:\u001B[36m128\u001B[0m - \u001B[34m\u001B[1mComputing embeddings on 932 documents using (1) batches...\u001B[0m\n",
      "2025-03-31 15:23:17.564 | DEBUG    | bertrend.services.embedding_client:embed_batch:94 - Computing embeddings...\n",
      "2025-03-31 15:23:53.343 | DEBUG    | bertrend.services.embedding_client:embed_batch:103 - Computing embeddings done for batch\n",
      "\u001B[32m2025-03-31 15:23:53.532\u001B[0m | \u001B[1mINFO    \u001B[0m | \u001B[36mbertrend.BERTrend\u001B[0m:\u001B[36mtrain_topic_models\u001B[0m:\u001B[36m240\u001B[0m - \u001B[1mTraining topic model 1/1...\u001B[0m\n",
      "\u001B[32m2025-03-31 15:23:53.535\u001B[0m | \u001B[34m\u001B[1mDEBUG   \u001B[0m | \u001B[36mbertrend.BERTrend\u001B[0m:\u001B[36m_train_by_period\u001B[0m:\u001B[36m149\u001B[0m - \u001B[34m\u001B[1mProcessing period: 2024-12-30 00:00:00\u001B[0m\n",
      "\u001B[32m2025-03-31 15:23:53.536\u001B[0m | \u001B[34m\u001B[1mDEBUG   \u001B[0m | \u001B[36mbertrend.BERTrend\u001B[0m:\u001B[36m_train_by_period\u001B[0m:\u001B[36m150\u001B[0m - \u001B[34m\u001B[1mNumber of documents: 932\u001B[0m\n",
      "\u001B[32m2025-03-31 15:23:53.537\u001B[0m | \u001B[34m\u001B[1mDEBUG   \u001B[0m | \u001B[36mbertrend.BERTrend\u001B[0m:\u001B[36m_train_by_period\u001B[0m:\u001B[36m152\u001B[0m - \u001B[34m\u001B[1mCreating topic model...\u001B[0m\n",
      "\u001B[32m2025-03-31 15:23:53.537\u001B[0m | \u001B[34m\u001B[1mDEBUG   \u001B[0m | \u001B[36mbertrend.BERTopicModel\u001B[0m:\u001B[36mfit\u001B[0m:\u001B[36m230\u001B[0m - \u001B[34m\u001B[1m\tInitializing BERTopic model\u001B[0m\n",
      "\u001B[32m2025-03-31 15:23:53.538\u001B[0m | \u001B[32m\u001B[1mSUCCESS \u001B[0m | \u001B[36mbertrend.BERTopicModel\u001B[0m:\u001B[36mfit\u001B[0m:\u001B[36m240\u001B[0m - \u001B[32m\u001B[1m\tBERTopic model instance created successfully\u001B[0m\n",
      "\u001B[32m2025-03-31 15:23:53.539\u001B[0m | \u001B[34m\u001B[1mDEBUG   \u001B[0m | \u001B[36mbertrend.BERTopicModel\u001B[0m:\u001B[36mfit\u001B[0m:\u001B[36m242\u001B[0m - \u001B[34m\u001B[1m\tFitting BERTopic model\u001B[0m\n",
      "2025-03-31 15:23:53,541 - BERTopic - Dimensionality - Fitting the dimensionality reduction algorithm\n",
      "2025-03-31 15:23:55,734 - BERTopic - Dimensionality - Completed ✓\n",
      "2025-03-31 15:23:55,735 - BERTopic - Cluster - Start clustering the reduced embeddings\n",
      "2025-03-31 15:23:55,789 - BERTopic - Cluster - Completed ✓\n",
      "2025-03-31 15:23:55,796 - BERTopic - Representation - Extracting topics from clusters using representation models.\n",
      "2025-03-31 15:23:55,916 - BERTopic - Representation - Completed ✓\n",
      "\u001B[32m2025-03-31 15:23:56.095\u001B[0m | \u001B[34m\u001B[1mDEBUG   \u001B[0m | \u001B[36mbertrend.BERTopicModel\u001B[0m:\u001B[36mfit\u001B[0m:\u001B[36m249\u001B[0m - \u001B[34m\u001B[1m\tReducing outliers\u001B[0m\n",
      "2025-03-31 15:23:56,104 - BERTopic - WARNING: Using a custom list of topic assignments may lead to errors if topic reduction techniques are used afterwards. Make sure that manually assigning topics is the last step in the pipeline.Note that topic embeddings will also be created through weightedc-TF-IDF embeddings instead of centroid embeddings.\n",
      "\u001B[32m2025-03-31 15:23:56.190\u001B[0m | \u001B[32m\u001B[1mSUCCESS \u001B[0m | \u001B[36mbertrend.BERTopicModel\u001B[0m:\u001B[36mfit\u001B[0m:\u001B[36m277\u001B[0m - \u001B[32m\u001B[1m\tBERTopic model fitted successfully\u001B[0m\n",
      "\u001B[32m2025-03-31 15:23:56.190\u001B[0m | \u001B[34m\u001B[1mDEBUG   \u001B[0m | \u001B[36mbertrend.BERTrend\u001B[0m:\u001B[36m_train_by_period\u001B[0m:\u001B[36m158\u001B[0m - \u001B[34m\u001B[1mTopic model created successfully\u001B[0m\n",
      "\u001B[32m2025-03-31 15:23:56.212\u001B[0m | \u001B[34m\u001B[1mDEBUG   \u001B[0m | \u001B[36mbertrend.BERTrend\u001B[0m:\u001B[36mmerge_models_with\u001B[0m:\u001B[36m281\u001B[0m - \u001B[34m\u001B[1mMerging topic models for timestamps: 2024-12-30 00:00:00 and 2024-12-30 00:00:00\u001B[0m\n",
      "\u001B[32m2025-03-31 15:23:56.510\u001B[0m | \u001B[32m\u001B[1mSUCCESS \u001B[0m | \u001B[36mbertrend.BERTrend\u001B[0m:\u001B[36mmerge_models_with\u001B[0m:\u001B[36m349\u001B[0m - \u001B[32m\u001B[1mModels 2024-12-30 00:00:00 merged successfully with others\u001B[0m\n",
      "\u001B[32m2025-03-31 15:23:56.510\u001B[0m | \u001B[1mINFO    \u001B[0m | \u001B[36mbertrend.BERTrend\u001B[0m:\u001B[36mtrain_topic_models\u001B[0m:\u001B[36m253\u001B[0m - \u001B[1mSaving topic model for period 2024-12-30 00:00:00...\u001B[0m\n",
      "2025-03-31 15:23:56,511 - BERTopic - WARNING: You are saving a BERTopic model without explicitly defining an embedding model.If you are using a sentence-transformers model or a HuggingFace model supportedby sentence-transformers, please save the model by using a pointer towards that model.For example, `save_embedding_model='sentence-transformers/all-mpnet-base-v2'`\n",
      "\u001B[32m2025-03-31 15:23:56.518\u001B[0m | \u001B[34m\u001B[1mDEBUG   \u001B[0m | \u001B[36mbertrend.BERTrend\u001B[0m:\u001B[36mtrain_topic_models\u001B[0m:\u001B[36m263\u001B[0m - \u001B[34m\u001B[1mSuccessfully processed period: 2024-12-30 00:00:00\u001B[0m\n",
      "\u001B[32m2025-03-31 15:23:56.519\u001B[0m | \u001B[32m\u001B[1mSUCCESS \u001B[0m | \u001B[36mbertrend.BERTrend\u001B[0m:\u001B[36mtrain_topic_models\u001B[0m:\u001B[36m272\u001B[0m - \u001B[32m\u001B[1mFinished training all topic models\u001B[0m\n",
      "\u001B[32m2025-03-31 15:23:56.519\u001B[0m | \u001B[1mINFO    \u001B[0m | \u001B[36m__main__\u001B[0m:\u001B[36mprocess_new_data\u001B[0m:\u001B[36m24\u001B[0m - \u001B[1mBERTrend processed 1 time periods\u001B[0m\n",
      "\u001B[32m2025-03-31 15:23:56.796\u001B[0m | \u001B[1mINFO    \u001B[0m | \u001B[36mbertrend.BERTrend\u001B[0m:\u001B[36msave_model\u001B[0m:\u001B[36m623\u001B[0m - \u001B[1mBERTrend model saved to: /home/jerome/dev/cache/models/sobriete_models\u001B[0m\n"
     ]
    },
    {
     "data": {
      "text/plain": [
       "None"
      ]
     },
     "metadata": {},
     "output_type": "display_data"
    },
    {
     "name": "stderr",
     "output_type": "stream",
     "text": [
      "\u001B[32m2025-03-31 15:23:56.814\u001B[0m | \u001B[34m\u001B[1mDEBUG   \u001B[0m | \u001B[36m__main__\u001B[0m:\u001B[36mprocess_new_data\u001B[0m:\u001B[36m2\u001B[0m - \u001B[34m\u001B[1mProcessing new data: /DSIA/nlp/bertrend/data/feeds/feed_sobriete/2025-01-06_feed_sobriete.jsonl\u001B[0m\n",
      "\u001B[32m2025-03-31 15:23:56.815\u001B[0m | \u001B[1mINFO    \u001B[0m | \u001B[36mbertrend.BERTrend\u001B[0m:\u001B[36mrestore_model\u001B[0m:\u001B[36m629\u001B[0m - \u001B[1mLoading BERTrend model from: /home/jerome/dev/cache/models/sobriete_models\u001B[0m\n",
      "\u001B[32m2025-03-31 15:23:56.981\u001B[0m | \u001B[34m\u001B[1mDEBUG   \u001B[0m | \u001B[36mbertrend.services.embedding_service\u001B[0m:\u001B[36m_remote_embed_documents\u001B[0m:\u001B[36m207\u001B[0m - \u001B[34m\u001B[1mComputing embeddings...\u001B[0m\n",
      "\u001B[32m2025-03-31 15:23:56.982\u001B[0m | \u001B[34m\u001B[1mDEBUG   \u001B[0m | \u001B[36mbertrend.services.embedding_client\u001B[0m:\u001B[36membed_documents\u001B[0m:\u001B[36m124\u001B[0m - \u001B[34m\u001B[1mCalling EmbeddingAPI using model: OrdalieTech/Solon-embeddings-large-0.1\u001B[0m\n",
      "\u001B[32m2025-03-31 15:23:56.982\u001B[0m | \u001B[34m\u001B[1mDEBUG   \u001B[0m | \u001B[36mbertrend.services.embedding_client\u001B[0m:\u001B[36membed_documents\u001B[0m:\u001B[36m128\u001B[0m - \u001B[34m\u001B[1mComputing embeddings on 825 documents using (1) batches...\u001B[0m\n",
      "2025-03-31 15:23:58.078 | DEBUG    | bertrend.services.embedding_client:embed_batch:94 - Computing embeddings...\n",
      "2025-03-31 15:24:28.073 | DEBUG    | bertrend.services.embedding_client:embed_batch:103 - Computing embeddings done for batch\n",
      "\u001B[32m2025-03-31 15:24:28.259\u001B[0m | \u001B[1mINFO    \u001B[0m | \u001B[36mbertrend.BERTrend\u001B[0m:\u001B[36mtrain_topic_models\u001B[0m:\u001B[36m240\u001B[0m - \u001B[1mTraining topic model 1/1...\u001B[0m\n",
      "\u001B[32m2025-03-31 15:24:28.269\u001B[0m | \u001B[34m\u001B[1mDEBUG   \u001B[0m | \u001B[36mbertrend.BERTrend\u001B[0m:\u001B[36m_train_by_period\u001B[0m:\u001B[36m149\u001B[0m - \u001B[34m\u001B[1mProcessing period: 2025-01-06 00:00:00\u001B[0m\n",
      "\u001B[32m2025-03-31 15:24:28.270\u001B[0m | \u001B[34m\u001B[1mDEBUG   \u001B[0m | \u001B[36mbertrend.BERTrend\u001B[0m:\u001B[36m_train_by_period\u001B[0m:\u001B[36m150\u001B[0m - \u001B[34m\u001B[1mNumber of documents: 825\u001B[0m\n",
      "\u001B[32m2025-03-31 15:24:28.270\u001B[0m | \u001B[34m\u001B[1mDEBUG   \u001B[0m | \u001B[36mbertrend.BERTrend\u001B[0m:\u001B[36m_train_by_period\u001B[0m:\u001B[36m152\u001B[0m - \u001B[34m\u001B[1mCreating topic model...\u001B[0m\n",
      "\u001B[32m2025-03-31 15:24:28.271\u001B[0m | \u001B[34m\u001B[1mDEBUG   \u001B[0m | \u001B[36mbertrend.BERTopicModel\u001B[0m:\u001B[36mfit\u001B[0m:\u001B[36m230\u001B[0m - \u001B[34m\u001B[1m\tInitializing BERTopic model\u001B[0m\n",
      "\u001B[32m2025-03-31 15:24:28.272\u001B[0m | \u001B[32m\u001B[1mSUCCESS \u001B[0m | \u001B[36mbertrend.BERTopicModel\u001B[0m:\u001B[36mfit\u001B[0m:\u001B[36m240\u001B[0m - \u001B[32m\u001B[1m\tBERTopic model instance created successfully\u001B[0m\n",
      "\u001B[32m2025-03-31 15:24:28.272\u001B[0m | \u001B[34m\u001B[1mDEBUG   \u001B[0m | \u001B[36mbertrend.BERTopicModel\u001B[0m:\u001B[36mfit\u001B[0m:\u001B[36m242\u001B[0m - \u001B[34m\u001B[1m\tFitting BERTopic model\u001B[0m\n",
      "2025-03-31 15:24:28,273 - BERTopic - Dimensionality - Fitting the dimensionality reduction algorithm\n",
      "2025-03-31 15:24:30,354 - BERTopic - Dimensionality - Completed ✓\n",
      "2025-03-31 15:24:30,355 - BERTopic - Cluster - Start clustering the reduced embeddings\n",
      "2025-03-31 15:24:30,399 - BERTopic - Cluster - Completed ✓\n",
      "2025-03-31 15:24:30,405 - BERTopic - Representation - Extracting topics from clusters using representation models.\n",
      "2025-03-31 15:24:30,506 - BERTopic - Representation - Completed ✓\n",
      "\u001B[32m2025-03-31 15:24:30.648\u001B[0m | \u001B[34m\u001B[1mDEBUG   \u001B[0m | \u001B[36mbertrend.BERTopicModel\u001B[0m:\u001B[36mfit\u001B[0m:\u001B[36m249\u001B[0m - \u001B[34m\u001B[1m\tReducing outliers\u001B[0m\n",
      "2025-03-31 15:24:30,656 - BERTopic - WARNING: Using a custom list of topic assignments may lead to errors if topic reduction techniques are used afterwards. Make sure that manually assigning topics is the last step in the pipeline.Note that topic embeddings will also be created through weightedc-TF-IDF embeddings instead of centroid embeddings.\n",
      "\u001B[32m2025-03-31 15:24:30.731\u001B[0m | \u001B[32m\u001B[1mSUCCESS \u001B[0m | \u001B[36mbertrend.BERTopicModel\u001B[0m:\u001B[36mfit\u001B[0m:\u001B[36m277\u001B[0m - \u001B[32m\u001B[1m\tBERTopic model fitted successfully\u001B[0m\n",
      "\u001B[32m2025-03-31 15:24:30.732\u001B[0m | \u001B[34m\u001B[1mDEBUG   \u001B[0m | \u001B[36mbertrend.BERTrend\u001B[0m:\u001B[36m_train_by_period\u001B[0m:\u001B[36m158\u001B[0m - \u001B[34m\u001B[1mTopic model created successfully\u001B[0m\n",
      "\u001B[32m2025-03-31 15:24:30.753\u001B[0m | \u001B[34m\u001B[1mDEBUG   \u001B[0m | \u001B[36mbertrend.BERTrend\u001B[0m:\u001B[36mmerge_models_with\u001B[0m:\u001B[36m281\u001B[0m - \u001B[34m\u001B[1mMerging topic models for timestamps: 2024-12-30 00:00:00 and 2025-01-06 00:00:00\u001B[0m\n",
      "\u001B[32m2025-03-31 15:24:30.934\u001B[0m | \u001B[32m\u001B[1mSUCCESS \u001B[0m | \u001B[36mbertrend.BERTrend\u001B[0m:\u001B[36mmerge_models_with\u001B[0m:\u001B[36m349\u001B[0m - \u001B[32m\u001B[1mModels 2025-01-06 00:00:00 merged successfully with others\u001B[0m\n",
      "\u001B[32m2025-03-31 15:24:30.935\u001B[0m | \u001B[1mINFO    \u001B[0m | \u001B[36mbertrend.BERTrend\u001B[0m:\u001B[36mtrain_topic_models\u001B[0m:\u001B[36m253\u001B[0m - \u001B[1mSaving topic model for period 2025-01-06 00:00:00...\u001B[0m\n",
      "2025-03-31 15:24:30,937 - BERTopic - WARNING: You are saving a BERTopic model without explicitly defining an embedding model.If you are using a sentence-transformers model or a HuggingFace model supportedby sentence-transformers, please save the model by using a pointer towards that model.For example, `save_embedding_model='sentence-transformers/all-mpnet-base-v2'`\n",
      "\u001B[32m2025-03-31 15:24:30.949\u001B[0m | \u001B[34m\u001B[1mDEBUG   \u001B[0m | \u001B[36mbertrend.BERTrend\u001B[0m:\u001B[36mtrain_topic_models\u001B[0m:\u001B[36m263\u001B[0m - \u001B[34m\u001B[1mSuccessfully processed period: 2025-01-06 00:00:00\u001B[0m\n",
      "\u001B[32m2025-03-31 15:24:30.950\u001B[0m | \u001B[32m\u001B[1mSUCCESS \u001B[0m | \u001B[36mbertrend.BERTrend\u001B[0m:\u001B[36mtrain_topic_models\u001B[0m:\u001B[36m272\u001B[0m - \u001B[32m\u001B[1mFinished training all topic models\u001B[0m\n",
      "\u001B[32m2025-03-31 15:24:30.954\u001B[0m | \u001B[1mINFO    \u001B[0m | \u001B[36m__main__\u001B[0m:\u001B[36mprocess_new_data\u001B[0m:\u001B[36m24\u001B[0m - \u001B[1mBERTrend processed 2 time periods\u001B[0m\n",
      "\u001B[32m2025-03-31 15:24:31.258\u001B[0m | \u001B[1mINFO    \u001B[0m | \u001B[36mbertrend.BERTrend\u001B[0m:\u001B[36msave_model\u001B[0m:\u001B[36m623\u001B[0m - \u001B[1mBERTrend model saved to: /home/jerome/dev/cache/models/sobriete_models\u001B[0m\n",
      "\u001B[32m2025-03-31 15:24:31.288\u001B[0m | \u001B[1mINFO    \u001B[0m | \u001B[36m__main__\u001B[0m:\u001B[36mprocess_new_data\u001B[0m:\u001B[36m44\u001B[0m - \u001B[1mWeak topics: 0      2\n",
      "1      5\n",
      "2      7\n",
      "3     11\n",
      "4     12\n",
      "5     14\n",
      "6     15\n",
      "7     17\n",
      "8     19\n",
      "9     20\n",
      "10    21\n",
      "11    22\n",
      "12    25\n",
      "13    26\n",
      "14    27\n",
      "15    28\n",
      "16    30\n",
      "17    31\n",
      "18    32\n",
      "19    35\n",
      "20    36\n",
      "21    38\n",
      "22    39\n",
      "23    40\n",
      "24    41\n",
      "25    42\n",
      "26    43\n",
      "27    44\n",
      "28    46\n",
      "29    47\n",
      "30    48\n",
      "31    52\n",
      "32    53\n",
      "33    54\n",
      "34    56\n",
      "35    57\n",
      "36    58\n",
      "37    59\n",
      "38    60\n",
      "39    61\n",
      "Name: Topic, dtype: int64\u001B[0m\n",
      "2025-03-31 15:24:31,291 - BERTopic - WARNING: You are loading a BERTopic model without explicitly defining an embedding model. If you want to also load in an embedding model, make sure to use `BERTopic.load(my_model, embedding_model=my_embedding_model)`.\n",
      "\u001B[32m2025-03-31 15:24:33.395\u001B[0m | \u001B[34m\u001B[1mDEBUG   \u001B[0m | \u001B[36mbertrend.llm_utils.openai_client\u001B[0m:\u001B[36mgenerate_from_history\u001B[0m:\u001B[36m128\u001B[0m - \u001B[34m\u001B[1mAPI returned: ChatCompletion(id='chatcmpl-BH9PrqaGwQCXwGjpVHASnWs8V6kdP', choices=[Choice(finish_reason='stop', index=0, logprobs=None, message=ChatCompletionMessage(content='{\\n  \"title\": \"Bilan des Transports et Réduction des Émissions de Carbone\",\\n  \"description\": \"Ce thème aborde les initiatives gouvernementales visant à soutenir les secteurs des transports face à la hausse des coûts de l\\'énergie et à réduire les émissions de gaz à effet de serre (GES). Il met en lumière les efforts de collaboration entre ministères, fédérations professionnelles et organisations syndicales pour élaborer des plans d\\'action concrets. L\\'accent est mis sur la nécessité d\\'une transition vers des véhicules moins polluants et d\\'une gestion optimisée du trafic, dans le cadre de la Stratégie Nationale Bas Carbone (SNBC), afin d\\'atteindre les objectifs climatiques fixés.\"\\n}', refusal=None, role='assistant', annotations=None, audio=None, function_call=None, tool_calls=None), content_filter_results={'hate': {'filtered': False, 'severity': 'safe'}, 'protected_material_code': {'filtered': False, 'detected': False}, 'protected_material_text': {'filtered': False, 'detected': False}, 'self_harm': {'filtered': False, 'severity': 'safe'}, 'sexual': {'filtered': False, 'severity': 'safe'}, 'violence': {'filtered': False, 'severity': 'safe'}})], created=1743427471, model='gpt-4o-mini-2024-07-18', object='chat.completion', service_tier=None, system_fingerprint='fp_ded0d14823', usage=CompletionUsage(completion_tokens=151, prompt_tokens=391, total_tokens=542, completion_tokens_details=CompletionTokensDetails(accepted_prediction_tokens=0, audio_tokens=0, reasoning_tokens=0, rejected_prediction_tokens=0), prompt_tokens_details=PromptTokensDetails(audio_tokens=0, cached_tokens=0)), prompt_filter_results=[{'prompt_index': 0, 'content_filter_results': {'hate': {'filtered': False, 'severity': 'safe'}, 'jailbreak': {'filtered': False, 'detected': False}, 'self_harm': {'filtered': False, 'severity': 'safe'}, 'sexual': {'filtered': False, 'severity': 'safe'}, 'violence': {'filtered': False, 'severity': 'safe'}}}])\u001B[0m\n",
      "2025-03-31 15:24:33,403 - BERTopic - WARNING: You are loading a BERTopic model without explicitly defining an embedding model. If you want to also load in an embedding model, make sure to use `BERTopic.load(my_model, embedding_model=my_embedding_model)`.\n",
      "\u001B[32m2025-03-31 15:24:35.371\u001B[0m | \u001B[34m\u001B[1mDEBUG   \u001B[0m | \u001B[36mbertrend.llm_utils.openai_client\u001B[0m:\u001B[36mgenerate_from_history\u001B[0m:\u001B[36m128\u001B[0m - \u001B[34m\u001B[1mAPI returned: ChatCompletion(id='chatcmpl-BH9PtCKrr2lTkFpxsmy09R8mPlYr1', choices=[Choice(finish_reason='stop', index=0, logprobs=None, message=ChatCompletionMessage(content='{\\n  \"title\": \"Soutien à l\\'Innovation Énergétique pour Tous les Secteurs\",\\n  \"description\": \"Face à l\\'augmentation des coûts de l\\'énergie, l\\'État mobilise ses ressources pour soutenir les consommateurs, y compris les entreprises des secteurs tertiaire, public, et numérique. La ministre de la Transition énergétique, Agnès Pannier Runacher, a initié un groupe de travail sectoriel, en collaboration avec divers ministres, pour élaborer des plans d\\'action concrets. Ces initiatives visent à engager les acteurs économiques dans une démarche d\\'innovation et de transition énergétique, tout en impliquant les fédérations professionnelles et les organisations syndicales pour garantir une réponse adaptée aux défis actuels.\"\\n}', refusal=None, role='assistant', annotations=None, audio=None, function_call=None, tool_calls=None), content_filter_results={'hate': {'filtered': False, 'severity': 'safe'}, 'protected_material_code': {'filtered': False, 'detected': False}, 'protected_material_text': {'filtered': False, 'detected': False}, 'self_harm': {'filtered': False, 'severity': 'safe'}, 'sexual': {'filtered': False, 'severity': 'safe'}, 'violence': {'filtered': False, 'severity': 'safe'}})], created=1743427473, model='gpt-4o-mini-2024-07-18', object='chat.completion', service_tier=None, system_fingerprint='fp_ded0d14823', usage=CompletionUsage(completion_tokens=152, prompt_tokens=396, total_tokens=548, completion_tokens_details=CompletionTokensDetails(accepted_prediction_tokens=0, audio_tokens=0, reasoning_tokens=0, rejected_prediction_tokens=0), prompt_tokens_details=PromptTokensDetails(audio_tokens=0, cached_tokens=0)), prompt_filter_results=[{'prompt_index': 0, 'content_filter_results': {'hate': {'filtered': False, 'severity': 'safe'}, 'jailbreak': {'filtered': False, 'detected': False}, 'self_harm': {'filtered': False, 'severity': 'safe'}, 'sexual': {'filtered': False, 'severity': 'safe'}, 'violence': {'filtered': False, 'severity': 'safe'}}}])\u001B[0m\n",
      "2025-03-31 15:24:35,376 - BERTopic - WARNING: You are loading a BERTopic model without explicitly defining an embedding model. If you want to also load in an embedding model, make sure to use `BERTopic.load(my_model, embedding_model=my_embedding_model)`.\n",
      "\u001B[32m2025-03-31 15:24:37.181\u001B[0m | \u001B[34m\u001B[1mDEBUG   \u001B[0m | \u001B[36mbertrend.llm_utils.openai_client\u001B[0m:\u001B[36mgenerate_from_history\u001B[0m:\u001B[36m128\u001B[0m - \u001B[34m\u001B[1mAPI returned: ChatCompletion(id='chatcmpl-BH9PvdHy52rUo3lXrGrfZAACR17YI', choices=[Choice(finish_reason='stop', index=0, logprobs=None, message=ChatCompletionMessage(content='{\\n  \"title\": \"Gestion des Risques Énergétiques en Hiver\",\\n  \"description\": \"Ce thème aborde les enjeux de la disponibilité énergétique durant l\\'hiver, en particulier face aux risques de coupures de courant. Il met en lumière les initiatives gouvernementales visant à soutenir les consommateurs et les entreprises, notamment à travers la création de groupes de travail sectoriels. Les ministres collaborent avec des fédérations professionnelles et des organisations syndicales pour élaborer des plans d\\'action concrets, garantissant ainsi la résilience des infrastructures énergétiques et la gestion des stocks. L\\'accent est mis sur la nécessité d\\'une approche collective pour faire face aux défis énergétiques actuels.\"\\n}', refusal=None, role='assistant', annotations=None, audio=None, function_call=None, tool_calls=None), content_filter_results={'hate': {'filtered': False, 'severity': 'safe'}, 'protected_material_code': {'filtered': False, 'detected': False}, 'protected_material_text': {'filtered': False, 'detected': False}, 'self_harm': {'filtered': False, 'severity': 'safe'}, 'sexual': {'filtered': False, 'severity': 'safe'}, 'violence': {'filtered': False, 'severity': 'safe'}})], created=1743427475, model='gpt-4o-mini-2024-07-18', object='chat.completion', service_tier=None, system_fingerprint='fp_ded0d14823', usage=CompletionUsage(completion_tokens=142, prompt_tokens=394, total_tokens=536, completion_tokens_details=CompletionTokensDetails(accepted_prediction_tokens=0, audio_tokens=0, reasoning_tokens=0, rejected_prediction_tokens=0), prompt_tokens_details=PromptTokensDetails(audio_tokens=0, cached_tokens=0)), prompt_filter_results=[{'prompt_index': 0, 'content_filter_results': {'hate': {'filtered': False, 'severity': 'safe'}, 'jailbreak': {'filtered': False, 'detected': False}, 'self_harm': {'filtered': False, 'severity': 'safe'}, 'sexual': {'filtered': False, 'severity': 'safe'}, 'violence': {'filtered': False, 'severity': 'safe'}}}])\u001B[0m\n",
      "2025-03-31 15:24:37,183 - BERTopic - WARNING: You are loading a BERTopic model without explicitly defining an embedding model. If you want to also load in an embedding model, make sure to use `BERTopic.load(my_model, embedding_model=my_embedding_model)`.\n",
      "\u001B[32m2025-03-31 15:24:43.812\u001B[0m | \u001B[34m\u001B[1mDEBUG   \u001B[0m | \u001B[36mbertrend.llm_utils.openai_client\u001B[0m:\u001B[36mgenerate_from_history\u001B[0m:\u001B[36m128\u001B[0m - \u001B[34m\u001B[1mAPI returned: ChatCompletion(id='chatcmpl-BH9Q2IGcJq4A0RUb50o9LZsDnOdnF', choices=[Choice(finish_reason='stop', index=0, logprobs=None, message=ChatCompletionMessage(content='{\\n  \"title\": \"Soutien à l\\'énergie face au changement climatique\",\\n  \"description\": \"Ce thème explore les initiatives gouvernementales mises en place pour soutenir les consommateurs et les entreprises face à la hausse des coûts de l\\'énergie depuis 2021. Il met en lumière la création de groupes de travail sectoriels dirigés par des ministres pour élaborer des plans d\\'action concrets. Ces mesures visent à impliquer tous les secteurs, y compris le tertiaire, le numérique et les transports, afin de répondre aux défis énergétiques actuels tout en tenant compte des enjeux environnementaux et culturels liés au réchauffement climatique et à la transition énergétique.\"\\n}', refusal=None, role='assistant', annotations=None, audio=None, function_call=None, tool_calls=None), content_filter_results={'hate': {'filtered': False, 'severity': 'safe'}, 'protected_material_code': {'filtered': False, 'detected': False}, 'protected_material_text': {'filtered': False, 'detected': False}, 'self_harm': {'filtered': False, 'severity': 'safe'}, 'sexual': {'filtered': False, 'severity': 'safe'}, 'violence': {'filtered': False, 'severity': 'safe'}})], created=1743427482, model='gpt-4o-mini-2024-07-18', object='chat.completion', service_tier=None, system_fingerprint='fp_ded0d14823', usage=CompletionUsage(completion_tokens=138, prompt_tokens=398, total_tokens=536, completion_tokens_details=CompletionTokensDetails(accepted_prediction_tokens=0, audio_tokens=0, reasoning_tokens=0, rejected_prediction_tokens=0), prompt_tokens_details=PromptTokensDetails(audio_tokens=0, cached_tokens=0)), prompt_filter_results=[{'prompt_index': 0, 'content_filter_results': {'hate': {'filtered': False, 'severity': 'safe'}, 'jailbreak': {'filtered': False, 'detected': False}, 'self_harm': {'filtered': False, 'severity': 'safe'}, 'sexual': {'filtered': False, 'severity': 'safe'}, 'violence': {'filtered': False, 'severity': 'safe'}}}])\u001B[0m\n",
      "2025-03-31 15:24:43,814 - BERTopic - WARNING: You are loading a BERTopic model without explicitly defining an embedding model. If you want to also load in an embedding model, make sure to use `BERTopic.load(my_model, embedding_model=my_embedding_model)`.\n",
      "\u001B[32m2025-03-31 15:24:46.482\u001B[0m | \u001B[34m\u001B[1mDEBUG   \u001B[0m | \u001B[36mbertrend.llm_utils.openai_client\u001B[0m:\u001B[36mgenerate_from_history\u001B[0m:\u001B[36m128\u001B[0m - \u001B[34m\u001B[1mAPI returned: ChatCompletion(id='chatcmpl-BH9Q4NSbRlRBdcg5COqSjTcnWNnFj', choices=[Choice(finish_reason='stop', index=0, logprobs=None, message=ChatCompletionMessage(content='{\\n  \"title\": \"Soutien à l\\'Énergie et Flexibilité des Installations en 2027\",\\n  \"description\": \"Face à l\\'augmentation des coûts énergétiques, l\\'État met en place un soutien ciblé pour les entreprises de divers secteurs, notamment le tertiaire, le public et le numérique. En 2027, un groupe de travail, dirigé par la ministre de la Transition énergétique, Agnès Pannier Runacher, élabore des plans d\\'action flexibles pour optimiser l\\'équipement et l\\'installation de systèmes de chauffage adaptés aux variations de température. Ces mesures visent à garantir une gestion efficace de l\\'énergie tout en soutenant les entreprises dans leur transition vers des pratiques plus durables et économes.\"\\n}', refusal=None, role='assistant', annotations=None, audio=None, function_call=None, tool_calls=None), content_filter_results={'hate': {'filtered': False, 'severity': 'safe'}, 'protected_material_code': {'filtered': False, 'detected': False}, 'protected_material_text': {'filtered': False, 'detected': False}, 'self_harm': {'filtered': False, 'severity': 'safe'}, 'sexual': {'filtered': False, 'severity': 'safe'}, 'violence': {'filtered': False, 'severity': 'safe'}})], created=1743427484, model='gpt-4o-mini-2024-07-18', object='chat.completion', service_tier=None, system_fingerprint='fp_ded0d14823', usage=CompletionUsage(completion_tokens=155, prompt_tokens=397, total_tokens=552, completion_tokens_details=CompletionTokensDetails(accepted_prediction_tokens=0, audio_tokens=0, reasoning_tokens=0, rejected_prediction_tokens=0), prompt_tokens_details=PromptTokensDetails(audio_tokens=0, cached_tokens=0)), prompt_filter_results=[{'prompt_index': 0, 'content_filter_results': {'hate': {'filtered': False, 'severity': 'safe'}, 'jailbreak': {'filtered': False, 'detected': False}, 'self_harm': {'filtered': False, 'severity': 'safe'}, 'sexual': {'filtered': False, 'severity': 'safe'}, 'violence': {'filtered': False, 'severity': 'safe'}}}])\u001B[0m\n",
      "2025-03-31 15:24:46,487 - BERTopic - WARNING: You are loading a BERTopic model without explicitly defining an embedding model. If you want to also load in an embedding model, make sure to use `BERTopic.load(my_model, embedding_model=my_embedding_model)`.\n",
      "\u001B[32m2025-03-31 15:24:48.201\u001B[0m | \u001B[34m\u001B[1mDEBUG   \u001B[0m | \u001B[36mbertrend.llm_utils.openai_client\u001B[0m:\u001B[36mgenerate_from_history\u001B[0m:\u001B[36m128\u001B[0m - \u001B[34m\u001B[1mAPI returned: ChatCompletion(id='chatcmpl-BH9Q6cw6YPp53Q3J3z1yqa96uy1cN', choices=[Choice(finish_reason='stop', index=0, logprobs=None, message=ChatCompletionMessage(content='{\\n  \"title\": \"Soutien tarifaire face à la crise énergétique\",\\n  \"description\": \"Face à la hausse des coûts de l\\'énergie depuis 2021, l\\'État a mis en place des mesures de soutien pour les consommateurs, y compris les entreprises des secteurs tertiaire, public, des transports et du numérique. La ministre de la Transition énergétique a initié un groupe de travail sectoriel pour élaborer des plans d\\'action concrets, en collaboration avec divers ministères et fédérations professionnelles. Ces efforts visent à atténuer les impacts financiers de la crise énergétique, en proposant des solutions adaptées aux besoins spécifiques de chaque secteur tout en tenant compte des contraintes tarifaires et réglementaires.\"\\n}', refusal=None, role='assistant', annotations=None, audio=None, function_call=None, tool_calls=None), content_filter_results={'hate': {'filtered': False, 'severity': 'safe'}, 'protected_material_code': {'filtered': False, 'detected': False}, 'protected_material_text': {'filtered': False, 'detected': False}, 'self_harm': {'filtered': False, 'severity': 'safe'}, 'sexual': {'filtered': False, 'severity': 'safe'}, 'violence': {'filtered': False, 'severity': 'safe'}})], created=1743427486, model='gpt-4o-mini-2024-07-18', object='chat.completion', service_tier=None, system_fingerprint='fp_ded0d14823', usage=CompletionUsage(completion_tokens=144, prompt_tokens=395, total_tokens=539, completion_tokens_details=CompletionTokensDetails(accepted_prediction_tokens=0, audio_tokens=0, reasoning_tokens=0, rejected_prediction_tokens=0), prompt_tokens_details=PromptTokensDetails(audio_tokens=0, cached_tokens=0)), prompt_filter_results=[{'prompt_index': 0, 'content_filter_results': {'hate': {'filtered': False, 'severity': 'safe'}, 'jailbreak': {'filtered': False, 'detected': False}, 'self_harm': {'filtered': False, 'severity': 'safe'}, 'sexual': {'filtered': False, 'severity': 'safe'}, 'violence': {'filtered': False, 'severity': 'safe'}}}])\u001B[0m\n",
      "2025-03-31 15:24:48,207 - BERTopic - WARNING: You are loading a BERTopic model without explicitly defining an embedding model. If you want to also load in an embedding model, make sure to use `BERTopic.load(my_model, embedding_model=my_embedding_model)`.\n",
      "\u001B[32m2025-03-31 15:24:51.432\u001B[0m | \u001B[34m\u001B[1mDEBUG   \u001B[0m | \u001B[36mbertrend.llm_utils.openai_client\u001B[0m:\u001B[36mgenerate_from_history\u001B[0m:\u001B[36m128\u001B[0m - \u001B[34m\u001B[1mAPI returned: ChatCompletion(id='chatcmpl-BH9Q8ecIBAsDMp8uD0Meob5f9VVeR', choices=[Choice(finish_reason='stop', index=0, logprobs=None, message=ChatCompletionMessage(content='{\\n  \"title\": \"Soutien Énergétique et Festivités à Paris\",\\n  \"description\": \"Ce thème explore l\\'initiative de l\\'État français pour soutenir les consommateurs face à la hausse des coûts de l\\'énergie, tout en mettant en lumière les événements festifs à Paris. En parallèle des mesures gouvernementales, des animations et spectacles, tels que des feux d\\'artifice et des projections vidéo, sont organisés dans les champs parisiens pour célébrer la résilience des secteurs touchés. La ministre de la Transition énergétique, Agnès Pannier Runacher, et d\\'autres ministres collaborent avec des fédérations professionnelles pour élaborer des plans d\\'action concrets, intégrant à la fois des solutions économiques et des moments de convivialité.\"\\n}', refusal=None, role='assistant', annotations=None, audio=None, function_call=None, tool_calls=None), content_filter_results={'hate': {'filtered': False, 'severity': 'safe'}, 'protected_material_code': {'filtered': False, 'detected': False}, 'protected_material_text': {'filtered': False, 'detected': False}, 'self_harm': {'filtered': False, 'severity': 'safe'}, 'sexual': {'filtered': False, 'severity': 'safe'}, 'violence': {'filtered': False, 'severity': 'safe'}})], created=1743427488, model='gpt-4o-mini-2024-07-18', object='chat.completion', service_tier=None, system_fingerprint='fp_ded0d14823', usage=CompletionUsage(completion_tokens=160, prompt_tokens=393, total_tokens=553, completion_tokens_details=CompletionTokensDetails(accepted_prediction_tokens=0, audio_tokens=0, reasoning_tokens=0, rejected_prediction_tokens=0), prompt_tokens_details=PromptTokensDetails(audio_tokens=0, cached_tokens=0)), prompt_filter_results=[{'prompt_index': 0, 'content_filter_results': {'hate': {'filtered': False, 'severity': 'safe'}, 'jailbreak': {'filtered': False, 'detected': False}, 'self_harm': {'filtered': False, 'severity': 'safe'}, 'sexual': {'filtered': False, 'severity': 'safe'}, 'violence': {'filtered': False, 'severity': 'safe'}}}])\u001B[0m\n",
      "2025-03-31 15:24:51,450 - BERTopic - WARNING: You are loading a BERTopic model without explicitly defining an embedding model. If you want to also load in an embedding model, make sure to use `BERTopic.load(my_model, embedding_model=my_embedding_model)`.\n",
      "\u001B[32m2025-03-31 15:24:53.910\u001B[0m | \u001B[34m\u001B[1mDEBUG   \u001B[0m | \u001B[36mbertrend.llm_utils.openai_client\u001B[0m:\u001B[36mgenerate_from_history\u001B[0m:\u001B[36m128\u001B[0m - \u001B[34m\u001B[1mAPI returned: ChatCompletion(id='chatcmpl-BH9QBts8Shu9eAuQ9uWy33r7D2LXL', choices=[Choice(finish_reason='stop', index=0, logprobs=None, message=ChatCompletionMessage(content='{\\n  \"title\": \"Soutien Énergétique : Solidarité et Lutte contre la Précarité\",\\n  \"description\": \"Face à la hausse des coûts de l\\'énergie, l\\'État mobilise des ressources pour soutenir les ménages et les entreprises. La ministre de la Transition énergétique, Agnès Pannier Runacher, a initié un groupe de travail sectoriel pour élaborer des mesures concrètes en collaboration avec divers ministères et organisations professionnelles. Ce plan vise à atténuer les difficultés rencontrées par les consommateurs, en favorisant la solidarité et en luttant contre la précarité énergétique. Les engagements pris par les ministres et les partenaires sociaux soulignent l\\'importance d\\'une approche collective pour faire face à cette crise.\"\\n}', refusal=None, role='assistant', annotations=None, audio=None, function_call=None, tool_calls=None), content_filter_results={'hate': {'filtered': False, 'severity': 'safe'}, 'protected_material_code': {'filtered': False, 'detected': False}, 'protected_material_text': {'filtered': False, 'detected': False}, 'self_harm': {'filtered': False, 'severity': 'safe'}, 'sexual': {'filtered': False, 'severity': 'safe'}, 'violence': {'filtered': False, 'severity': 'safe'}})], created=1743427491, model='gpt-4o-mini-2024-07-18', object='chat.completion', service_tier=None, system_fingerprint='fp_ded0d14823', usage=CompletionUsage(completion_tokens=158, prompt_tokens=394, total_tokens=552, completion_tokens_details=CompletionTokensDetails(accepted_prediction_tokens=0, audio_tokens=0, reasoning_tokens=0, rejected_prediction_tokens=0), prompt_tokens_details=PromptTokensDetails(audio_tokens=0, cached_tokens=0)), prompt_filter_results=[{'prompt_index': 0, 'content_filter_results': {'hate': {'filtered': False, 'severity': 'safe'}, 'jailbreak': {'filtered': False, 'detected': False}, 'self_harm': {'filtered': False, 'severity': 'safe'}, 'sexual': {'filtered': False, 'severity': 'safe'}, 'violence': {'filtered': False, 'severity': 'safe'}}}])\u001B[0m\n",
      "2025-03-31 15:24:53,918 - BERTopic - WARNING: You are loading a BERTopic model without explicitly defining an embedding model. If you want to also load in an embedding model, make sure to use `BERTopic.load(my_model, embedding_model=my_embedding_model)`.\n",
      "\u001B[32m2025-03-31 15:24:55.910\u001B[0m | \u001B[34m\u001B[1mDEBUG   \u001B[0m | \u001B[36mbertrend.llm_utils.openai_client\u001B[0m:\u001B[36mgenerate_from_history\u001B[0m:\u001B[36m128\u001B[0m - \u001B[34m\u001B[1mAPI returned: ChatCompletion(id='chatcmpl-BH9QEPquZmZX7P06hH2exXvLrUWaO', choices=[Choice(finish_reason='stop', index=0, logprobs=None, message=ChatCompletionMessage(content='{\\n  \"title\": \"Actions Régionales pour la Biodiversité et l\\'Énergie\",\\n  \"description\": \"Ce thème aborde les initiatives mises en place par l\\'État pour soutenir la biodiversité régionale tout en répondant à la crise énergétique. À travers un diagnostic approfondi, des actions concrètes sont proposées pour impliquer divers secteurs, notamment le tertiaire, le public et le numérique. Les ministres, en collaboration avec des fédérations professionnelles et des organisations syndicales, travaillent à l\\'élaboration de plans d\\'action spécifiques. L\\'objectif est de préserver les ressources naturelles tout en garantissant une transition énergétique efficace et durable, favorisant ainsi un développement harmonieux des territoires.\"\\n}', refusal=None, role='assistant', annotations=None, audio=None, function_call=None, tool_calls=None), content_filter_results={'hate': {'filtered': False, 'severity': 'safe'}, 'protected_material_code': {'filtered': False, 'detected': False}, 'protected_material_text': {'filtered': False, 'detected': False}, 'self_harm': {'filtered': False, 'severity': 'safe'}, 'sexual': {'filtered': False, 'severity': 'safe'}, 'violence': {'filtered': False, 'severity': 'safe'}})], created=1743427494, model='gpt-4o-mini-2024-07-18', object='chat.completion', service_tier=None, system_fingerprint='fp_ded0d14823', usage=CompletionUsage(completion_tokens=142, prompt_tokens=393, total_tokens=535, completion_tokens_details=CompletionTokensDetails(accepted_prediction_tokens=0, audio_tokens=0, reasoning_tokens=0, rejected_prediction_tokens=0), prompt_tokens_details=PromptTokensDetails(audio_tokens=0, cached_tokens=0)), prompt_filter_results=[{'prompt_index': 0, 'content_filter_results': {'hate': {'filtered': False, 'severity': 'safe'}, 'jailbreak': {'filtered': False, 'detected': False}, 'self_harm': {'filtered': False, 'severity': 'safe'}, 'sexual': {'filtered': False, 'severity': 'safe'}, 'violence': {'filtered': False, 'severity': 'safe'}}}])\u001B[0m\n",
      "2025-03-31 15:24:55,916 - BERTopic - WARNING: You are loading a BERTopic model without explicitly defining an embedding model. If you want to also load in an embedding model, make sure to use `BERTopic.load(my_model, embedding_model=my_embedding_model)`.\n",
      "\u001B[32m2025-03-31 15:24:57.824\u001B[0m | \u001B[34m\u001B[1mDEBUG   \u001B[0m | \u001B[36mbertrend.llm_utils.openai_client\u001B[0m:\u001B[36mgenerate_from_history\u001B[0m:\u001B[36m128\u001B[0m - \u001B[34m\u001B[1mAPI returned: ChatCompletion(id='chatcmpl-BH9QGLkxp8GUR6onGWXCZpJuIQDom', choices=[Choice(finish_reason='stop', index=0, logprobs=None, message=ChatCompletionMessage(content='{\\n  \"title\": \"Soutien gouvernemental face à la hausse des coûts énergétiques\",\\n  \"description\": \"Face à l\\'augmentation des coûts de l\\'énergie depuis 2021, l\\'État français a mis en place un soutien pour tous les consommateurs, y compris les entreprises des secteurs tertiaire, public, des transports et du numérique. La ministre de la Transition énergétique, Agnès Pannier Runacher, a initié un groupe de travail sectoriel pour élaborer des mesures concrètes en collaboration avec divers ministres et fédérations professionnelles. Ce plan, présenté le 6 octobre 2022, vise à impliquer tous les acteurs concernés dans la gestion des coûts énergétiques et à garantir une transition énergétique efficace.\"\\n}', refusal=None, role='assistant', annotations=None, audio=None, function_call=None, tool_calls=None), content_filter_results={'hate': {'filtered': False, 'severity': 'safe'}, 'protected_material_code': {'filtered': False, 'detected': False}, 'protected_material_text': {'filtered': False, 'detected': False}, 'self_harm': {'filtered': False, 'severity': 'safe'}, 'sexual': {'filtered': False, 'severity': 'safe'}, 'violence': {'filtered': False, 'severity': 'safe'}})], created=1743427496, model='gpt-4o-mini-2024-07-18', object='chat.completion', service_tier=None, system_fingerprint='fp_ded0d14823', usage=CompletionUsage(completion_tokens=151, prompt_tokens=396, total_tokens=547, completion_tokens_details=CompletionTokensDetails(accepted_prediction_tokens=0, audio_tokens=0, reasoning_tokens=0, rejected_prediction_tokens=0), prompt_tokens_details=PromptTokensDetails(audio_tokens=0, cached_tokens=0)), prompt_filter_results=[{'prompt_index': 0, 'content_filter_results': {'hate': {'filtered': False, 'severity': 'safe'}, 'jailbreak': {'filtered': False, 'detected': False}, 'self_harm': {'filtered': False, 'severity': 'safe'}, 'sexual': {'filtered': False, 'severity': 'safe'}, 'violence': {'filtered': False, 'severity': 'safe'}}}])\u001B[0m\n",
      "2025-03-31 15:24:57,831 - BERTopic - WARNING: You are loading a BERTopic model without explicitly defining an embedding model. If you want to also load in an embedding model, make sure to use `BERTopic.load(my_model, embedding_model=my_embedding_model)`.\n",
      "\u001B[32m2025-03-31 15:25:00.081\u001B[0m | \u001B[34m\u001B[1mDEBUG   \u001B[0m | \u001B[36mbertrend.llm_utils.openai_client\u001B[0m:\u001B[36mgenerate_from_history\u001B[0m:\u001B[36m128\u001B[0m - \u001B[34m\u001B[1mAPI returned: ChatCompletion(id='chatcmpl-BH9QIWwAi3UOep3zme7aTFnymIhbQ', choices=[Choice(finish_reason='stop', index=0, logprobs=None, message=ChatCompletionMessage(content='{\\n  \"title\": \"Syndicat d\\'éclairage LED pour communes de Garonne\",\\n  \"description\": \"Face à la hausse des coûts de l\\'énergie, le syndicat d\\'éclairage des communes de Garonne, dirigé par Thierry, met en place des solutions d\\'éclairage public LED. Ce projet vise à moderniser l\\'éclairage urbain tout en réduisant les dépenses énergétiques. En collaboration avec les ministères concernés, des mesures concrètes seront proposées pour garantir un éclairage positif et durable, favorisant ainsi la transition énergétique au niveau départemental. L\\'initiative s\\'inscrit dans un cadre plus large de soutien aux secteurs public et privé, visant à impliquer toutes les parties prenantes dans cette démarche écologique.\"\\n}', refusal=None, role='assistant', annotations=None, audio=None, function_call=None, tool_calls=None), content_filter_results={'hate': {'filtered': False, 'severity': 'safe'}, 'protected_material_code': {'filtered': False, 'detected': False}, 'protected_material_text': {'filtered': False, 'detected': False}, 'self_harm': {'filtered': False, 'severity': 'safe'}, 'sexual': {'filtered': False, 'severity': 'safe'}, 'violence': {'filtered': False, 'severity': 'safe'}})], created=1743427498, model='gpt-4o-mini-2024-07-18', object='chat.completion', service_tier=None, system_fingerprint='fp_ded0d14823', usage=CompletionUsage(completion_tokens=153, prompt_tokens=395, total_tokens=548, completion_tokens_details=CompletionTokensDetails(accepted_prediction_tokens=0, audio_tokens=0, reasoning_tokens=0, rejected_prediction_tokens=0), prompt_tokens_details=PromptTokensDetails(audio_tokens=0, cached_tokens=0)), prompt_filter_results=[{'prompt_index': 0, 'content_filter_results': {'hate': {'filtered': False, 'severity': 'safe'}, 'jailbreak': {'filtered': False, 'detected': False}, 'self_harm': {'filtered': False, 'severity': 'safe'}, 'sexual': {'filtered': False, 'severity': 'safe'}, 'violence': {'filtered': False, 'severity': 'safe'}}}])\u001B[0m\n",
      "2025-03-31 15:25:00,087 - BERTopic - WARNING: You are loading a BERTopic model without explicitly defining an embedding model. If you want to also load in an embedding model, make sure to use `BERTopic.load(my_model, embedding_model=my_embedding_model)`.\n",
      "\u001B[32m2025-03-31 15:25:02.856\u001B[0m | \u001B[34m\u001B[1mDEBUG   \u001B[0m | \u001B[36mbertrend.llm_utils.openai_client\u001B[0m:\u001B[36mgenerate_from_history\u001B[0m:\u001B[36m128\u001B[0m - \u001B[34m\u001B[1mAPI returned: ChatCompletion(id='chatcmpl-BH9QKz3nH6biiL0qJAp0xKfVe1TL7', choices=[Choice(finish_reason='stop', index=0, logprobs=None, message=ChatCompletionMessage(content='{\\n  \"title\": \"Planification régionale pour la transition énergétique en Aquitaine\",\\n  \"description\": \"Ce thème aborde la réponse de l\\'État face à la hausse des coûts de l\\'énergie, en mettant en place un soutien ciblé pour les entreprises de divers secteurs en Aquitaine. La ministre de la Transition énergétique a initié un groupe de travail sectoriel, impliquant des ministres et des acteurs clés tels que les fédérations professionnelles et les organisations syndicales. L\\'objectif est de développer un plan de mesures concrètes pour accompagner la requalification des emplois et la planification régionale, tout en associant les collectivités locales à cette démarche collaborative.\"\\n}', refusal=None, role='assistant', annotations=None, audio=None, function_call=None, tool_calls=None), content_filter_results={'hate': {'filtered': False, 'severity': 'safe'}, 'protected_material_code': {'filtered': False, 'detected': False}, 'protected_material_text': {'filtered': False, 'detected': False}, 'self_harm': {'filtered': False, 'severity': 'safe'}, 'sexual': {'filtered': False, 'severity': 'safe'}, 'violence': {'filtered': False, 'severity': 'safe'}})], created=1743427500, model='gpt-4o-mini-2024-07-18', object='chat.completion', service_tier=None, system_fingerprint='fp_ded0d14823', usage=CompletionUsage(completion_tokens=137, prompt_tokens=394, total_tokens=531, completion_tokens_details=CompletionTokensDetails(accepted_prediction_tokens=0, audio_tokens=0, reasoning_tokens=0, rejected_prediction_tokens=0), prompt_tokens_details=PromptTokensDetails(audio_tokens=0, cached_tokens=0)), prompt_filter_results=[{'prompt_index': 0, 'content_filter_results': {'hate': {'filtered': False, 'severity': 'safe'}, 'jailbreak': {'filtered': False, 'detected': False}, 'self_harm': {'filtered': False, 'severity': 'safe'}, 'sexual': {'filtered': False, 'severity': 'safe'}, 'violence': {'filtered': False, 'severity': 'safe'}}}])\u001B[0m\n",
      "2025-03-31 15:25:02,863 - BERTopic - WARNING: You are loading a BERTopic model without explicitly defining an embedding model. If you want to also load in an embedding model, make sure to use `BERTopic.load(my_model, embedding_model=my_embedding_model)`.\n",
      "\u001B[32m2025-03-31 15:25:04.962\u001B[0m | \u001B[34m\u001B[1mDEBUG   \u001B[0m | \u001B[36mbertrend.llm_utils.openai_client\u001B[0m:\u001B[36mgenerate_from_history\u001B[0m:\u001B[36m128\u001B[0m - \u001B[34m\u001B[1mAPI returned: ChatCompletion(id='chatcmpl-BH9QN5OZ1JPN8ldTK9ZWEJXcGNki1', choices=[Choice(finish_reason='stop', index=0, logprobs=None, message=ChatCompletionMessage(content='{\\n  \"title\": \"Soutien gouvernemental face à la crise énergétique hivernale\",\\n  \"description\": \"Face à la hausse des coûts de l\\'énergie depuis 2021, l\\'État met en place un soutien ciblé pour les consommateurs, y compris les entreprises des secteurs tertiaire, public, des transports et du numérique. La ministre de la Transition énergétique, Agnès Pannier Runacher, a initié un groupe de travail sectoriel pour impliquer tous les acteurs concernés. En collaboration avec les ministres dédiés et les fédérations professionnelles, un plan d\\'action concret sera proposé pour réduire les tensions économiques et atténuer l\\'impact de la surtension énergétique, garantissant ainsi une approche collective et efficace.\"\\n}', refusal=None, role='assistant', annotations=None, audio=None, function_call=None, tool_calls=None), content_filter_results={'hate': {'filtered': False, 'severity': 'safe'}, 'protected_material_code': {'filtered': False, 'detected': False}, 'protected_material_text': {'filtered': False, 'detected': False}, 'self_harm': {'filtered': False, 'severity': 'safe'}, 'sexual': {'filtered': False, 'severity': 'safe'}, 'violence': {'filtered': False, 'severity': 'safe'}})], created=1743427503, model='gpt-4o-mini-2024-07-18', object='chat.completion', service_tier=None, system_fingerprint='fp_ded0d14823', usage=CompletionUsage(completion_tokens=152, prompt_tokens=396, total_tokens=548, completion_tokens_details=CompletionTokensDetails(accepted_prediction_tokens=0, audio_tokens=0, reasoning_tokens=0, rejected_prediction_tokens=0), prompt_tokens_details=PromptTokensDetails(audio_tokens=0, cached_tokens=0)), prompt_filter_results=[{'prompt_index': 0, 'content_filter_results': {'hate': {'filtered': False, 'severity': 'safe'}, 'jailbreak': {'filtered': False, 'detected': False}, 'self_harm': {'filtered': False, 'severity': 'safe'}, 'sexual': {'filtered': False, 'severity': 'safe'}, 'violence': {'filtered': False, 'severity': 'safe'}}}])\u001B[0m\n",
      "2025-03-31 15:25:04,972 - BERTopic - WARNING: You are loading a BERTopic model without explicitly defining an embedding model. If you want to also load in an embedding model, make sure to use `BERTopic.load(my_model, embedding_model=my_embedding_model)`.\n",
      "\u001B[32m2025-03-31 15:25:06.937\u001B[0m | \u001B[34m\u001B[1mDEBUG   \u001B[0m | \u001B[36mbertrend.llm_utils.openai_client\u001B[0m:\u001B[36mgenerate_from_history\u001B[0m:\u001B[36m128\u001B[0m - \u001B[34m\u001B[1mAPI returned: ChatCompletion(id='chatcmpl-BH9QPcegZn68dnUGoG8lW6q4MtZ2V', choices=[Choice(finish_reason='stop', index=0, logprobs=None, message=ChatCompletionMessage(content='{\\n  \"title\": \"Réveillon à Paris : Spectacles et Croisières 2025\",\\n  \"description\": \"Découvrez les festivités du réveillon à Paris en 2025, avec une multitude de spectacles et de concerts à ne pas manquer. Profitez de croisières sur la Seine pour admirer les illuminations de la ville tout en savourant des mets raffinés. Les horaires des transports en commun, notamment le métro, seront adaptés pour faciliter vos déplacements lors de ces soirées festives. Cet automne, préparez-vous à vivre des moments inoubliables dans la capitale française, où l\\'art et la culture se mêlent à l\\'esprit de fête pour célébrer la nouvelle année.\"\\n}', refusal=None, role='assistant', annotations=None, audio=None, function_call=None, tool_calls=None), content_filter_results={'hate': {'filtered': False, 'severity': 'safe'}, 'protected_material_code': {'filtered': False, 'detected': False}, 'protected_material_text': {'filtered': False, 'detected': False}, 'self_harm': {'filtered': False, 'severity': 'safe'}, 'sexual': {'filtered': False, 'severity': 'safe'}, 'violence': {'filtered': False, 'severity': 'safe'}})], created=1743427505, model='gpt-4o-mini-2024-07-18', object='chat.completion', service_tier=None, system_fingerprint='fp_ded0d14823', usage=CompletionUsage(completion_tokens=147, prompt_tokens=397, total_tokens=544, completion_tokens_details=CompletionTokensDetails(accepted_prediction_tokens=0, audio_tokens=0, reasoning_tokens=0, rejected_prediction_tokens=0), prompt_tokens_details=PromptTokensDetails(audio_tokens=0, cached_tokens=0)), prompt_filter_results=[{'prompt_index': 0, 'content_filter_results': {'hate': {'filtered': False, 'severity': 'safe'}, 'jailbreak': {'filtered': False, 'detected': False}, 'self_harm': {'filtered': False, 'severity': 'safe'}, 'sexual': {'filtered': False, 'severity': 'safe'}, 'violence': {'filtered': False, 'severity': 'safe'}}}])\u001B[0m\n",
      "2025-03-31 15:25:06,942 - BERTopic - WARNING: You are loading a BERTopic model without explicitly defining an embedding model. If you want to also load in an embedding model, make sure to use `BERTopic.load(my_model, embedding_model=my_embedding_model)`.\n",
      "\u001B[32m2025-03-31 15:25:09.223\u001B[0m | \u001B[34m\u001B[1mDEBUG   \u001B[0m | \u001B[36mbertrend.llm_utils.openai_client\u001B[0m:\u001B[36mgenerate_from_history\u001B[0m:\u001B[36m128\u001B[0m - \u001B[34m\u001B[1mAPI returned: ChatCompletion(id='chatcmpl-BH9QRzsJOPElhVjFZrIM2KuKIqBlL', choices=[Choice(finish_reason='stop', index=0, logprobs=None, message=ChatCompletionMessage(content='{\\n  \"title\": \"Soutien gouvernemental face à la hausse des coûts énergétiques\",\\n  \"description\": \"Face à l\\'augmentation des coûts de l\\'énergie depuis 2021, l\\'État a mis en place un soutien ciblé pour divers secteurs, notamment le tertiaire, le public, les transports et le numérique. La ministre de la Transition énergétique, Agnès Pannier Runacher, a initié un groupe de travail sectoriel, en collaboration avec d\\'autres ministres, pour élaborer des plans d\\'action concrets. Ces mesures visent à protéger les entreprises et à garantir leur compétitivité tout en impliquant les fédérations professionnelles et les organisations syndicales dans le processus de mise en œuvre.\"\\n}', refusal=None, role='assistant', annotations=None, audio=None, function_call=None, tool_calls=None), content_filter_results={'hate': {'filtered': False, 'severity': 'safe'}, 'protected_material_code': {'filtered': False, 'detected': False}, 'protected_material_text': {'filtered': False, 'detected': False}, 'self_harm': {'filtered': False, 'severity': 'safe'}, 'sexual': {'filtered': False, 'severity': 'safe'}, 'violence': {'filtered': False, 'severity': 'safe'}})], created=1743427507, model='gpt-4o-mini-2024-07-18', object='chat.completion', service_tier=None, system_fingerprint='fp_ded0d14823', usage=CompletionUsage(completion_tokens=151, prompt_tokens=393, total_tokens=544, completion_tokens_details=CompletionTokensDetails(accepted_prediction_tokens=0, audio_tokens=0, reasoning_tokens=0, rejected_prediction_tokens=0), prompt_tokens_details=PromptTokensDetails(audio_tokens=0, cached_tokens=0)), prompt_filter_results=[{'prompt_index': 0, 'content_filter_results': {'hate': {'filtered': False, 'severity': 'safe'}, 'jailbreak': {'filtered': False, 'detected': False}, 'self_harm': {'filtered': False, 'severity': 'safe'}, 'sexual': {'filtered': False, 'severity': 'safe'}, 'violence': {'filtered': False, 'severity': 'safe'}}}])\u001B[0m\n",
      "2025-03-31 15:25:09,229 - BERTopic - WARNING: You are loading a BERTopic model without explicitly defining an embedding model. If you want to also load in an embedding model, make sure to use `BERTopic.load(my_model, embedding_model=my_embedding_model)`.\n",
      "\u001B[32m2025-03-31 15:25:10.973\u001B[0m | \u001B[34m\u001B[1mDEBUG   \u001B[0m | \u001B[36mbertrend.llm_utils.openai_client\u001B[0m:\u001B[36mgenerate_from_history\u001B[0m:\u001B[36m128\u001B[0m - \u001B[34m\u001B[1mAPI returned: ChatCompletion(id='chatcmpl-BH9QTvN2Tso5uEhYhOSJ0V9RMRtZa', choices=[Choice(finish_reason='stop', index=0, logprobs=None, message=ChatCompletionMessage(content='{\\n  \"title\": \"Soutien à la Transition Énergétique et à l\\'Eau\",\\n  \"description\": \"Face à l\\'augmentation des coûts de l\\'énergie, l\\'État met en place un soutien ciblé pour les consommateurs, y compris les entreprises des secteurs tertiaire, public et numérique. La ministre de la Transition énergétique, Agnès Pannier Runacher, a initié un groupe de travail sectoriel pour élaborer des plans d\\'action concrets. Ces mesures visent à optimiser l\\'utilisation des ressources, notamment à travers des appareils de chauffage et de pompage d\\'eau, afin de réduire les dépenses énergétiques quotidiennes et d\\'encourager une gestion durable de l\\'eau dans un contexte de crise énergétique.\"\\n}', refusal=None, role='assistant', annotations=None, audio=None, function_call=None, tool_calls=None), content_filter_results={'hate': {'filtered': False, 'severity': 'safe'}, 'protected_material_code': {'filtered': False, 'detected': False}, 'protected_material_text': {'filtered': False, 'detected': False}, 'self_harm': {'filtered': False, 'severity': 'safe'}, 'sexual': {'filtered': False, 'severity': 'safe'}, 'violence': {'filtered': False, 'severity': 'safe'}})], created=1743427509, model='gpt-4o-mini-2024-07-18', object='chat.completion', service_tier=None, system_fingerprint='fp_ded0d14823', usage=CompletionUsage(completion_tokens=152, prompt_tokens=393, total_tokens=545, completion_tokens_details=CompletionTokensDetails(accepted_prediction_tokens=0, audio_tokens=0, reasoning_tokens=0, rejected_prediction_tokens=0), prompt_tokens_details=PromptTokensDetails(audio_tokens=0, cached_tokens=0)), prompt_filter_results=[{'prompt_index': 0, 'content_filter_results': {'hate': {'filtered': False, 'severity': 'safe'}, 'jailbreak': {'filtered': False, 'detected': False}, 'self_harm': {'filtered': False, 'severity': 'safe'}, 'sexual': {'filtered': False, 'severity': 'safe'}, 'violence': {'filtered': False, 'severity': 'safe'}}}])\u001B[0m\n",
      "2025-03-31 15:25:10,978 - BERTopic - WARNING: You are loading a BERTopic model without explicitly defining an embedding model. If you want to also load in an embedding model, make sure to use `BERTopic.load(my_model, embedding_model=my_embedding_model)`.\n",
      "\u001B[32m2025-03-31 15:25:18.135\u001B[0m | \u001B[34m\u001B[1mDEBUG   \u001B[0m | \u001B[36mbertrend.llm_utils.openai_client\u001B[0m:\u001B[36mgenerate_from_history\u001B[0m:\u001B[36m128\u001B[0m - \u001B[34m\u001B[1mAPI returned: ChatCompletion(id='chatcmpl-BH9QaMUX6scwu7oIHiYSL5ZxGPCUu', choices=[Choice(finish_reason='stop', index=0, logprobs=None, message=ChatCompletionMessage(content='{\\n  \"title\": \"Bordeaux : Capitale Maritime et Touristique en Évolution\",\\n  \"description\": \"Bordeaux, avec son port emblématique et ses quais animés, se positionne comme une capitale maritime et touristique incontournable. La ville, riche en histoire et en culture, attire chaque année des visiteurs en quête de découvertes. La saison estivale met en lumière ses atouts, des balades le long de la Garonne aux événements nautiques. Dans un contexte économique en mutation, le soutien de l\\'État aux secteurs du tourisme et des transports est essentiel pour maintenir l\\'attractivité de Bordeaux. Les gants de la transition énergétique sont également de mise pour préserver cet écosystème dynamique.\"\\n}', refusal=None, role='assistant', annotations=None, audio=None, function_call=None, tool_calls=None), content_filter_results={'hate': {'filtered': False, 'severity': 'safe'}, 'protected_material_code': {'filtered': False, 'detected': False}, 'protected_material_text': {'filtered': False, 'detected': False}, 'self_harm': {'filtered': False, 'severity': 'safe'}, 'sexual': {'filtered': False, 'severity': 'safe'}, 'violence': {'filtered': False, 'severity': 'safe'}})], created=1743427516, model='gpt-4o-mini-2024-07-18', object='chat.completion', service_tier=None, system_fingerprint='fp_ded0d14823', usage=CompletionUsage(completion_tokens=147, prompt_tokens=391, total_tokens=538, completion_tokens_details=CompletionTokensDetails(accepted_prediction_tokens=0, audio_tokens=0, reasoning_tokens=0, rejected_prediction_tokens=0), prompt_tokens_details=PromptTokensDetails(audio_tokens=0, cached_tokens=0)), prompt_filter_results=[{'prompt_index': 0, 'content_filter_results': {'hate': {'filtered': False, 'severity': 'safe'}, 'jailbreak': {'filtered': False, 'detected': False}, 'self_harm': {'filtered': False, 'severity': 'safe'}, 'sexual': {'filtered': False, 'severity': 'safe'}, 'violence': {'filtered': False, 'severity': 'safe'}}}])\u001B[0m\n",
      "2025-03-31 15:25:18,141 - BERTopic - WARNING: You are loading a BERTopic model without explicitly defining an embedding model. If you want to also load in an embedding model, make sure to use `BERTopic.load(my_model, embedding_model=my_embedding_model)`.\n",
      "\u001B[32m2025-03-31 15:25:20.355\u001B[0m | \u001B[34m\u001B[1mDEBUG   \u001B[0m | \u001B[36mbertrend.llm_utils.openai_client\u001B[0m:\u001B[36mgenerate_from_history\u001B[0m:\u001B[36m128\u001B[0m - \u001B[34m\u001B[1mAPI returned: ChatCompletion(id='chatcmpl-BH9Qc3eP3Ch8BKcjEdh2uXsDLHgLi', choices=[Choice(finish_reason='stop', index=0, logprobs=None, message=ChatCompletionMessage(content='{\\n  \"title\": \"Gestion des polluants intérieurs et ventilation efficace\",\\n  \"description\": \"Ce thème aborde les enjeux liés à la présence de polluants intérieurs, tels que le dioxyde de carbone et d\\'autres composés nocifs, dans les environnements de travail. Il met en lumière l\\'importance de la mécanique de ventilation pour maintenir des niveaux de qualité de l\\'air sains, en respectant les seuils réglementaires. Les initiatives gouvernementales, en réponse à la hausse des coûts de l\\'énergie, visent à sensibiliser et à impliquer les entreprises dans l\\'adoption de solutions durables pour améliorer la ventilation et réduire l\\'impact des produits polluants sur la santé des travailleurs.\"\\n}', refusal=None, role='assistant', annotations=None, audio=None, function_call=None, tool_calls=None), content_filter_results={'hate': {'filtered': False, 'severity': 'safe'}, 'protected_material_code': {'filtered': False, 'detected': False}, 'protected_material_text': {'filtered': False, 'detected': False}, 'self_harm': {'filtered': False, 'severity': 'safe'}, 'sexual': {'filtered': False, 'severity': 'safe'}, 'violence': {'filtered': False, 'severity': 'safe'}})], created=1743427518, model='gpt-4o-mini-2024-07-18', object='chat.completion', service_tier=None, system_fingerprint='fp_ded0d14823', usage=CompletionUsage(completion_tokens=152, prompt_tokens=398, total_tokens=550, completion_tokens_details=CompletionTokensDetails(accepted_prediction_tokens=0, audio_tokens=0, reasoning_tokens=0, rejected_prediction_tokens=0), prompt_tokens_details=PromptTokensDetails(audio_tokens=0, cached_tokens=0)), prompt_filter_results=[{'prompt_index': 0, 'content_filter_results': {'hate': {'filtered': False, 'severity': 'safe'}, 'jailbreak': {'filtered': False, 'detected': False}, 'self_harm': {'filtered': False, 'severity': 'safe'}, 'sexual': {'filtered': False, 'severity': 'safe'}, 'violence': {'filtered': False, 'severity': 'safe'}}}])\u001B[0m\n",
      "2025-03-31 15:25:20,370 - BERTopic - WARNING: You are loading a BERTopic model without explicitly defining an embedding model. If you want to also load in an embedding model, make sure to use `BERTopic.load(my_model, embedding_model=my_embedding_model)`.\n",
      "\u001B[32m2025-03-31 15:25:23.253\u001B[0m | \u001B[34m\u001B[1mDEBUG   \u001B[0m | \u001B[36mbertrend.llm_utils.openai_client\u001B[0m:\u001B[36mgenerate_from_history\u001B[0m:\u001B[36m128\u001B[0m - \u001B[34m\u001B[1mAPI returned: ChatCompletion(id='chatcmpl-BH9QetUH6iRGEIZRPIO0Wb6piUwQF', choices=[Choice(finish_reason='stop', index=0, logprobs=None, message=ChatCompletionMessage(content='{\\n  \"title\": \"Énergie et Urbanisme : Vers une Transition Éclairée à Bordeaux\",\\n  \"description\": \"Face à l\\'augmentation des coûts de l\\'énergie, Bordeaux se transforme en un laboratoire d\\'initiatives urbaines. À 01h00, les habitants sont invités à sortir et à découvrir des installations lumineuses qui symbolisent l\\'engagement de la ville vers une transition énergétique durable. Ce projet, soutenu par l\\'État et les ministères concernés, vise à sensibiliser les citoyens aux enjeux de l\\'extinction des ressources et à promouvoir des solutions innovantes pour un éclairage urbain responsable. Les lumières deviennent ainsi un vecteur de sentiment d\\'appartenance et de responsabilité collective au sein de la communauté bordelaise.\"\\n}', refusal=None, role='assistant', annotations=None, audio=None, function_call=None, tool_calls=None), content_filter_results={'hate': {'filtered': False, 'severity': 'safe'}, 'protected_material_code': {'filtered': False, 'detected': False}, 'protected_material_text': {'filtered': False, 'detected': False}, 'self_harm': {'filtered': False, 'severity': 'safe'}, 'sexual': {'filtered': False, 'severity': 'safe'}, 'violence': {'filtered': False, 'severity': 'safe'}})], created=1743427520, model='gpt-4o-mini-2024-07-18', object='chat.completion', service_tier=None, system_fingerprint='fp_ded0d14823', usage=CompletionUsage(completion_tokens=157, prompt_tokens=397, total_tokens=554, completion_tokens_details=CompletionTokensDetails(accepted_prediction_tokens=0, audio_tokens=0, reasoning_tokens=0, rejected_prediction_tokens=0), prompt_tokens_details=PromptTokensDetails(audio_tokens=0, cached_tokens=0)), prompt_filter_results=[{'prompt_index': 0, 'content_filter_results': {'hate': {'filtered': False, 'severity': 'safe'}, 'jailbreak': {'filtered': False, 'detected': False}, 'self_harm': {'filtered': False, 'severity': 'safe'}, 'sexual': {'filtered': False, 'severity': 'safe'}, 'violence': {'filtered': False, 'severity': 'safe'}}}])\u001B[0m\n",
      "2025-03-31 15:25:23,258 - BERTopic - WARNING: You are loading a BERTopic model without explicitly defining an embedding model. If you want to also load in an embedding model, make sure to use `BERTopic.load(my_model, embedding_model=my_embedding_model)`.\n",
      "\u001B[32m2025-03-31 15:25:25.610\u001B[0m | \u001B[34m\u001B[1mDEBUG   \u001B[0m | \u001B[36mbertrend.llm_utils.openai_client\u001B[0m:\u001B[36mgenerate_from_history\u001B[0m:\u001B[36m128\u001B[0m - \u001B[34m\u001B[1mAPI returned: ChatCompletion(id='chatcmpl-BH9Qh5zoj0wbj8rVE5NxaAfEb8ns8', choices=[Choice(finish_reason='stop', index=0, logprobs=None, message=ChatCompletionMessage(content='{\\n  \"title\": \"Optimisation des appareils de cuisson pour économiser l\\'énergie\",\\n  \"description\": \"Face à la hausse des coûts de l\\'énergie, il est crucial de choisir des appareils de cuisson adaptés qui allient performance et efficacité énergétique. Ce thème explore les différents modèles disponibles sur le marché, en mettant l\\'accent sur leur capacité à réduire la consommation d\\'énergie tout en offrant une expérience culinaire satisfaisante. Les marques innovantes se distinguent par leurs technologies avancées, permettant des cuissons rapides et homogènes. L\\'importance de faire un choix éclairé est soulignée, afin de séduire les consommateurs soucieux de leur impact environnemental et de leur budget.\"\\n}', refusal=None, role='assistant', annotations=None, audio=None, function_call=None, tool_calls=None), content_filter_results={'hate': {'filtered': False, 'severity': 'safe'}, 'protected_material_code': {'filtered': False, 'detected': False}, 'protected_material_text': {'filtered': False, 'detected': False}, 'self_harm': {'filtered': False, 'severity': 'safe'}, 'sexual': {'filtered': False, 'severity': 'safe'}, 'violence': {'filtered': False, 'severity': 'safe'}})], created=1743427523, model='gpt-4o-mini-2024-07-18', object='chat.completion', service_tier=None, system_fingerprint='fp_ded0d14823', usage=CompletionUsage(completion_tokens=143, prompt_tokens=391, total_tokens=534, completion_tokens_details=CompletionTokensDetails(accepted_prediction_tokens=0, audio_tokens=0, reasoning_tokens=0, rejected_prediction_tokens=0), prompt_tokens_details=PromptTokensDetails(audio_tokens=0, cached_tokens=0)), prompt_filter_results=[{'prompt_index': 0, 'content_filter_results': {'hate': {'filtered': False, 'severity': 'safe'}, 'jailbreak': {'filtered': False, 'detected': False}, 'self_harm': {'filtered': False, 'severity': 'safe'}, 'sexual': {'filtered': False, 'severity': 'safe'}, 'violence': {'filtered': False, 'severity': 'safe'}}}])\u001B[0m\n",
      "2025-03-31 15:25:25,617 - BERTopic - WARNING: You are loading a BERTopic model without explicitly defining an embedding model. If you want to also load in an embedding model, make sure to use `BERTopic.load(my_model, embedding_model=my_embedding_model)`.\n",
      "\u001B[32m2025-03-31 15:25:27.765\u001B[0m | \u001B[34m\u001B[1mDEBUG   \u001B[0m | \u001B[36mbertrend.llm_utils.openai_client\u001B[0m:\u001B[36mgenerate_from_history\u001B[0m:\u001B[36m128\u001B[0m - \u001B[34m\u001B[1mAPI returned: ChatCompletion(id='chatcmpl-BH9QjsvhrUmthr7Jy7k1A4tzaDhAb', choices=[Choice(finish_reason='stop', index=0, logprobs=None, message=ChatCompletionMessage(content='{\\n  \"title\": \"Soutien gouvernemental face aux défis énergétiques hivernaux\",\\n  \"description\": \"Face à la hausse des coûts de l\\'énergie depuis 2021, l\\'État met en place un soutien ciblé pour les consommateurs, y compris les entreprises des secteurs tertiaire, public, et numérique. La ministre de la Transition énergétique, Agnès Pannier Runacher, a initié un groupe de travail sectoriel pour élaborer des mesures concrètes. En collaboration avec des ministres et des fédérations professionnelles, un plan d\\'action a été présenté pour aider les entreprises à naviguer dans les défis de l\\'hiver, en anticipant les risques liés à la coupure d\\'énergie et en proposant des offres adaptées aux besoins spécifiques de chaque secteur.\"\\n}', refusal=None, role='assistant', annotations=None, audio=None, function_call=None, tool_calls=None), content_filter_results={'hate': {'filtered': False, 'severity': 'safe'}, 'protected_material_code': {'filtered': False, 'detected': False}, 'protected_material_text': {'filtered': False, 'detected': False}, 'self_harm': {'filtered': False, 'severity': 'safe'}, 'sexual': {'filtered': False, 'severity': 'safe'}, 'violence': {'filtered': False, 'severity': 'safe'}})], created=1743427525, model='gpt-4o-mini-2024-07-18', object='chat.completion', service_tier=None, system_fingerprint='fp_ded0d14823', usage=CompletionUsage(completion_tokens=159, prompt_tokens=393, total_tokens=552, completion_tokens_details=CompletionTokensDetails(accepted_prediction_tokens=0, audio_tokens=0, reasoning_tokens=0, rejected_prediction_tokens=0), prompt_tokens_details=PromptTokensDetails(audio_tokens=0, cached_tokens=0)), prompt_filter_results=[{'prompt_index': 0, 'content_filter_results': {'hate': {'filtered': False, 'severity': 'safe'}, 'jailbreak': {'filtered': False, 'detected': False}, 'self_harm': {'filtered': False, 'severity': 'safe'}, 'sexual': {'filtered': False, 'severity': 'safe'}, 'violence': {'filtered': False, 'severity': 'safe'}}}])\u001B[0m\n",
      "2025-03-31 15:25:27,772 - BERTopic - WARNING: You are loading a BERTopic model without explicitly defining an embedding model. If you want to also load in an embedding model, make sure to use `BERTopic.load(my_model, embedding_model=my_embedding_model)`.\n",
      "\u001B[32m2025-03-31 15:25:29.359\u001B[0m | \u001B[34m\u001B[1mDEBUG   \u001B[0m | \u001B[36mbertrend.llm_utils.openai_client\u001B[0m:\u001B[36mgenerate_from_history\u001B[0m:\u001B[36m128\u001B[0m - \u001B[34m\u001B[1mAPI returned: ChatCompletion(id='chatcmpl-BH9Qm11gkaKRbPs09lifmnaAevfEm', choices=[Choice(finish_reason='stop', index=0, logprobs=None, message=ChatCompletionMessage(content='{\\n  \"title\": \"Soutien Énergétique et Coopération Sectorielle en Aquitaine\",\\n  \"description\": \"Face à l\\'augmentation des coûts de l\\'énergie, l\\'État français a initié un soutien ciblé pour divers secteurs, incluant les entreprises et les organisations. Sous l\\'égide de la ministre de la Transition énergétique, un groupe de travail a été formé pour élaborer des mesures concrètes, en collaboration avec des ministres sectoriels et des fédérations professionnelles. Ce processus de concertation vise à garantir une transition énergétique équitable et efficace, tout en favorisant la coopération entre les acteurs économiques, notamment à travers des conventions et des rencontres, comme celles organisées par Enercoop en Aquitaine.\"\\n}', refusal=None, role='assistant', annotations=None, audio=None, function_call=None, tool_calls=None), content_filter_results={'hate': {'filtered': False, 'severity': 'safe'}, 'protected_material_code': {'filtered': False, 'detected': False}, 'protected_material_text': {'filtered': False, 'detected': False}, 'self_harm': {'filtered': False, 'severity': 'safe'}, 'sexual': {'filtered': False, 'severity': 'safe'}, 'violence': {'filtered': False, 'severity': 'safe'}})], created=1743427528, model='gpt-4o-mini-2024-07-18', object='chat.completion', service_tier=None, system_fingerprint='fp_ded0d14823', usage=CompletionUsage(completion_tokens=151, prompt_tokens=395, total_tokens=546, completion_tokens_details=CompletionTokensDetails(accepted_prediction_tokens=0, audio_tokens=0, reasoning_tokens=0, rejected_prediction_tokens=0), prompt_tokens_details=PromptTokensDetails(audio_tokens=0, cached_tokens=0)), prompt_filter_results=[{'prompt_index': 0, 'content_filter_results': {'hate': {'filtered': False, 'severity': 'safe'}, 'jailbreak': {'filtered': False, 'detected': False}, 'self_harm': {'filtered': False, 'severity': 'safe'}, 'sexual': {'filtered': False, 'severity': 'safe'}, 'violence': {'filtered': False, 'severity': 'safe'}}}])\u001B[0m\n",
      "2025-03-31 15:25:29,364 - BERTopic - WARNING: You are loading a BERTopic model without explicitly defining an embedding model. If you want to also load in an embedding model, make sure to use `BERTopic.load(my_model, embedding_model=my_embedding_model)`.\n",
      "\u001B[32m2025-03-31 15:25:31.852\u001B[0m | \u001B[34m\u001B[1mDEBUG   \u001B[0m | \u001B[36mbertrend.llm_utils.openai_client\u001B[0m:\u001B[36mgenerate_from_history\u001B[0m:\u001B[36m128\u001B[0m - \u001B[34m\u001B[1mAPI returned: ChatCompletion(id='chatcmpl-BH9QnhkktEvxhPNkYmesW7KPgjM1Q', choices=[Choice(finish_reason='stop', index=0, logprobs=None, message=ChatCompletionMessage(content='{\\n  \"title\": \"Soutien gouvernemental aux secteurs face à la crise énergétique\",\\n  \"description\": \"Face à la hausse des coûts de l\\'énergie depuis 2021, l\\'État a mis en place un soutien ciblé pour divers secteurs, notamment le tertiaire, le public, et le numérique. La ministre de la Transition énergétique, Agnès Pannier Runacher, a initié un groupe de travail sectoriel, en collaboration avec d\\'autres ministres, pour élaborer des plans d\\'action concrets. Ces mesures visent à impliquer les entreprises, les organisations syndicales et patronales, afin de garantir une transition énergétique efficace et solidaire. Le 6 octobre 2022, un ensemble de propositions a été présenté pour accompagner les sociétés dans cette démarche.\"\\n}', refusal=None, role='assistant', annotations=None, audio=None, function_call=None, tool_calls=None), content_filter_results={'hate': {'filtered': False, 'severity': 'safe'}, 'protected_material_code': {'filtered': False, 'detected': False}, 'protected_material_text': {'filtered': False, 'detected': False}, 'self_harm': {'filtered': False, 'severity': 'safe'}, 'sexual': {'filtered': False, 'severity': 'safe'}, 'violence': {'filtered': False, 'severity': 'safe'}})], created=1743427529, model='gpt-4o-mini-2024-07-18', object='chat.completion', service_tier=None, system_fingerprint='fp_ded0d14823', usage=CompletionUsage(completion_tokens=163, prompt_tokens=397, total_tokens=560, completion_tokens_details=CompletionTokensDetails(accepted_prediction_tokens=0, audio_tokens=0, reasoning_tokens=0, rejected_prediction_tokens=0), prompt_tokens_details=PromptTokensDetails(audio_tokens=0, cached_tokens=0)), prompt_filter_results=[{'prompt_index': 0, 'content_filter_results': {'hate': {'filtered': False, 'severity': 'safe'}, 'jailbreak': {'filtered': False, 'detected': False}, 'self_harm': {'filtered': False, 'severity': 'safe'}, 'sexual': {'filtered': False, 'severity': 'safe'}, 'violence': {'filtered': False, 'severity': 'safe'}}}])\u001B[0m\n",
      "2025-03-31 15:25:31,859 - BERTopic - WARNING: You are loading a BERTopic model without explicitly defining an embedding model. If you want to also load in an embedding model, make sure to use `BERTopic.load(my_model, embedding_model=my_embedding_model)`.\n",
      "\u001B[32m2025-03-31 15:25:34.443\u001B[0m | \u001B[34m\u001B[1mDEBUG   \u001B[0m | \u001B[36mbertrend.llm_utils.openai_client\u001B[0m:\u001B[36mgenerate_from_history\u001B[0m:\u001B[36m128\u001B[0m - \u001B[34m\u001B[1mAPI returned: ChatCompletion(id='chatcmpl-BH9QqEi72Nmu0E860GYJUaYPUPDEL', choices=[Choice(finish_reason='stop', index=0, logprobs=None, message=ChatCompletionMessage(content='{\\n  \"title\": \"Soutien Énergétique aux Secteurs en Difficulté\",\\n  \"description\": \"Face à l\\'augmentation des coûts de l\\'énergie depuis 2021, l\\'État français a mis en place des mesures de soutien pour divers secteurs, notamment le tertiaire, le public, les transports et le numérique. La ministre de la Transition énergétique, Agnès Pannier Runacher, a initié un groupe de travail sectoriel pour élaborer des plans d\\'action concrets, en collaboration avec d\\'autres ministres et des représentants des fédérations professionnelles. Ces efforts visent à garantir une transition énergétique équitable et à soutenir les entreprises dans l\\'adoption de solutions durables, tout en tenant compte des spécificités régionales comme celles des Alpes et de la Provence.\"\\n}', refusal=None, role='assistant', annotations=None, audio=None, function_call=None, tool_calls=None), content_filter_results={'hate': {'filtered': False, 'severity': 'safe'}, 'protected_material_code': {'filtered': False, 'detected': False}, 'protected_material_text': {'filtered': False, 'detected': False}, 'self_harm': {'filtered': False, 'severity': 'safe'}, 'sexual': {'filtered': False, 'severity': 'safe'}, 'violence': {'filtered': False, 'severity': 'safe'}})], created=1743427532, model='gpt-4o-mini-2024-07-18', object='chat.completion', service_tier=None, system_fingerprint='fp_ded0d14823', usage=CompletionUsage(completion_tokens=164, prompt_tokens=395, total_tokens=559, completion_tokens_details=CompletionTokensDetails(accepted_prediction_tokens=0, audio_tokens=0, reasoning_tokens=0, rejected_prediction_tokens=0), prompt_tokens_details=PromptTokensDetails(audio_tokens=0, cached_tokens=0)), prompt_filter_results=[{'prompt_index': 0, 'content_filter_results': {'hate': {'filtered': False, 'severity': 'safe'}, 'jailbreak': {'filtered': False, 'detected': False}, 'self_harm': {'filtered': False, 'severity': 'safe'}, 'sexual': {'filtered': False, 'severity': 'safe'}, 'violence': {'filtered': False, 'severity': 'safe'}}}])\u001B[0m\n",
      "2025-03-31 15:25:34,448 - BERTopic - WARNING: You are loading a BERTopic model without explicitly defining an embedding model. If you want to also load in an embedding model, make sure to use `BERTopic.load(my_model, embedding_model=my_embedding_model)`.\n",
      "\u001B[32m2025-03-31 15:25:37.863\u001B[0m | \u001B[34m\u001B[1mDEBUG   \u001B[0m | \u001B[36mbertrend.llm_utils.openai_client\u001B[0m:\u001B[36mgenerate_from_history\u001B[0m:\u001B[36m128\u001B[0m - \u001B[34m\u001B[1mAPI returned: ChatCompletion(id='chatcmpl-BH9Qs7p21mWnKWpnGgFGmFyoYMQm2', choices=[Choice(finish_reason='stop', index=0, logprobs=None, message=ChatCompletionMessage(content='{\\n  \"title\": \"Soutien gouvernemental face à la hausse des coûts énergétiques\",\\n  \"description\": \"Face à l\\'augmentation des coûts de l\\'énergie depuis 2021, l\\'État français a mis en place un soutien ciblé pour divers secteurs, notamment le tertiaire, le public, les transports et le numérique. La ministre de la Transition énergétique, Agnès Pannier Runacher, a initié un groupe de travail sectoriel en collaboration avec d\\'autres ministres pour élaborer des plans d\\'action concrets. Ces mesures, présentées le 6 octobre 2022, visent à impliquer les entreprises et les organisations syndicales afin de répondre efficacement aux défis économiques actuels et d\\'assurer une transition énergétique durable.\"\\n}', refusal=None, role='assistant', annotations=None, audio=None, function_call=None, tool_calls=None), content_filter_results={'hate': {'filtered': False, 'severity': 'safe'}, 'protected_material_code': {'filtered': False, 'detected': False}, 'protected_material_text': {'filtered': False, 'detected': False}, 'self_harm': {'filtered': False, 'severity': 'safe'}, 'sexual': {'filtered': False, 'severity': 'safe'}, 'violence': {'filtered': False, 'severity': 'safe'}})], created=1743427534, model='gpt-4o-mini-2024-07-18', object='chat.completion', service_tier=None, system_fingerprint='fp_ded0d14823', usage=CompletionUsage(completion_tokens=156, prompt_tokens=400, total_tokens=556, completion_tokens_details=CompletionTokensDetails(accepted_prediction_tokens=0, audio_tokens=0, reasoning_tokens=0, rejected_prediction_tokens=0), prompt_tokens_details=PromptTokensDetails(audio_tokens=0, cached_tokens=0)), prompt_filter_results=[{'prompt_index': 0, 'content_filter_results': {'hate': {'filtered': False, 'severity': 'safe'}, 'jailbreak': {'filtered': False, 'detected': False}, 'self_harm': {'filtered': False, 'severity': 'safe'}, 'sexual': {'filtered': False, 'severity': 'safe'}, 'violence': {'filtered': False, 'severity': 'safe'}}}])\u001B[0m\n",
      "2025-03-31 15:25:37,869 - BERTopic - WARNING: You are loading a BERTopic model without explicitly defining an embedding model. If you want to also load in an embedding model, make sure to use `BERTopic.load(my_model, embedding_model=my_embedding_model)`.\n",
      "\u001B[32m2025-03-31 15:25:39.836\u001B[0m | \u001B[34m\u001B[1mDEBUG   \u001B[0m | \u001B[36mbertrend.llm_utils.openai_client\u001B[0m:\u001B[36mgenerate_from_history\u001B[0m:\u001B[36m128\u001B[0m - \u001B[34m\u001B[1mAPI returned: ChatCompletion(id='chatcmpl-BH9Qwiir1C493Nqpqf5CwQ8MvyLUs', choices=[Choice(finish_reason='stop', index=0, logprobs=None, message=ChatCompletionMessage(content='{\\n  \"title\": \"Soutien Énergétique : Innovation et Collaboration Sectorielle\",\\n  \"description\": \"Face à la hausse des coûts de l\\'énergie, l\\'État mobilise les secteurs public et privé pour élaborer des solutions audacieuses et modernes. Sous la direction de la ministre de la Transition énergétique, Agnès Pannier Runacher, un groupe de travail intersectoriel a été constitué, impliquant divers ministères et fédérations professionnelles. Ce plan ambitieux vise à intégrer des technologies avancées et des designs innovants pour optimiser la consommation énergétique. Les mesures concrètes, présentées en octobre 2022, visent à offrir un soutien efficace aux entreprises tout en favorisant une transition énergétique durable et collaborative.\"\\n}', refusal=None, role='assistant', annotations=None, audio=None, function_call=None, tool_calls=None), content_filter_results={'hate': {'filtered': False, 'severity': 'safe'}, 'protected_material_code': {'filtered': False, 'detected': False}, 'protected_material_text': {'filtered': False, 'detected': False}, 'self_harm': {'filtered': False, 'severity': 'safe'}, 'sexual': {'filtered': False, 'severity': 'safe'}, 'violence': {'filtered': False, 'severity': 'safe'}})], created=1743427538, model='gpt-4o-mini-2024-07-18', object='chat.completion', service_tier=None, system_fingerprint='fp_ded0d14823', usage=CompletionUsage(completion_tokens=152, prompt_tokens=391, total_tokens=543, completion_tokens_details=CompletionTokensDetails(accepted_prediction_tokens=0, audio_tokens=0, reasoning_tokens=0, rejected_prediction_tokens=0), prompt_tokens_details=PromptTokensDetails(audio_tokens=0, cached_tokens=0)), prompt_filter_results=[{'prompt_index': 0, 'content_filter_results': {'hate': {'filtered': False, 'severity': 'safe'}, 'jailbreak': {'filtered': False, 'detected': False}, 'self_harm': {'filtered': False, 'severity': 'safe'}, 'sexual': {'filtered': False, 'severity': 'safe'}, 'violence': {'filtered': False, 'severity': 'safe'}}}])\u001B[0m\n",
      "2025-03-31 15:25:39,851 - BERTopic - WARNING: You are loading a BERTopic model without explicitly defining an embedding model. If you want to also load in an embedding model, make sure to use `BERTopic.load(my_model, embedding_model=my_embedding_model)`.\n",
      "\u001B[32m2025-03-31 15:25:41.691\u001B[0m | \u001B[34m\u001B[1mDEBUG   \u001B[0m | \u001B[36mbertrend.llm_utils.openai_client\u001B[0m:\u001B[36mgenerate_from_history\u001B[0m:\u001B[36m128\u001B[0m - \u001B[34m\u001B[1mAPI returned: ChatCompletion(id='chatcmpl-BH9QyOdr3U2nR7dxCMBJDyj292MSz', choices=[Choice(finish_reason='stop', index=0, logprobs=None, message=ChatCompletionMessage(content='{\\n  \"title\": \"Soutien gouvernemental face à la hausse des coûts énergétiques\",\\n  \"description\": \"Face à l\\'augmentation des coûts de l\\'énergie depuis 2021, l\\'État français a mis en place un soutien ciblé pour les consommateurs, y compris les entreprises des secteurs tertiaire, public, des transports et du numérique. La ministre de la Transition énergétique, Agnès Pannier Runacher, a initié un groupe de travail sectoriel pour élaborer des plans d\\'action concrets, en collaboration avec divers ministres et organisations professionnelles. Ces mesures visent à atténuer la pression économique sur les entreprises et à favoriser la transition énergétique tout en préservant l\\'emploi et la compétitivité.\"\\n}', refusal=None, role='assistant', annotations=None, audio=None, function_call=None, tool_calls=None), content_filter_results={'hate': {'filtered': False, 'severity': 'safe'}, 'protected_material_code': {'filtered': False, 'detected': False}, 'protected_material_text': {'filtered': False, 'detected': False}, 'self_harm': {'filtered': False, 'severity': 'safe'}, 'sexual': {'filtered': False, 'severity': 'safe'}, 'violence': {'filtered': False, 'severity': 'safe'}})], created=1743427540, model='gpt-4o-mini-2024-07-18', object='chat.completion', service_tier=None, system_fingerprint='fp_ded0d14823', usage=CompletionUsage(completion_tokens=152, prompt_tokens=395, total_tokens=547, completion_tokens_details=CompletionTokensDetails(accepted_prediction_tokens=0, audio_tokens=0, reasoning_tokens=0, rejected_prediction_tokens=0), prompt_tokens_details=PromptTokensDetails(audio_tokens=0, cached_tokens=0)), prompt_filter_results=[{'prompt_index': 0, 'content_filter_results': {'hate': {'filtered': False, 'severity': 'safe'}, 'jailbreak': {'filtered': False, 'detected': False}, 'self_harm': {'filtered': False, 'severity': 'safe'}, 'sexual': {'filtered': False, 'severity': 'safe'}, 'violence': {'filtered': False, 'severity': 'safe'}}}])\u001B[0m\n",
      "2025-03-31 15:25:41,704 - BERTopic - WARNING: You are loading a BERTopic model without explicitly defining an embedding model. If you want to also load in an embedding model, make sure to use `BERTopic.load(my_model, embedding_model=my_embedding_model)`.\n",
      "\u001B[32m2025-03-31 15:25:43.539\u001B[0m | \u001B[34m\u001B[1mDEBUG   \u001B[0m | \u001B[36mbertrend.llm_utils.openai_client\u001B[0m:\u001B[36mgenerate_from_history\u001B[0m:\u001B[36m128\u001B[0m - \u001B[34m\u001B[1mAPI returned: ChatCompletion(id='chatcmpl-BH9R078ksVUqVdM7gXCk0KAdRGuFk', choices=[Choice(finish_reason='stop', index=0, logprobs=None, message=ChatCompletionMessage(content='{\\n  \"title\": \"Soutien gouvernemental aux secteurs face à la crise énergétique\",\\n  \"description\": \"Face à l\\'augmentation des coûts de l\\'énergie depuis 2021, l\\'État a mis en place un soutien ciblé pour divers secteurs, notamment le tertiaire, le public, les transports et le numérique. La ministre de la Transition énergétique a initié un groupe de travail sectoriel, en collaboration avec d\\'autres ministres, pour élaborer des plans d\\'action concrets. Ces mesures visent à rassembler les entreprises, les organisations syndicales et patronales afin de proposer des solutions adaptées aux défis énergétiques actuels. Le plan a été présenté le 6 octobre 2022, soulignant l\\'engagement collectif pour une transition énergétique efficace.\"\\n}', refusal=None, role='assistant', annotations=None, audio=None, function_call=None, tool_calls=None), content_filter_results={'hate': {'filtered': False, 'severity': 'safe'}, 'protected_material_code': {'filtered': False, 'detected': False}, 'protected_material_text': {'filtered': False, 'detected': False}, 'self_harm': {'filtered': False, 'severity': 'safe'}, 'sexual': {'filtered': False, 'severity': 'safe'}, 'violence': {'filtered': False, 'severity': 'safe'}})], created=1743427542, model='gpt-4o-mini-2024-07-18', object='chat.completion', service_tier=None, system_fingerprint='fp_ded0d14823', usage=CompletionUsage(completion_tokens=159, prompt_tokens=391, total_tokens=550, completion_tokens_details=CompletionTokensDetails(accepted_prediction_tokens=0, audio_tokens=0, reasoning_tokens=0, rejected_prediction_tokens=0), prompt_tokens_details=PromptTokensDetails(audio_tokens=0, cached_tokens=0)), prompt_filter_results=[{'prompt_index': 0, 'content_filter_results': {'hate': {'filtered': False, 'severity': 'safe'}, 'jailbreak': {'filtered': False, 'detected': False}, 'self_harm': {'filtered': False, 'severity': 'safe'}, 'sexual': {'filtered': False, 'severity': 'safe'}, 'violence': {'filtered': False, 'severity': 'safe'}}}])\u001B[0m\n",
      "2025-03-31 15:25:43,556 - BERTopic - WARNING: You are loading a BERTopic model without explicitly defining an embedding model. If you want to also load in an embedding model, make sure to use `BERTopic.load(my_model, embedding_model=my_embedding_model)`.\n",
      "\u001B[32m2025-03-31 15:25:50.918\u001B[0m | \u001B[34m\u001B[1mDEBUG   \u001B[0m | \u001B[36mbertrend.llm_utils.openai_client\u001B[0m:\u001B[36mgenerate_from_history\u001B[0m:\u001B[36m128\u001B[0m - \u001B[34m\u001B[1mAPI returned: ChatCompletion(id='chatcmpl-BH9R6PoE5roRFBh734C6qSUcWA4qT', choices=[Choice(finish_reason='stop', index=0, logprobs=None, message=ChatCompletionMessage(content='{\\n  \"title\": \"Transition énergétique : soutien sectoriel et mix énergétique\",\\n  \"description\": \"Face à la hausse des coûts de l\\'énergie, l\\'État mobilise un soutien ciblé pour divers secteurs, incluant le tertiaire, le public, et le numérique. La ministre de la Transition énergétique a initié un groupe de travail sectoriel, impliquant des ministres et des fédérations professionnelles, pour élaborer des plans d\\'action concrets. Ces mesures visent à favoriser un mix énergétique durable, intégrant des sources renouvelables comme le solaire, tout en tenant compte des enjeux liés aux énergies fossiles et nucléaires. L\\'objectif est d\\'assurer une transition énergétique efficace et inclusive à l\\'échelle internationale.\"\\n}', refusal=None, role='assistant', annotations=None, audio=None, function_call=None, tool_calls=None), content_filter_results={'hate': {'filtered': False, 'severity': 'safe'}, 'protected_material_code': {'filtered': False, 'detected': False}, 'protected_material_text': {'filtered': False, 'detected': False}, 'self_harm': {'filtered': False, 'severity': 'safe'}, 'sexual': {'filtered': False, 'severity': 'safe'}, 'violence': {'filtered': False, 'severity': 'safe'}})], created=1743427548, model='gpt-4o-mini-2024-07-18', object='chat.completion', service_tier=None, system_fingerprint='fp_ded0d14823', usage=CompletionUsage(completion_tokens=149, prompt_tokens=393, total_tokens=542, completion_tokens_details=CompletionTokensDetails(accepted_prediction_tokens=0, audio_tokens=0, reasoning_tokens=0, rejected_prediction_tokens=0), prompt_tokens_details=PromptTokensDetails(audio_tokens=0, cached_tokens=0)), prompt_filter_results=[{'prompt_index': 0, 'content_filter_results': {'hate': {'filtered': False, 'severity': 'safe'}, 'jailbreak': {'filtered': False, 'detected': False}, 'self_harm': {'filtered': False, 'severity': 'safe'}, 'sexual': {'filtered': False, 'severity': 'safe'}, 'violence': {'filtered': False, 'severity': 'safe'}}}])\u001B[0m\n",
      "2025-03-31 15:25:50,925 - BERTopic - WARNING: You are loading a BERTopic model without explicitly defining an embedding model. If you want to also load in an embedding model, make sure to use `BERTopic.load(my_model, embedding_model=my_embedding_model)`.\n",
      "\u001B[32m2025-03-31 15:25:53.155\u001B[0m | \u001B[34m\u001B[1mDEBUG   \u001B[0m | \u001B[36mbertrend.llm_utils.openai_client\u001B[0m:\u001B[36mgenerate_from_history\u001B[0m:\u001B[36m128\u001B[0m - \u001B[34m\u001B[1mAPI returned: ChatCompletion(id='chatcmpl-BH9R9i0dnmkoL2DtrPRbOWSyCODKq', choices=[Choice(finish_reason='stop', index=0, logprobs=None, message=ChatCompletionMessage(content='{\\n  \"title\": \"Soutien gouvernemental aux secteurs face à la crise énergétique\",\\n  \"description\": \"Face à la hausse des coûts de l\\'énergie depuis 2021, l\\'État français a mis en place un soutien ciblé pour divers secteurs, notamment le tertiaire, le public, et le numérique. La ministre de la Transition énergétique, Agnès Pannier Runacher, a initié un groupe de travail sectoriel, en collaboration avec d\\'autres ministres, pour élaborer des plans d\\'action concrets. Ces mesures visent à atténuer l\\'impact de la crise énergétique sur les entreprises, en impliquant les fédérations professionnelles et les organisations syndicales pour garantir une réponse collective et efficace.\"\\n}', refusal=None, role='assistant', annotations=None, audio=None, function_call=None, tool_calls=None), content_filter_results={'hate': {'filtered': False, 'severity': 'safe'}, 'protected_material_code': {'filtered': False, 'detected': False}, 'protected_material_text': {'filtered': False, 'detected': False}, 'self_harm': {'filtered': False, 'severity': 'safe'}, 'sexual': {'filtered': False, 'severity': 'safe'}, 'violence': {'filtered': False, 'severity': 'safe'}})], created=1743427551, model='gpt-4o-mini-2024-07-18', object='chat.completion', service_tier=None, system_fingerprint='fp_ded0d14823', usage=CompletionUsage(completion_tokens=151, prompt_tokens=397, total_tokens=548, completion_tokens_details=CompletionTokensDetails(accepted_prediction_tokens=0, audio_tokens=0, reasoning_tokens=0, rejected_prediction_tokens=0), prompt_tokens_details=PromptTokensDetails(audio_tokens=0, cached_tokens=0)), prompt_filter_results=[{'prompt_index': 0, 'content_filter_results': {'hate': {'filtered': False, 'severity': 'safe'}, 'jailbreak': {'filtered': False, 'detected': False}, 'self_harm': {'filtered': False, 'severity': 'safe'}, 'sexual': {'filtered': False, 'severity': 'safe'}, 'violence': {'filtered': False, 'severity': 'safe'}}}])\u001B[0m\n",
      "2025-03-31 15:25:53,162 - BERTopic - WARNING: You are loading a BERTopic model without explicitly defining an embedding model. If you want to also load in an embedding model, make sure to use `BERTopic.load(my_model, embedding_model=my_embedding_model)`.\n",
      "\u001B[32m2025-03-31 15:25:57.732\u001B[0m | \u001B[34m\u001B[1mDEBUG   \u001B[0m | \u001B[36mbertrend.llm_utils.openai_client\u001B[0m:\u001B[36mgenerate_from_history\u001B[0m:\u001B[36m128\u001B[0m - \u001B[34m\u001B[1mAPI returned: ChatCompletion(id='chatcmpl-BH9RBh2GN1HTGAwIB0zzQdmJNcHw5', choices=[Choice(finish_reason='stop', index=0, logprobs=None, message=ChatCompletionMessage(content='{\\n  \"title\": \"Transition énergétique dans le transport de marchandises\",\\n  \"description\": \"Face à l\\'augmentation des coûts énergétiques, l\\'État français met en place des mesures de soutien pour les secteurs du transport, notamment pour les camions fonctionnant au GNV (Gaz Naturel Véhicule). Un groupe de travail a été constitué pour élaborer des plans d\\'action spécifiques, impliquant ministres et fédérations professionnelles. L\\'objectif est de réduire la consommation de carburant, d\\'optimiser les transports de marchandises et de favoriser l\\'inscription des entreprises dans une démarche durable. Ces initiatives visent à garantir une transition énergétique efficace tout en maintenant la compétitivité des entreprises de transport.\"\\n}', refusal=None, role='assistant', annotations=None, audio=None, function_call=None, tool_calls=None), content_filter_results={'hate': {'filtered': False, 'severity': 'safe'}, 'protected_material_code': {'filtered': False, 'detected': False}, 'protected_material_text': {'filtered': False, 'detected': False}, 'self_harm': {'filtered': False, 'severity': 'safe'}, 'sexual': {'filtered': False, 'severity': 'safe'}, 'violence': {'filtered': False, 'severity': 'safe'}})], created=1743427553, model='gpt-4o-mini-2024-07-18', object='chat.completion', service_tier=None, system_fingerprint='fp_ded0d14823', usage=CompletionUsage(completion_tokens=145, prompt_tokens=394, total_tokens=539, completion_tokens_details=CompletionTokensDetails(accepted_prediction_tokens=0, audio_tokens=0, reasoning_tokens=0, rejected_prediction_tokens=0), prompt_tokens_details=PromptTokensDetails(audio_tokens=0, cached_tokens=0)), prompt_filter_results=[{'prompt_index': 0, 'content_filter_results': {'hate': {'filtered': False, 'severity': 'safe'}, 'jailbreak': {'filtered': False, 'detected': False}, 'self_harm': {'filtered': False, 'severity': 'safe'}, 'sexual': {'filtered': False, 'severity': 'safe'}, 'violence': {'filtered': False, 'severity': 'safe'}}}])\u001B[0m\n",
      "2025-03-31 15:25:57,740 - BERTopic - WARNING: You are loading a BERTopic model without explicitly defining an embedding model. If you want to also load in an embedding model, make sure to use `BERTopic.load(my_model, embedding_model=my_embedding_model)`.\n",
      "\u001B[32m2025-03-31 15:25:59.416\u001B[0m | \u001B[34m\u001B[1mDEBUG   \u001B[0m | \u001B[36mbertrend.llm_utils.openai_client\u001B[0m:\u001B[36mgenerate_from_history\u001B[0m:\u001B[36m128\u001B[0m - \u001B[34m\u001B[1mAPI returned: ChatCompletion(id='chatcmpl-BH9RGlGuhkDTUFZebfrjIcobF6LsQ', choices=[Choice(finish_reason='stop', index=0, logprobs=None, message=ChatCompletionMessage(content='{\\n  \"title\": \"Soutien gouvernemental aux secteurs face à la hausse des coûts\",\\n  \"description\": \"Face à l\\'augmentation des coûts de l\\'énergie depuis 2021, l\\'État a mis en place un soutien ciblé pour les secteurs tertiaire, public, des transports et du numérique. La ministre de la Transition énergétique a initié un groupe de travail sectoriel, impliquant divers ministres, pour élaborer des mesures concrètes. Ces initiatives visent à atténuer le ralentissement économique et à garantir la résilience des entreprises, notamment dans les domaines routiers et résidentiels. Un plan détaillé a été présenté en octobre 2022, soulignant l\\'engagement des ministres et des fédérations professionnelles à soutenir les acteurs économiques.\"\\n}', refusal=None, role='assistant', annotations=None, audio=None, function_call=None, tool_calls=None), content_filter_results={'hate': {'filtered': False, 'severity': 'safe'}, 'protected_material_code': {'filtered': False, 'detected': False}, 'protected_material_text': {'filtered': False, 'detected': False}, 'self_harm': {'filtered': False, 'severity': 'safe'}, 'sexual': {'filtered': False, 'severity': 'safe'}, 'violence': {'filtered': False, 'severity': 'safe'}})], created=1743427558, model='gpt-4o-mini-2024-07-18', object='chat.completion', service_tier=None, system_fingerprint='fp_ded0d14823', usage=CompletionUsage(completion_tokens=159, prompt_tokens=395, total_tokens=554, completion_tokens_details=CompletionTokensDetails(accepted_prediction_tokens=0, audio_tokens=0, reasoning_tokens=0, rejected_prediction_tokens=0), prompt_tokens_details=PromptTokensDetails(audio_tokens=0, cached_tokens=0)), prompt_filter_results=[{'prompt_index': 0, 'content_filter_results': {'hate': {'filtered': False, 'severity': 'safe'}, 'jailbreak': {'filtered': False, 'detected': False}, 'self_harm': {'filtered': False, 'severity': 'safe'}, 'sexual': {'filtered': False, 'severity': 'safe'}, 'violence': {'filtered': False, 'severity': 'safe'}}}])\u001B[0m\n",
      "2025-03-31 15:25:59,421 - BERTopic - WARNING: You are loading a BERTopic model without explicitly defining an embedding model. If you want to also load in an embedding model, make sure to use `BERTopic.load(my_model, embedding_model=my_embedding_model)`.\n",
      "\u001B[32m2025-03-31 15:26:06.919\u001B[0m | \u001B[34m\u001B[1mDEBUG   \u001B[0m | \u001B[36mbertrend.llm_utils.openai_client\u001B[0m:\u001B[36mgenerate_from_history\u001B[0m:\u001B[36m128\u001B[0m - \u001B[34m\u001B[1mAPI returned: ChatCompletion(id='chatcmpl-BH9RMF3InpHkGIebraeHi7cIyV3ln', choices=[Choice(finish_reason='stop', index=0, logprobs=None, message=ChatCompletionMessage(content='{\\n  \"title\": \"Soutien gouvernemental face à la hausse des coûts énergétiques\",\\n  \"description\": \"Depuis 2021, la hausse des coûts de l\\'énergie a incité l\\'État à soutenir divers secteurs, notamment le tertiaire, le public, les transports et le numérique. La ministre de la Transition énergétique, Agnès Pannier Runacher, a initié un groupe de travail sectoriel, impliquant des ministres dédiés à chaque domaine. Ce groupe, en collaboration avec des fédérations professionnelles et des organisations syndicales, a pour mission de développer un plan d\\'action concret pour aider les entreprises à faire face à cette crise énergétique. Les mesures proposées visent à garantir une transition énergétique efficace et solidaire.\"\\n}', refusal=None, role='assistant', annotations=None, audio=None, function_call=None, tool_calls=None), content_filter_results={'hate': {'filtered': False, 'severity': 'safe'}, 'protected_material_code': {'filtered': False, 'detected': False}, 'protected_material_text': {'filtered': False, 'detected': False}, 'self_harm': {'filtered': False, 'severity': 'safe'}, 'sexual': {'filtered': False, 'severity': 'safe'}, 'violence': {'filtered': False, 'severity': 'safe'}})], created=1743427564, model='gpt-4o-mini-2024-07-18', object='chat.completion', service_tier=None, system_fingerprint='fp_ded0d14823', usage=CompletionUsage(completion_tokens=154, prompt_tokens=398, total_tokens=552, completion_tokens_details=CompletionTokensDetails(accepted_prediction_tokens=0, audio_tokens=0, reasoning_tokens=0, rejected_prediction_tokens=0), prompt_tokens_details=PromptTokensDetails(audio_tokens=0, cached_tokens=0)), prompt_filter_results=[{'prompt_index': 0, 'content_filter_results': {'hate': {'filtered': False, 'severity': 'safe'}, 'jailbreak': {'filtered': False, 'detected': False}, 'self_harm': {'filtered': False, 'severity': 'safe'}, 'sexual': {'filtered': False, 'severity': 'safe'}, 'violence': {'filtered': False, 'severity': 'safe'}}}])\u001B[0m\n",
      "2025-03-31 15:26:06,928 - BERTopic - WARNING: You are loading a BERTopic model without explicitly defining an embedding model. If you want to also load in an embedding model, make sure to use `BERTopic.load(my_model, embedding_model=my_embedding_model)`.\n",
      "\u001B[32m2025-03-31 15:26:08.612\u001B[0m | \u001B[34m\u001B[1mDEBUG   \u001B[0m | \u001B[36mbertrend.llm_utils.openai_client\u001B[0m:\u001B[36mgenerate_from_history\u001B[0m:\u001B[36m128\u001B[0m - \u001B[34m\u001B[1mAPI returned: ChatCompletion(id='chatcmpl-BH9RPm4Eu8UTAQKd4PM1XC24YzXKw', choices=[Choice(finish_reason='stop', index=0, logprobs=None, message=ChatCompletionMessage(content='{\\n  \"title\": \"Soutien de l\\'État aux secteurs face à la crise énergétique\",\\n  \"description\": \"Face à la hausse des coûts de l\\'énergie depuis 2021, l\\'État français a mis en place un soutien ciblé pour divers secteurs, notamment le tertiaire, le public, les transports et le numérique. La ministre de la Transition énergétique, Agnès Pannier Runacher, a initié un groupe de travail sectoriel, en collaboration avec d\\'autres ministres, pour élaborer des plans d\\'action concrets. Ces mesures visent à impliquer les entreprises et à atténuer l\\'impact de la crise énergétique, avec des engagements pris lors d\\'une présentation officielle en octobre 2022.\"\\n}', refusal=None, role='assistant', annotations=None, audio=None, function_call=None, tool_calls=None), content_filter_results={'hate': {'filtered': False, 'severity': 'safe'}, 'protected_material_code': {'filtered': False, 'detected': False}, 'protected_material_text': {'filtered': False, 'detected': False}, 'self_harm': {'filtered': False, 'severity': 'safe'}, 'sexual': {'filtered': False, 'severity': 'safe'}, 'violence': {'filtered': False, 'severity': 'safe'}})], created=1743427567, model='gpt-4o-mini-2024-07-18', object='chat.completion', service_tier=None, system_fingerprint='fp_ded0d14823', usage=CompletionUsage(completion_tokens=151, prompt_tokens=392, total_tokens=543, completion_tokens_details=CompletionTokensDetails(accepted_prediction_tokens=0, audio_tokens=0, reasoning_tokens=0, rejected_prediction_tokens=0), prompt_tokens_details=PromptTokensDetails(audio_tokens=0, cached_tokens=0)), prompt_filter_results=[{'prompt_index': 0, 'content_filter_results': {'hate': {'filtered': False, 'severity': 'safe'}, 'jailbreak': {'filtered': False, 'detected': False}, 'self_harm': {'filtered': False, 'severity': 'safe'}, 'sexual': {'filtered': False, 'severity': 'safe'}, 'violence': {'filtered': False, 'severity': 'safe'}}}])\u001B[0m\n",
      "2025-03-31 15:26:08,619 - BERTopic - WARNING: You are loading a BERTopic model without explicitly defining an embedding model. If you want to also load in an embedding model, make sure to use `BERTopic.load(my_model, embedding_model=my_embedding_model)`.\n",
      "\u001B[32m2025-03-31 15:26:10.462\u001B[0m | \u001B[34m\u001B[1mDEBUG   \u001B[0m | \u001B[36mbertrend.llm_utils.openai_client\u001B[0m:\u001B[36mgenerate_from_history\u001B[0m:\u001B[36m128\u001B[0m - \u001B[34m\u001B[1mAPI returned: ChatCompletion(id='chatcmpl-BH9RQYaKBvKOyY6ABKBruZJOUNeXt', choices=[Choice(finish_reason='stop', index=0, logprobs=None, message=ChatCompletionMessage(content='{\\n  \"title\": \"Quartiers Durables : Vers une Architecture de Demain\",\\n  \"description\": \"Ce thème explore la représentation des quartiers de demain, où les architectes s\\'engagent à concevoir des projets durables et valorisants. En réponse aux défis énergétiques actuels, l\\'État et les ministères collaborent avec divers secteurs pour garantir un remploi efficace des ressources. L\\'accent est mis sur l\\'importance d\\'une approche collective, impliquant entreprises, organisations et citoyens, pour développer des solutions innovantes et durables. Ce projet ambitieux vise à transformer nos espaces urbains en modèles de durabilité, tout en répondant aux besoins économiques et sociaux des communautés.\"\\n}', refusal=None, role='assistant', annotations=None, audio=None, function_call=None, tool_calls=None), content_filter_results={'hate': {'filtered': False, 'severity': 'safe'}, 'protected_material_code': {'filtered': False, 'detected': False}, 'protected_material_text': {'filtered': False, 'detected': False}, 'self_harm': {'filtered': False, 'severity': 'safe'}, 'sexual': {'filtered': False, 'severity': 'safe'}, 'violence': {'filtered': False, 'severity': 'safe'}})], created=1743427568, model='gpt-4o-mini-2024-07-18', object='chat.completion', service_tier=None, system_fingerprint='fp_ded0d14823', usage=CompletionUsage(completion_tokens=144, prompt_tokens=393, total_tokens=537, completion_tokens_details=CompletionTokensDetails(accepted_prediction_tokens=0, audio_tokens=0, reasoning_tokens=0, rejected_prediction_tokens=0), prompt_tokens_details=PromptTokensDetails(audio_tokens=0, cached_tokens=0)), prompt_filter_results=[{'prompt_index': 0, 'content_filter_results': {'hate': {'filtered': False, 'severity': 'safe'}, 'jailbreak': {'filtered': False, 'detected': False}, 'self_harm': {'filtered': False, 'severity': 'safe'}, 'sexual': {'filtered': False, 'severity': 'safe'}, 'violence': {'filtered': False, 'severity': 'safe'}}}])\u001B[0m\n",
      "2025-03-31 15:26:10,468 - BERTopic - WARNING: You are loading a BERTopic model without explicitly defining an embedding model. If you want to also load in an embedding model, make sure to use `BERTopic.load(my_model, embedding_model=my_embedding_model)`.\n",
      "\u001B[32m2025-03-31 15:26:12.172\u001B[0m | \u001B[34m\u001B[1mDEBUG   \u001B[0m | \u001B[36mbertrend.llm_utils.openai_client\u001B[0m:\u001B[36mgenerate_from_history\u001B[0m:\u001B[36m128\u001B[0m - \u001B[34m\u001B[1mAPI returned: ChatCompletion(id='chatcmpl-BH9RSTmARVBxjyfKQxk6QOfE6n5oX', choices=[Choice(finish_reason='stop', index=0, logprobs=None, message=ChatCompletionMessage(content='{\\n  \"title\": \"Soutien à la Transition Énergétique des Citoyens et Entreprises\",\\n  \"description\": \"Face à l\\'augmentation des coûts de l\\'énergie, l\\'État mobilise divers acteurs pour soutenir les consommateurs, y compris les entreprises et les citoyens. La ministre de la Transition énergétique a initié un groupe de travail sectoriel, impliquant des ministres et des fédérations professionnelles, pour élaborer des plans d\\'action concrets. Ces mesures visent à garantir une transition énergétique efficace et inclusive, en favorisant la participation des citoyens et des entreprises dans la recherche de solutions durables pour l\\'habitat et les systèmes de chauffage. L\\'objectif est de renforcer la formation et la pratique collaborative pour une meilleure adaptation aux défis énergétiques.\"\\n}', refusal=None, role='assistant', annotations=None, audio=None, function_call=None, tool_calls=None), content_filter_results={'hate': {'filtered': False, 'severity': 'safe'}, 'protected_material_code': {'filtered': False, 'detected': False}, 'protected_material_text': {'filtered': False, 'detected': False}, 'self_harm': {'filtered': False, 'severity': 'safe'}, 'sexual': {'filtered': False, 'severity': 'safe'}, 'violence': {'filtered': False, 'severity': 'safe'}})], created=1743427570, model='gpt-4o-mini-2024-07-18', object='chat.completion', service_tier=None, system_fingerprint='fp_ded0d14823', usage=CompletionUsage(completion_tokens=157, prompt_tokens=391, total_tokens=548, completion_tokens_details=CompletionTokensDetails(accepted_prediction_tokens=0, audio_tokens=0, reasoning_tokens=0, rejected_prediction_tokens=0), prompt_tokens_details=PromptTokensDetails(audio_tokens=0, cached_tokens=0)), prompt_filter_results=[{'prompt_index': 0, 'content_filter_results': {'hate': {'filtered': False, 'severity': 'safe'}, 'jailbreak': {'filtered': False, 'detected': False}, 'self_harm': {'filtered': False, 'severity': 'safe'}, 'sexual': {'filtered': False, 'severity': 'safe'}, 'violence': {'filtered': False, 'severity': 'safe'}}}])\u001B[0m\n",
      "2025-03-31 15:26:12,177 - BERTopic - WARNING: You are loading a BERTopic model without explicitly defining an embedding model. If you want to also load in an embedding model, make sure to use `BERTopic.load(my_model, embedding_model=my_embedding_model)`.\n",
      "\u001B[32m2025-03-31 15:26:22.544\u001B[0m | \u001B[34m\u001B[1mDEBUG   \u001B[0m | \u001B[36mbertrend.llm_utils.openai_client\u001B[0m:\u001B[36mgenerate_from_history\u001B[0m:\u001B[36m128\u001B[0m - \u001B[34m\u001B[1mAPI returned: ChatCompletion(id='chatcmpl-BH9RZ8UDt8B4PtWc2VRUKof1dFoMe', choices=[Choice(finish_reason='stop', index=0, logprobs=None, message=ChatCompletionMessage(content='{\\n  \"title\": \"Soutien gouvernemental face à la hausse des coûts énergétiques\",\\n  \"description\": \"Ce thème explore les initiatives du gouvernement français pour soutenir les consommateurs, y compris les entreprises des secteurs tertiaire, public, et numérique, face à l\\'augmentation des coûts de l\\'énergie depuis 2021. La ministre de la Transition énergétique, Agnès Pannier Runacher, a mis en place des groupes de travail sectoriels pour élaborer des plans d\\'action concrets. Ces efforts impliquent la collaboration entre ministères, fédérations professionnelles et organisations syndicales, visant à proposer des mesures adaptées aux besoins spécifiques de chaque secteur, afin d\\'assurer une transition énergétique efficace et solidaire.\"\\n}', refusal=None, role='assistant', annotations=None, audio=None, function_call=None, tool_calls=None), content_filter_results={'hate': {'filtered': False, 'severity': 'safe'}, 'protected_material_code': {'filtered': False, 'detected': False}, 'protected_material_text': {'filtered': False, 'detected': False}, 'self_harm': {'filtered': False, 'severity': 'safe'}, 'sexual': {'filtered': False, 'severity': 'safe'}, 'violence': {'filtered': False, 'severity': 'safe'}})], created=1743427577, model='gpt-4o-mini-2024-07-18', object='chat.completion', service_tier=None, system_fingerprint='fp_ded0d14823', usage=CompletionUsage(completion_tokens=148, prompt_tokens=395, total_tokens=543, completion_tokens_details=CompletionTokensDetails(accepted_prediction_tokens=0, audio_tokens=0, reasoning_tokens=0, rejected_prediction_tokens=0), prompt_tokens_details=PromptTokensDetails(audio_tokens=0, cached_tokens=0)), prompt_filter_results=[{'prompt_index': 0, 'content_filter_results': {'hate': {'filtered': False, 'severity': 'safe'}, 'jailbreak': {'filtered': False, 'detected': False}, 'self_harm': {'filtered': False, 'severity': 'safe'}, 'sexual': {'filtered': False, 'severity': 'safe'}, 'violence': {'filtered': False, 'severity': 'safe'}}}])\u001B[0m\n",
      "2025-03-31 15:26:22,554 - BERTopic - WARNING: You are loading a BERTopic model without explicitly defining an embedding model. If you want to also load in an embedding model, make sure to use `BERTopic.load(my_model, embedding_model=my_embedding_model)`.\n",
      "\u001B[32m2025-03-31 15:26:24.467\u001B[0m | \u001B[34m\u001B[1mDEBUG   \u001B[0m | \u001B[36mbertrend.llm_utils.openai_client\u001B[0m:\u001B[36mgenerate_from_history\u001B[0m:\u001B[36m128\u001B[0m - \u001B[34m\u001B[1mAPI returned: ChatCompletion(id='chatcmpl-BH9ReoYFdVpJmcye59xHZNhQwJk6b', choices=[Choice(finish_reason='stop', index=0, logprobs=None, message=ChatCompletionMessage(content='{\\n  \"title\": \"Soutien gouvernemental aux secteurs face à la crise énergétique\",\\n  \"description\": \"Face à la hausse des coûts de l\\'énergie, l\\'État a mis en place un soutien ciblé pour divers secteurs, notamment le tertiaire, les transports et le numérique. La ministre de la Transition énergétique, Agnès Pannier Runacher, a initié un groupe de travail sectoriel pour élaborer des mesures concrètes en collaboration avec les ministres concernés. Ce plan, présenté le 6 octobre 2022, vise à impliquer les entreprises et les organisations syndicales afin de garantir une réponse collective et efficace à cette crise, tout en assurant la continuité des services essentiels comme les transports en commun.\"\\n}', refusal=None, role='assistant', annotations=None, audio=None, function_call=None, tool_calls=None), content_filter_results={'hate': {'filtered': False, 'severity': 'safe'}, 'protected_material_code': {'filtered': False, 'detected': False}, 'protected_material_text': {'filtered': False, 'detected': False}, 'self_harm': {'filtered': False, 'severity': 'safe'}, 'sexual': {'filtered': False, 'severity': 'safe'}, 'violence': {'filtered': False, 'severity': 'safe'}})], created=1743427582, model='gpt-4o-mini-2024-07-18', object='chat.completion', service_tier=None, system_fingerprint='fp_ded0d14823', usage=CompletionUsage(completion_tokens=153, prompt_tokens=396, total_tokens=549, completion_tokens_details=CompletionTokensDetails(accepted_prediction_tokens=0, audio_tokens=0, reasoning_tokens=0, rejected_prediction_tokens=0), prompt_tokens_details=PromptTokensDetails(audio_tokens=0, cached_tokens=0)), prompt_filter_results=[{'prompt_index': 0, 'content_filter_results': {'hate': {'filtered': False, 'severity': 'safe'}, 'jailbreak': {'filtered': False, 'detected': False}, 'self_harm': {'filtered': False, 'severity': 'safe'}, 'sexual': {'filtered': False, 'severity': 'safe'}, 'violence': {'filtered': False, 'severity': 'safe'}}}])\u001B[0m\n",
      "2025-03-31 15:26:24,473 - BERTopic - WARNING: You are loading a BERTopic model without explicitly defining an embedding model. If you want to also load in an embedding model, make sure to use `BERTopic.load(my_model, embedding_model=my_embedding_model)`.\n",
      "\u001B[32m2025-03-31 15:26:26.203\u001B[0m | \u001B[34m\u001B[1mDEBUG   \u001B[0m | \u001B[36mbertrend.llm_utils.openai_client\u001B[0m:\u001B[36mgenerate_from_history\u001B[0m:\u001B[36m128\u001B[0m - \u001B[34m\u001B[1mAPI returned: ChatCompletion(id='chatcmpl-BH9Rg2bkWo8vYywtqijD52MPS0O64', choices=[Choice(finish_reason='stop', index=0, logprobs=None, message=ChatCompletionMessage(content='{\\n  \"title\": \"Soutien à la Restauration et Réglementation Énergétique\",\\n  \"description\": \"Face à l\\'augmentation des coûts énergétiques, l\\'État met en place un soutien ciblé pour le secteur de la restauration et d\\'autres domaines. Un groupe de travail, dirigé par des ministres spécialisés, élabore des mesures concrètes pour améliorer le confort des espaces de restauration tout en respectant les réglementations thermiques et en intégrant des solutions de récupération d\\'eau de pluie. Ce plan vise à optimiser les devis et à renforcer l\\'appel à des pratiques durables dans les établissements communaux, garantissant ainsi une transition énergétique efficace et inclusive.\"\\n}', refusal=None, role='assistant', annotations=None, audio=None, function_call=None, tool_calls=None), content_filter_results={'hate': {'filtered': False, 'severity': 'safe'}, 'protected_material_code': {'filtered': False, 'detected': False}, 'protected_material_text': {'filtered': False, 'detected': False}, 'self_harm': {'filtered': False, 'severity': 'safe'}, 'sexual': {'filtered': False, 'severity': 'safe'}, 'violence': {'filtered': False, 'severity': 'safe'}})], created=1743427584, model='gpt-4o-mini-2024-07-18', object='chat.completion', service_tier=None, system_fingerprint='fp_ded0d14823', usage=CompletionUsage(completion_tokens=142, prompt_tokens=394, total_tokens=536, completion_tokens_details=CompletionTokensDetails(accepted_prediction_tokens=0, audio_tokens=0, reasoning_tokens=0, rejected_prediction_tokens=0), prompt_tokens_details=PromptTokensDetails(audio_tokens=0, cached_tokens=0)), prompt_filter_results=[{'prompt_index': 0, 'content_filter_results': {'hate': {'filtered': False, 'severity': 'safe'}, 'jailbreak': {'filtered': False, 'detected': False}, 'self_harm': {'filtered': False, 'severity': 'safe'}, 'sexual': {'filtered': False, 'severity': 'safe'}, 'violence': {'filtered': False, 'severity': 'safe'}}}])\u001B[0m\n",
      "2025-03-31 15:26:26,214 - BERTopic - WARNING: You are loading a BERTopic model without explicitly defining an embedding model. If you want to also load in an embedding model, make sure to use `BERTopic.load(my_model, embedding_model=my_embedding_model)`.\n",
      "\u001B[32m2025-03-31 15:26:28.597\u001B[0m | \u001B[34m\u001B[1mDEBUG   \u001B[0m | \u001B[36mbertrend.llm_utils.openai_client\u001B[0m:\u001B[36mgenerate_from_history\u001B[0m:\u001B[36m128\u001B[0m - \u001B[34m\u001B[1mAPI returned: ChatCompletion(id='chatcmpl-BH9RihwvUy77HTYAV0otKpmxc7FBp', choices=[Choice(finish_reason='stop', index=0, logprobs=None, message=ChatCompletionMessage(content='{\\n  \"title\": \"Rénovation énergétique : un soutien gouvernemental sectoriel\",\\n  \"description\": \"Face à l\\'augmentation des coûts de l\\'énergie, l\\'État a mis en place un soutien ciblé pour les entreprises de divers secteurs, notamment le tertiaire, le public, les transports et le numérique. La ministre de la Transition énergétique, Agnès Pannier Runacher, a initié un groupe de travail sectoriel, en collaboration avec d\\'autres ministres, pour élaborer des plans d\\'action concrets. Ces mesures visent à impliquer tous les acteurs concernés, y compris les fédérations professionnelles et les organisations syndicales, afin de garantir une transition énergétique efficace et durable pour l\\'ensemble des secteurs économiques.\"\\n}', refusal=None, role='assistant', annotations=None, audio=None, function_call=None, tool_calls=None), content_filter_results={'hate': {'filtered': False, 'severity': 'safe'}, 'protected_material_code': {'filtered': False, 'detected': False}, 'protected_material_text': {'filtered': False, 'detected': False}, 'self_harm': {'filtered': False, 'severity': 'safe'}, 'sexual': {'filtered': False, 'severity': 'safe'}, 'violence': {'filtered': False, 'severity': 'safe'}})], created=1743427586, model='gpt-4o-mini-2024-07-18', object='chat.completion', service_tier=None, system_fingerprint='fp_ded0d14823', usage=CompletionUsage(completion_tokens=153, prompt_tokens=393, total_tokens=546, completion_tokens_details=CompletionTokensDetails(accepted_prediction_tokens=0, audio_tokens=0, reasoning_tokens=0, rejected_prediction_tokens=0), prompt_tokens_details=PromptTokensDetails(audio_tokens=0, cached_tokens=0)), prompt_filter_results=[{'prompt_index': 0, 'content_filter_results': {'hate': {'filtered': False, 'severity': 'safe'}, 'jailbreak': {'filtered': False, 'detected': False}, 'self_harm': {'filtered': False, 'severity': 'safe'}, 'sexual': {'filtered': False, 'severity': 'safe'}, 'violence': {'filtered': False, 'severity': 'safe'}}}])\u001B[0m\n"
     ]
    },
    {
     "data": {
      "text/plain": [
       "    timestamp  topic                                              title  \\\n",
       "0  2025-01-06      2  Bilan des Transports et Réduction des Émission...   \n",
       "1  2025-01-06      5  Soutien à l'Innovation Énergétique pour Tous l...   \n",
       "2  2025-01-06      7          Gestion des Risques Énergétiques en Hiver   \n",
       "3  2025-01-06     11  Soutien à l'énergie face au changement climatique   \n",
       "4  2025-01-06     12  Soutien à l'Énergie et Flexibilité des Install...   \n",
       "5  2025-01-06     14      Soutien tarifaire face à la crise énergétique   \n",
       "6  2025-01-06     15          Soutien Énergétique et Festivités à Paris   \n",
       "7  2025-01-06     17  Soutien Énergétique : Solidarité et Lutte cont...   \n",
       "8  2025-01-06     19  Actions Régionales pour la Biodiversité et l'É...   \n",
       "9  2025-01-06     20  Soutien gouvernemental face à la hausse des co...   \n",
       "10 2025-01-06     21  Syndicat d'éclairage LED pour communes de Garonne   \n",
       "11 2025-01-06     22  Planification régionale pour la transition éne...   \n",
       "12 2025-01-06     25  Soutien gouvernemental face à la crise énergét...   \n",
       "13 2025-01-06     26  Réveillon à Paris : Spectacles et Croisières 2025   \n",
       "14 2025-01-06     27  Soutien gouvernemental face à la hausse des co...   \n",
       "15 2025-01-06     28     Soutien à la Transition Énergétique et à l'Eau   \n",
       "16 2025-01-06     30  Bordeaux : Capitale Maritime et Touristique en...   \n",
       "17 2025-01-06     31  Gestion des polluants intérieurs et ventilatio...   \n",
       "18 2025-01-06     32  Énergie et Urbanisme : Vers une Transition Écl...   \n",
       "19 2025-01-06     35  Optimisation des appareils de cuisson pour éco...   \n",
       "20 2025-01-06     36  Soutien gouvernemental face aux défis énergéti...   \n",
       "21 2025-01-06     38  Soutien Énergétique et Coopération Sectorielle...   \n",
       "22 2025-01-06     39  Soutien gouvernemental aux secteurs face à la ...   \n",
       "23 2025-01-06     40     Soutien Énergétique aux Secteurs en Difficulté   \n",
       "24 2025-01-06     41  Soutien gouvernemental face à la hausse des co...   \n",
       "25 2025-01-06     42  Soutien Énergétique : Innovation et Collaborat...   \n",
       "26 2025-01-06     43  Soutien gouvernemental face à la hausse des co...   \n",
       "27 2025-01-06     44  Soutien gouvernemental aux secteurs face à la ...   \n",
       "28 2025-01-06     46  Transition énergétique : soutien sectoriel et ...   \n",
       "29 2025-01-06     47  Soutien gouvernemental aux secteurs face à la ...   \n",
       "30 2025-01-06     48  Transition énergétique dans le transport de ma...   \n",
       "31 2025-01-06     52  Soutien gouvernemental aux secteurs face à la ...   \n",
       "32 2025-01-06     53  Soutien gouvernemental face à la hausse des co...   \n",
       "33 2025-01-06     54  Soutien de l'État aux secteurs face à la crise...   \n",
       "34 2025-01-06     56  Quartiers Durables : Vers une Architecture de ...   \n",
       "35 2025-01-06     57  Soutien à la Transition Énergétique des Citoye...   \n",
       "36 2025-01-06     58  Soutien gouvernemental face à la hausse des co...   \n",
       "37 2025-01-06     59  Soutien gouvernemental aux secteurs face à la ...   \n",
       "38 2025-01-06     60  Soutien à la Restauration et Réglementation Én...   \n",
       "39 2025-01-06     61  Rénovation énergétique : un soutien gouverneme...   \n",
       "\n",
       "                                          description  \n",
       "0   Ce thème aborde les initiatives gouvernemental...  \n",
       "1   Face à l'augmentation des coûts de l'énergie, ...  \n",
       "2   Ce thème aborde les enjeux de la disponibilité...  \n",
       "3   Ce thème explore les initiatives gouvernementa...  \n",
       "4   Face à l'augmentation des coûts énergétiques, ...  \n",
       "5   Face à la hausse des coûts de l'énergie depuis...  \n",
       "6   Ce thème explore l'initiative de l'État frança...  \n",
       "7   Face à la hausse des coûts de l'énergie, l'Éta...  \n",
       "8   Ce thème aborde les initiatives mises en place...  \n",
       "9   Face à l'augmentation des coûts de l'énergie d...  \n",
       "10  Face à la hausse des coûts de l'énergie, le sy...  \n",
       "11  Ce thème aborde la réponse de l'État face à la...  \n",
       "12  Face à la hausse des coûts de l'énergie depuis...  \n",
       "13  Découvrez les festivités du réveillon à Paris ...  \n",
       "14  Face à l'augmentation des coûts de l'énergie d...  \n",
       "15  Face à l'augmentation des coûts de l'énergie, ...  \n",
       "16  Bordeaux, avec son port emblématique et ses qu...  \n",
       "17  Ce thème aborde les enjeux liés à la présence ...  \n",
       "18  Face à l'augmentation des coûts de l'énergie, ...  \n",
       "19  Face à la hausse des coûts de l'énergie, il es...  \n",
       "20  Face à la hausse des coûts de l'énergie depuis...  \n",
       "21  Face à l'augmentation des coûts de l'énergie, ...  \n",
       "22  Face à la hausse des coûts de l'énergie depuis...  \n",
       "23  Face à l'augmentation des coûts de l'énergie d...  \n",
       "24  Face à l'augmentation des coûts de l'énergie d...  \n",
       "25  Face à la hausse des coûts de l'énergie, l'Éta...  \n",
       "26  Face à l'augmentation des coûts de l'énergie d...  \n",
       "27  Face à l'augmentation des coûts de l'énergie d...  \n",
       "28  Face à la hausse des coûts de l'énergie, l'Éta...  \n",
       "29  Face à la hausse des coûts de l'énergie depuis...  \n",
       "30  Face à l'augmentation des coûts énergétiques, ...  \n",
       "31  Face à l'augmentation des coûts de l'énergie d...  \n",
       "32  Depuis 2021, la hausse des coûts de l'énergie ...  \n",
       "33  Face à la hausse des coûts de l'énergie depuis...  \n",
       "34  Ce thème explore la représentation des quartie...  \n",
       "35  Face à l'augmentation des coûts de l'énergie, ...  \n",
       "36  Ce thème explore les initiatives du gouverneme...  \n",
       "37  Face à la hausse des coûts de l'énergie, l'Éta...  \n",
       "38  Face à l'augmentation des coûts énergétiques, ...  \n",
       "39  Face à l'augmentation des coûts de l'énergie, ...  "
      ],
      "text/html": [
       "<div>\n",
       "<style scoped>\n",
       "    .dataframe tbody tr th:only-of-type {\n",
       "        vertical-align: middle;\n",
       "    }\n",
       "\n",
       "    .dataframe tbody tr th {\n",
       "        vertical-align: top;\n",
       "    }\n",
       "\n",
       "    .dataframe thead th {\n",
       "        text-align: right;\n",
       "    }\n",
       "</style>\n",
       "<table border=\"1\" class=\"dataframe\">\n",
       "  <thead>\n",
       "    <tr style=\"text-align: right;\">\n",
       "      <th></th>\n",
       "      <th>timestamp</th>\n",
       "      <th>topic</th>\n",
       "      <th>title</th>\n",
       "      <th>description</th>\n",
       "    </tr>\n",
       "  </thead>\n",
       "  <tbody>\n",
       "    <tr>\n",
       "      <th>0</th>\n",
       "      <td>2025-01-06</td>\n",
       "      <td>2</td>\n",
       "      <td>Bilan des Transports et Réduction des Émission...</td>\n",
       "      <td>Ce thème aborde les initiatives gouvernemental...</td>\n",
       "    </tr>\n",
       "    <tr>\n",
       "      <th>1</th>\n",
       "      <td>2025-01-06</td>\n",
       "      <td>5</td>\n",
       "      <td>Soutien à l'Innovation Énergétique pour Tous l...</td>\n",
       "      <td>Face à l'augmentation des coûts de l'énergie, ...</td>\n",
       "    </tr>\n",
       "    <tr>\n",
       "      <th>2</th>\n",
       "      <td>2025-01-06</td>\n",
       "      <td>7</td>\n",
       "      <td>Gestion des Risques Énergétiques en Hiver</td>\n",
       "      <td>Ce thème aborde les enjeux de la disponibilité...</td>\n",
       "    </tr>\n",
       "    <tr>\n",
       "      <th>3</th>\n",
       "      <td>2025-01-06</td>\n",
       "      <td>11</td>\n",
       "      <td>Soutien à l'énergie face au changement climatique</td>\n",
       "      <td>Ce thème explore les initiatives gouvernementa...</td>\n",
       "    </tr>\n",
       "    <tr>\n",
       "      <th>4</th>\n",
       "      <td>2025-01-06</td>\n",
       "      <td>12</td>\n",
       "      <td>Soutien à l'Énergie et Flexibilité des Install...</td>\n",
       "      <td>Face à l'augmentation des coûts énergétiques, ...</td>\n",
       "    </tr>\n",
       "    <tr>\n",
       "      <th>5</th>\n",
       "      <td>2025-01-06</td>\n",
       "      <td>14</td>\n",
       "      <td>Soutien tarifaire face à la crise énergétique</td>\n",
       "      <td>Face à la hausse des coûts de l'énergie depuis...</td>\n",
       "    </tr>\n",
       "    <tr>\n",
       "      <th>6</th>\n",
       "      <td>2025-01-06</td>\n",
       "      <td>15</td>\n",
       "      <td>Soutien Énergétique et Festivités à Paris</td>\n",
       "      <td>Ce thème explore l'initiative de l'État frança...</td>\n",
       "    </tr>\n",
       "    <tr>\n",
       "      <th>7</th>\n",
       "      <td>2025-01-06</td>\n",
       "      <td>17</td>\n",
       "      <td>Soutien Énergétique : Solidarité et Lutte cont...</td>\n",
       "      <td>Face à la hausse des coûts de l'énergie, l'Éta...</td>\n",
       "    </tr>\n",
       "    <tr>\n",
       "      <th>8</th>\n",
       "      <td>2025-01-06</td>\n",
       "      <td>19</td>\n",
       "      <td>Actions Régionales pour la Biodiversité et l'É...</td>\n",
       "      <td>Ce thème aborde les initiatives mises en place...</td>\n",
       "    </tr>\n",
       "    <tr>\n",
       "      <th>9</th>\n",
       "      <td>2025-01-06</td>\n",
       "      <td>20</td>\n",
       "      <td>Soutien gouvernemental face à la hausse des co...</td>\n",
       "      <td>Face à l'augmentation des coûts de l'énergie d...</td>\n",
       "    </tr>\n",
       "    <tr>\n",
       "      <th>10</th>\n",
       "      <td>2025-01-06</td>\n",
       "      <td>21</td>\n",
       "      <td>Syndicat d'éclairage LED pour communes de Garonne</td>\n",
       "      <td>Face à la hausse des coûts de l'énergie, le sy...</td>\n",
       "    </tr>\n",
       "    <tr>\n",
       "      <th>11</th>\n",
       "      <td>2025-01-06</td>\n",
       "      <td>22</td>\n",
       "      <td>Planification régionale pour la transition éne...</td>\n",
       "      <td>Ce thème aborde la réponse de l'État face à la...</td>\n",
       "    </tr>\n",
       "    <tr>\n",
       "      <th>12</th>\n",
       "      <td>2025-01-06</td>\n",
       "      <td>25</td>\n",
       "      <td>Soutien gouvernemental face à la crise énergét...</td>\n",
       "      <td>Face à la hausse des coûts de l'énergie depuis...</td>\n",
       "    </tr>\n",
       "    <tr>\n",
       "      <th>13</th>\n",
       "      <td>2025-01-06</td>\n",
       "      <td>26</td>\n",
       "      <td>Réveillon à Paris : Spectacles et Croisières 2025</td>\n",
       "      <td>Découvrez les festivités du réveillon à Paris ...</td>\n",
       "    </tr>\n",
       "    <tr>\n",
       "      <th>14</th>\n",
       "      <td>2025-01-06</td>\n",
       "      <td>27</td>\n",
       "      <td>Soutien gouvernemental face à la hausse des co...</td>\n",
       "      <td>Face à l'augmentation des coûts de l'énergie d...</td>\n",
       "    </tr>\n",
       "    <tr>\n",
       "      <th>15</th>\n",
       "      <td>2025-01-06</td>\n",
       "      <td>28</td>\n",
       "      <td>Soutien à la Transition Énergétique et à l'Eau</td>\n",
       "      <td>Face à l'augmentation des coûts de l'énergie, ...</td>\n",
       "    </tr>\n",
       "    <tr>\n",
       "      <th>16</th>\n",
       "      <td>2025-01-06</td>\n",
       "      <td>30</td>\n",
       "      <td>Bordeaux : Capitale Maritime et Touristique en...</td>\n",
       "      <td>Bordeaux, avec son port emblématique et ses qu...</td>\n",
       "    </tr>\n",
       "    <tr>\n",
       "      <th>17</th>\n",
       "      <td>2025-01-06</td>\n",
       "      <td>31</td>\n",
       "      <td>Gestion des polluants intérieurs et ventilatio...</td>\n",
       "      <td>Ce thème aborde les enjeux liés à la présence ...</td>\n",
       "    </tr>\n",
       "    <tr>\n",
       "      <th>18</th>\n",
       "      <td>2025-01-06</td>\n",
       "      <td>32</td>\n",
       "      <td>Énergie et Urbanisme : Vers une Transition Écl...</td>\n",
       "      <td>Face à l'augmentation des coûts de l'énergie, ...</td>\n",
       "    </tr>\n",
       "    <tr>\n",
       "      <th>19</th>\n",
       "      <td>2025-01-06</td>\n",
       "      <td>35</td>\n",
       "      <td>Optimisation des appareils de cuisson pour éco...</td>\n",
       "      <td>Face à la hausse des coûts de l'énergie, il es...</td>\n",
       "    </tr>\n",
       "    <tr>\n",
       "      <th>20</th>\n",
       "      <td>2025-01-06</td>\n",
       "      <td>36</td>\n",
       "      <td>Soutien gouvernemental face aux défis énergéti...</td>\n",
       "      <td>Face à la hausse des coûts de l'énergie depuis...</td>\n",
       "    </tr>\n",
       "    <tr>\n",
       "      <th>21</th>\n",
       "      <td>2025-01-06</td>\n",
       "      <td>38</td>\n",
       "      <td>Soutien Énergétique et Coopération Sectorielle...</td>\n",
       "      <td>Face à l'augmentation des coûts de l'énergie, ...</td>\n",
       "    </tr>\n",
       "    <tr>\n",
       "      <th>22</th>\n",
       "      <td>2025-01-06</td>\n",
       "      <td>39</td>\n",
       "      <td>Soutien gouvernemental aux secteurs face à la ...</td>\n",
       "      <td>Face à la hausse des coûts de l'énergie depuis...</td>\n",
       "    </tr>\n",
       "    <tr>\n",
       "      <th>23</th>\n",
       "      <td>2025-01-06</td>\n",
       "      <td>40</td>\n",
       "      <td>Soutien Énergétique aux Secteurs en Difficulté</td>\n",
       "      <td>Face à l'augmentation des coûts de l'énergie d...</td>\n",
       "    </tr>\n",
       "    <tr>\n",
       "      <th>24</th>\n",
       "      <td>2025-01-06</td>\n",
       "      <td>41</td>\n",
       "      <td>Soutien gouvernemental face à la hausse des co...</td>\n",
       "      <td>Face à l'augmentation des coûts de l'énergie d...</td>\n",
       "    </tr>\n",
       "    <tr>\n",
       "      <th>25</th>\n",
       "      <td>2025-01-06</td>\n",
       "      <td>42</td>\n",
       "      <td>Soutien Énergétique : Innovation et Collaborat...</td>\n",
       "      <td>Face à la hausse des coûts de l'énergie, l'Éta...</td>\n",
       "    </tr>\n",
       "    <tr>\n",
       "      <th>26</th>\n",
       "      <td>2025-01-06</td>\n",
       "      <td>43</td>\n",
       "      <td>Soutien gouvernemental face à la hausse des co...</td>\n",
       "      <td>Face à l'augmentation des coûts de l'énergie d...</td>\n",
       "    </tr>\n",
       "    <tr>\n",
       "      <th>27</th>\n",
       "      <td>2025-01-06</td>\n",
       "      <td>44</td>\n",
       "      <td>Soutien gouvernemental aux secteurs face à la ...</td>\n",
       "      <td>Face à l'augmentation des coûts de l'énergie d...</td>\n",
       "    </tr>\n",
       "    <tr>\n",
       "      <th>28</th>\n",
       "      <td>2025-01-06</td>\n",
       "      <td>46</td>\n",
       "      <td>Transition énergétique : soutien sectoriel et ...</td>\n",
       "      <td>Face à la hausse des coûts de l'énergie, l'Éta...</td>\n",
       "    </tr>\n",
       "    <tr>\n",
       "      <th>29</th>\n",
       "      <td>2025-01-06</td>\n",
       "      <td>47</td>\n",
       "      <td>Soutien gouvernemental aux secteurs face à la ...</td>\n",
       "      <td>Face à la hausse des coûts de l'énergie depuis...</td>\n",
       "    </tr>\n",
       "    <tr>\n",
       "      <th>30</th>\n",
       "      <td>2025-01-06</td>\n",
       "      <td>48</td>\n",
       "      <td>Transition énergétique dans le transport de ma...</td>\n",
       "      <td>Face à l'augmentation des coûts énergétiques, ...</td>\n",
       "    </tr>\n",
       "    <tr>\n",
       "      <th>31</th>\n",
       "      <td>2025-01-06</td>\n",
       "      <td>52</td>\n",
       "      <td>Soutien gouvernemental aux secteurs face à la ...</td>\n",
       "      <td>Face à l'augmentation des coûts de l'énergie d...</td>\n",
       "    </tr>\n",
       "    <tr>\n",
       "      <th>32</th>\n",
       "      <td>2025-01-06</td>\n",
       "      <td>53</td>\n",
       "      <td>Soutien gouvernemental face à la hausse des co...</td>\n",
       "      <td>Depuis 2021, la hausse des coûts de l'énergie ...</td>\n",
       "    </tr>\n",
       "    <tr>\n",
       "      <th>33</th>\n",
       "      <td>2025-01-06</td>\n",
       "      <td>54</td>\n",
       "      <td>Soutien de l'État aux secteurs face à la crise...</td>\n",
       "      <td>Face à la hausse des coûts de l'énergie depuis...</td>\n",
       "    </tr>\n",
       "    <tr>\n",
       "      <th>34</th>\n",
       "      <td>2025-01-06</td>\n",
       "      <td>56</td>\n",
       "      <td>Quartiers Durables : Vers une Architecture de ...</td>\n",
       "      <td>Ce thème explore la représentation des quartie...</td>\n",
       "    </tr>\n",
       "    <tr>\n",
       "      <th>35</th>\n",
       "      <td>2025-01-06</td>\n",
       "      <td>57</td>\n",
       "      <td>Soutien à la Transition Énergétique des Citoye...</td>\n",
       "      <td>Face à l'augmentation des coûts de l'énergie, ...</td>\n",
       "    </tr>\n",
       "    <tr>\n",
       "      <th>36</th>\n",
       "      <td>2025-01-06</td>\n",
       "      <td>58</td>\n",
       "      <td>Soutien gouvernemental face à la hausse des co...</td>\n",
       "      <td>Ce thème explore les initiatives du gouverneme...</td>\n",
       "    </tr>\n",
       "    <tr>\n",
       "      <th>37</th>\n",
       "      <td>2025-01-06</td>\n",
       "      <td>59</td>\n",
       "      <td>Soutien gouvernemental aux secteurs face à la ...</td>\n",
       "      <td>Face à la hausse des coûts de l'énergie, l'Éta...</td>\n",
       "    </tr>\n",
       "    <tr>\n",
       "      <th>38</th>\n",
       "      <td>2025-01-06</td>\n",
       "      <td>60</td>\n",
       "      <td>Soutien à la Restauration et Réglementation Én...</td>\n",
       "      <td>Face à l'augmentation des coûts énergétiques, ...</td>\n",
       "    </tr>\n",
       "    <tr>\n",
       "      <th>39</th>\n",
       "      <td>2025-01-06</td>\n",
       "      <td>61</td>\n",
       "      <td>Rénovation énergétique : un soutien gouverneme...</td>\n",
       "      <td>Face à l'augmentation des coûts de l'énergie, ...</td>\n",
       "    </tr>\n",
       "  </tbody>\n",
       "</table>\n",
       "</div>"
      ]
     },
     "metadata": {},
     "output_type": "display_data"
    },
    {
     "name": "stderr",
     "output_type": "stream",
     "text": [
      "\u001B[32m2025-03-31 15:26:28.608\u001B[0m | \u001B[34m\u001B[1mDEBUG   \u001B[0m | \u001B[36m__main__\u001B[0m:\u001B[36mprocess_new_data\u001B[0m:\u001B[36m2\u001B[0m - \u001B[34m\u001B[1mProcessing new data: /DSIA/nlp/bertrend/data/feeds/feed_sobriete/2025-01-20_feed_sobriete.jsonl\u001B[0m\n",
      "\u001B[32m2025-03-31 15:26:28.608\u001B[0m | \u001B[1mINFO    \u001B[0m | \u001B[36mbertrend.BERTrend\u001B[0m:\u001B[36mrestore_model\u001B[0m:\u001B[36m629\u001B[0m - \u001B[1mLoading BERTrend model from: /home/jerome/dev/cache/models/sobriete_models\u001B[0m\n",
      "\u001B[32m2025-03-31 15:26:28.829\u001B[0m | \u001B[34m\u001B[1mDEBUG   \u001B[0m | \u001B[36mbertrend.services.embedding_service\u001B[0m:\u001B[36m_remote_embed_documents\u001B[0m:\u001B[36m207\u001B[0m - \u001B[34m\u001B[1mComputing embeddings...\u001B[0m\n",
      "\u001B[32m2025-03-31 15:26:28.830\u001B[0m | \u001B[34m\u001B[1mDEBUG   \u001B[0m | \u001B[36mbertrend.services.embedding_client\u001B[0m:\u001B[36membed_documents\u001B[0m:\u001B[36m124\u001B[0m - \u001B[34m\u001B[1mCalling EmbeddingAPI using model: OrdalieTech/Solon-embeddings-large-0.1\u001B[0m\n",
      "\u001B[32m2025-03-31 15:26:28.830\u001B[0m | \u001B[34m\u001B[1mDEBUG   \u001B[0m | \u001B[36mbertrend.services.embedding_client\u001B[0m:\u001B[36membed_documents\u001B[0m:\u001B[36m128\u001B[0m - \u001B[34m\u001B[1mComputing embeddings on 947 documents using (1) batches...\u001B[0m\n",
      "2025-03-31 15:26:30.139 | DEBUG    | bertrend.services.embedding_client:embed_batch:94 - Computing embeddings...\n",
      "2025-03-31 15:27:03.147 | DEBUG    | bertrend.services.embedding_client:embed_batch:103 - Computing embeddings done for batch\n",
      "\u001B[32m2025-03-31 15:27:03.518\u001B[0m | \u001B[1mINFO    \u001B[0m | \u001B[36mbertrend.BERTrend\u001B[0m:\u001B[36mtrain_topic_models\u001B[0m:\u001B[36m240\u001B[0m - \u001B[1mTraining topic model 1/1...\u001B[0m\n",
      "\u001B[32m2025-03-31 15:27:03.524\u001B[0m | \u001B[34m\u001B[1mDEBUG   \u001B[0m | \u001B[36mbertrend.BERTrend\u001B[0m:\u001B[36m_train_by_period\u001B[0m:\u001B[36m149\u001B[0m - \u001B[34m\u001B[1mProcessing period: 2025-01-20 00:00:00\u001B[0m\n",
      "\u001B[32m2025-03-31 15:27:03.526\u001B[0m | \u001B[34m\u001B[1mDEBUG   \u001B[0m | \u001B[36mbertrend.BERTrend\u001B[0m:\u001B[36m_train_by_period\u001B[0m:\u001B[36m150\u001B[0m - \u001B[34m\u001B[1mNumber of documents: 947\u001B[0m\n",
      "\u001B[32m2025-03-31 15:27:03.527\u001B[0m | \u001B[34m\u001B[1mDEBUG   \u001B[0m | \u001B[36mbertrend.BERTrend\u001B[0m:\u001B[36m_train_by_period\u001B[0m:\u001B[36m152\u001B[0m - \u001B[34m\u001B[1mCreating topic model...\u001B[0m\n",
      "\u001B[32m2025-03-31 15:27:03.529\u001B[0m | \u001B[34m\u001B[1mDEBUG   \u001B[0m | \u001B[36mbertrend.BERTopicModel\u001B[0m:\u001B[36mfit\u001B[0m:\u001B[36m230\u001B[0m - \u001B[34m\u001B[1m\tInitializing BERTopic model\u001B[0m\n",
      "\u001B[32m2025-03-31 15:27:03.530\u001B[0m | \u001B[32m\u001B[1mSUCCESS \u001B[0m | \u001B[36mbertrend.BERTopicModel\u001B[0m:\u001B[36mfit\u001B[0m:\u001B[36m240\u001B[0m - \u001B[32m\u001B[1m\tBERTopic model instance created successfully\u001B[0m\n",
      "\u001B[32m2025-03-31 15:27:03.533\u001B[0m | \u001B[34m\u001B[1mDEBUG   \u001B[0m | \u001B[36mbertrend.BERTopicModel\u001B[0m:\u001B[36mfit\u001B[0m:\u001B[36m242\u001B[0m - \u001B[34m\u001B[1m\tFitting BERTopic model\u001B[0m\n",
      "2025-03-31 15:27:03,538 - BERTopic - Dimensionality - Fitting the dimensionality reduction algorithm\n",
      "2025-03-31 15:27:07,265 - BERTopic - Dimensionality - Completed ✓\n",
      "2025-03-31 15:27:07,266 - BERTopic - Cluster - Start clustering the reduced embeddings\n",
      "2025-03-31 15:27:07,321 - BERTopic - Cluster - Completed ✓\n",
      "2025-03-31 15:27:07,326 - BERTopic - Representation - Extracting topics from clusters using representation models.\n",
      "2025-03-31 15:27:07,485 - BERTopic - Representation - Completed ✓\n",
      "\u001B[32m2025-03-31 15:27:07.815\u001B[0m | \u001B[34m\u001B[1mDEBUG   \u001B[0m | \u001B[36mbertrend.BERTopicModel\u001B[0m:\u001B[36mfit\u001B[0m:\u001B[36m249\u001B[0m - \u001B[34m\u001B[1m\tReducing outliers\u001B[0m\n",
      "2025-03-31 15:27:07,830 - BERTopic - WARNING: Using a custom list of topic assignments may lead to errors if topic reduction techniques are used afterwards. Make sure that manually assigning topics is the last step in the pipeline.Note that topic embeddings will also be created through weightedc-TF-IDF embeddings instead of centroid embeddings.\n",
      "\u001B[32m2025-03-31 15:27:07.976\u001B[0m | \u001B[32m\u001B[1mSUCCESS \u001B[0m | \u001B[36mbertrend.BERTopicModel\u001B[0m:\u001B[36mfit\u001B[0m:\u001B[36m277\u001B[0m - \u001B[32m\u001B[1m\tBERTopic model fitted successfully\u001B[0m\n",
      "\u001B[32m2025-03-31 15:27:07.977\u001B[0m | \u001B[34m\u001B[1mDEBUG   \u001B[0m | \u001B[36mbertrend.BERTrend\u001B[0m:\u001B[36m_train_by_period\u001B[0m:\u001B[36m158\u001B[0m - \u001B[34m\u001B[1mTopic model created successfully\u001B[0m\n",
      "\u001B[32m2025-03-31 15:27:08.026\u001B[0m | \u001B[34m\u001B[1mDEBUG   \u001B[0m | \u001B[36mbertrend.BERTrend\u001B[0m:\u001B[36mmerge_models_with\u001B[0m:\u001B[36m281\u001B[0m - \u001B[34m\u001B[1mMerging topic models for timestamps: 2025-01-06 00:00:00 and 2025-01-20 00:00:00\u001B[0m\n",
      "\u001B[32m2025-03-31 15:27:08.315\u001B[0m | \u001B[32m\u001B[1mSUCCESS \u001B[0m | \u001B[36mbertrend.BERTrend\u001B[0m:\u001B[36mmerge_models_with\u001B[0m:\u001B[36m349\u001B[0m - \u001B[32m\u001B[1mModels 2025-01-20 00:00:00 merged successfully with others\u001B[0m\n",
      "\u001B[32m2025-03-31 15:27:08.319\u001B[0m | \u001B[1mINFO    \u001B[0m | \u001B[36mbertrend.BERTrend\u001B[0m:\u001B[36mtrain_topic_models\u001B[0m:\u001B[36m253\u001B[0m - \u001B[1mSaving topic model for period 2025-01-20 00:00:00...\u001B[0m\n",
      "2025-03-31 15:27:08,321 - BERTopic - WARNING: You are saving a BERTopic model without explicitly defining an embedding model.If you are using a sentence-transformers model or a HuggingFace model supportedby sentence-transformers, please save the model by using a pointer towards that model.For example, `save_embedding_model='sentence-transformers/all-mpnet-base-v2'`\n",
      "\u001B[32m2025-03-31 15:27:08.332\u001B[0m | \u001B[34m\u001B[1mDEBUG   \u001B[0m | \u001B[36mbertrend.BERTrend\u001B[0m:\u001B[36mtrain_topic_models\u001B[0m:\u001B[36m263\u001B[0m - \u001B[34m\u001B[1mSuccessfully processed period: 2025-01-20 00:00:00\u001B[0m\n",
      "\u001B[32m2025-03-31 15:27:08.334\u001B[0m | \u001B[32m\u001B[1mSUCCESS \u001B[0m | \u001B[36mbertrend.BERTrend\u001B[0m:\u001B[36mtrain_topic_models\u001B[0m:\u001B[36m272\u001B[0m - \u001B[32m\u001B[1mFinished training all topic models\u001B[0m\n",
      "\u001B[32m2025-03-31 15:27:08.336\u001B[0m | \u001B[1mINFO    \u001B[0m | \u001B[36m__main__\u001B[0m:\u001B[36mprocess_new_data\u001B[0m:\u001B[36m24\u001B[0m - \u001B[1mBERTrend processed 3 time periods\u001B[0m\n",
      "\u001B[32m2025-03-31 15:27:08.886\u001B[0m | \u001B[1mINFO    \u001B[0m | \u001B[36mbertrend.BERTrend\u001B[0m:\u001B[36msave_model\u001B[0m:\u001B[36m623\u001B[0m - \u001B[1mBERTrend model saved to: /home/jerome/dev/cache/models/sobriete_models\u001B[0m\n"
     ]
    },
    {
     "data": {
      "text/plain": [
       "None"
      ]
     },
     "metadata": {},
     "output_type": "display_data"
    }
   ],
   "execution_count": 53
  },
  {
   "cell_type": "code",
   "execution_count": null,
   "id": "a07f5101-94ff-4e46-a808-d43873cf51fa",
   "metadata": {},
   "outputs": [],
   "source": []
  },
  {
   "cell_type": "code",
   "execution_count": null,
   "id": "779b1acd-4270-42c4-a600-75bfeb58d20b",
   "metadata": {},
   "outputs": [],
   "source": []
  },
  {
   "cell_type": "code",
   "execution_count": null,
   "id": "1b0ebd4d-c808-4880-8970-0c4c7d162a9d",
   "metadata": {},
   "outputs": [],
   "source": []
  }
 ],
 "metadata": {
  "kernelspec": {
   "display_name": "Python 3 (ipykernel)",
   "language": "python",
   "name": "python3"
  },
  "language_info": {
   "codemirror_mode": {
    "name": "ipython",
    "version": 3
   },
   "file_extension": ".py",
   "mimetype": "text/x-python",
   "name": "python",
   "nbconvert_exporter": "python",
   "pygments_lexer": "ipython3",
   "version": "3.11.9"
  }
 },
 "nbformat": 4,
 "nbformat_minor": 5
}
