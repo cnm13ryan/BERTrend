{
 "cells": [
  {
   "cell_type": "markdown",
   "id": "73870050e69c50e6",
   "metadata": {},
   "source": [
    "\n",
    "\n",
    "\n",
    "\n"
   ]
  },
  {
   "cell_type": "markdown",
   "id": "10a9d82c667c7fbe",
   "metadata": {},
   "source": [
    "# BERTrend quickstart\n",
    "The purpose of this notebook is to complement the existing demos available in the directory `bertrend/demos` with some code examples that explain how to integrate BERTrend with your application code."
   ]
  },
  {
   "cell_type": "code",
   "execution_count": 1,
   "id": "849734b0d71f2495",
   "metadata": {
    "ExecuteTime": {
     "end_time": "2025-01-20T15:00:24.370757Z",
     "start_time": "2025-01-20T15:00:24.349873Z"
    }
   },
   "outputs": [],
   "source": [
    "\n",
    "%load_ext autoreload\n",
    "%autoreload 2"
   ]
  },
  {
   "cell_type": "markdown",
   "id": "a795490c2d3e539e",
   "metadata": {},
   "source": [
    "## BERTrend installation"
   ]
  },
  {
   "cell_type": "code",
   "execution_count": 2,
   "id": "ba4a7eacde91b892",
   "metadata": {
    "ExecuteTime": {
     "end_time": "2025-01-26T21:07:28.378082Z",
     "start_time": "2025-01-26T21:07:28.370941Z"
    }
   },
   "outputs": [],
   "source": [
    "import json\n",
    "from pathlib import Path\n",
    "import pandas as pd\n",
    "from pandas import Timestamp\n",
    "from IPython.display import display\n",
    "from loguru import logger\n",
    "\n",
    "from bertrend import DATA_PATH\n",
    "from bertrend.BERTrend import BERTrend\n",
    "from bertrend import MODELS_DIR\n",
    "from bertrend.utils.data_loading import load_data, split_data, TEXT_COLUMN\n",
    "from bertrend.services.embedding_service import EmbeddingService\n",
    "from bertrend.BERTopicModel import BERTopicModel\n",
    "from bertrend.topic_analysis.topic_description import generate_topic_description\n",
    "from bertrend.trend_analysis.weak_signals import analyze_signal\n"
   ]
  },
  {
   "cell_type": "code",
   "execution_count": 3,
   "id": "74702a2391f80f72",
   "metadata": {
    "ExecuteTime": {
     "end_time": "2025-01-26T21:07:30.328141Z",
     "start_time": "2025-01-26T21:07:30.324568Z"
    }
   },
   "outputs": [],
   "source": [
    "#!pip install bertrend"
   ]
  },
  {
   "cell_type": "markdown",
   "id": "ca03bdd5398b56b3",
   "metadata": {},
   "source": [
    "### Configuration of topic models"
   ]
  },
  {
   "cell_type": "code",
   "execution_count": null,
   "id": "b97d93ac81a4d420",
   "metadata": {
    "ExecuteTime": {
     "end_time": "2025-01-20T15:00:35.343828Z",
     "start_time": "2025-01-20T15:00:35.298417Z"
    }
   },
   "outputs": [],
   "source": [
    "# Topic model with default parameters - each parameter of BERTopic can be modified from the constructor or can be read from a configuration file\n",
    "# overrides the default config to use English\n",
    "config = '''\n",
    "# Default configuration file to be used for topic model\n",
    "\n",
    "# Global parameters\n",
    "[global]\n",
    "language = \"English\"\n",
    "\n",
    "# BERTopic parameters: https://maartengr.github.io/BERTopic/api/bertopic.html#bertopic._bertopic.BERTopic.__init__\n",
    "[bertopic_model]\n",
    "top_n_words = 10\n",
    "verbose = true\n",
    "representation_model = [\"MaximalMarginalRelevance\"] # KeyBERTInspired, OpenAI\n",
    "zeroshot_topic_list = []\n",
    "zeroshot_min_similarity = 0\n",
    "\n",
    "# UMAP parameters: https://umap-learn.readthedocs.io/en/latest/api.html\n",
    "[umap_model]\n",
    "n_neighbors = 5\n",
    "n_components = 5\n",
    "min_dist = 0.0\n",
    "metric = \"cosine\"\n",
    "random_state = 42\n",
    "\n",
    "# HDBSCAN parameters: https://hdbscan.readthedocs.io/en/latest/api.html\n",
    "[hdbscan_model]\n",
    "min_cluster_size = 5\n",
    "min_samples = 5\n",
    "metric = \"euclidean\"\n",
    "cluster_selection_method = \"eom\"\n",
    "prediction_data = true\n",
    "\n",
    "# CountVectorizer: https://scikit-learn.org/1.5/modules/generated/sklearn.feature_extraction.text.CountVectorizer.html\n",
    "[vectorizer_model]\n",
    "ngram_range = [1, 1]\n",
    "stop_words = true # If true, will check `language` parameter and load associated stopwords file\n",
    "min_df = 2\n",
    "\n",
    "# ClassTfidfTransformer: https://maartengr.github.io/BERTopic/api/ctfidf.html\n",
    "[ctfidf_model]\n",
    "bm25_weighting = false\n",
    "reduce_frequent_words = true\n",
    "\n",
    "# MaximalMarginalRelevance: https://maartengr.github.io/BERTopic/api/representation/mmr.html\n",
    "[mmr_model]\n",
    "diversity = 0.3\n",
    "\n",
    "# Reduce outliers: https://maartengr.github.io/BERTopic/api/bertopic.html#bertopic._bertopic.BERTopic.reduce_outliers\n",
    "[reduce_outliers]\n",
    "strategy = \"c-tf-idf\"\n",
    "'''\n",
    "\n",
    "topic_model = BERTopicModel(config)"
   ]
  },
  {
   "cell_type": "code",
   "execution_count": null,
   "id": "fa92f4b55e7b7b72",
   "metadata": {
    "ExecuteTime": {
     "end_time": "2025-01-20T15:00:35.547370Z",
     "start_time": "2025-01-20T15:00:35.486087Z"
    }
   },
   "outputs": [],
   "source": [
    "# The TopicModel class is mainly a wrapper around BERTopic and can be used as-is, for example for a first analysis of data (without considering evolving trends, but this is not mandatory at all)\n"
   ]
  },
  {
   "cell_type": "markdown",
   "id": "7cfd832467877a23",
   "metadata": {},
   "source": [
    "## Using BERTrend for retrospective analysis"
   ]
  },
  {
   "cell_type": "markdown",
   "id": "6a07ec11284b82cb",
   "metadata": {},
   "source": [
    "### Instantiation of BERTrend\n"
   ]
  },
  {
   "cell_type": "markdown",
   "id": "c5118dce73f8cfce",
   "metadata": {},
   "source": [
    "In the case of a **retrospective trend analysis** task, the goal is to identify and evaluate patterns or changes over time within a dataset, allowing for insights into historical performance, behaviors, or events that can inform future decision-making and strategy development.\n",
    "\n",
    "In this context, the general principle consists in splitting the past data into different time slices. Then each dataset is used to train a separate topic models. Each topic model description corresponding to the older data slice is merged with the next one and decay factors are applied. This allows to have a vision of topic evolution over time"
   ]
  },
  {
   "cell_type": "code",
   "execution_count": null,
   "id": "52bc66eed5bb040",
   "metadata": {
    "ExecuteTime": {
     "end_time": "2025-01-20T15:00:35.784959Z",
     "start_time": "2025-01-20T15:00:35.745153Z"
    }
   },
   "outputs": [],
   "source": [
    "# Basic creation of the object and parametrization\n",
    "# BERTrend uses several topic models; therefore, it is necessary to pass a topic_model object as a reference\n",
    "bertrend = BERTrend(topic_model=topic_model)"
   ]
  },
  {
   "cell_type": "markdown",
   "id": "bf7cd6699bf77299",
   "metadata": {},
   "source": [
    "### 1. Gather historical data to be analyzed\n"
   ]
  },
  {
   "cell_type": "code",
   "execution_count": null,
   "id": "154fb553f7004986",
   "metadata": {
    "ExecuteTime": {
     "end_time": "2025-01-20T15:00:35.978219Z",
     "start_time": "2025-01-20T15:00:35.813108Z"
    }
   },
   "outputs": [],
   "source": [
    "# Here some Trump tweets from: https://github.com/MarkHershey/CompleteTrumpTweetsArchive/blob/master/data/realDonaldTrump_in_office.csv\n",
    "#!wget \"https://raw.githubusercontent.com/MarkHershey/CompleteTrumpTweetsArchive/refs/heads/master/data/realDonaldTrump_in_office.csv\"\n",
    "df = pd.read_csv(\"realDonaldTrump_in_office.csv\",  sep=',',quotechar='\"', skipinitialspace=True)\n",
    "# BERTrend expects specific data format\n",
    "df = df.rename(columns={'Time': 'timestamp', 'Tweet URL': 'url', \"Tweet Text\": \"text\"})\n",
    "df[\"source\"]=df[\"ID\"]\n",
    "df[\"document_id\"] = df.index\n",
    "df.reset_index(inplace=True, drop=True)\n",
    "df.head(5)"
   ]
  },
  {
   "cell_type": "code",
   "execution_count": null,
   "id": "d2e8b96b46718241",
   "metadata": {
    "ExecuteTime": {
     "end_time": "2025-01-20T15:00:36.089939Z",
     "start_time": "2025-01-20T15:00:36.031108Z"
    }
   },
   "outputs": [],
   "source": [
    "df.index"
   ]
  },
  {
   "cell_type": "markdown",
   "id": "9d26753d9496a25",
   "metadata": {},
   "source": [
    "### 2. Embed data"
   ]
  },
  {
   "cell_type": "code",
   "execution_count": null,
   "id": "1ca3e17198fdbb6a",
   "metadata": {},
   "outputs": [],
   "source": [
    "# Selection of a subset of data\n",
    "df = df.head(1000)\n",
    "\n",
    "embedding_service_cfg = {\"local\": False, \"url\":\"https://localhost:6464\"}\n",
    "\n",
    "embedding_service = EmbeddingService(**embedding_service_cfg)\n",
    "embeddings, token_strings, token_embeddings = embedding_service.embed(\n",
    "                texts=df[\"text\"],\n",
    "            )"
   ]
  },
  {
   "cell_type": "code",
   "execution_count": null,
   "id": "72df96f5c7d8d52b",
   "metadata": {
    "ExecuteTime": {
     "end_time": "2025-01-20T15:01:16.856529Z",
     "start_time": "2025-01-20T15:01:16.812294Z"
    }
   },
   "outputs": [],
   "source": [
    "embedding_model_name = embedding_service.embedding_model_name\n"
   ]
  },
  {
   "cell_type": "markdown",
   "id": "2e94b24d1ef107a2",
   "metadata": {},
   "source": [
    "### 3. Split the data into time slices\n",
    "\n",
    "This can be done manually for some reason or can be done automatically based on a specified time granularity"
   ]
  },
  {
   "cell_type": "code",
   "execution_count": null,
   "id": "9ea313bff64c8cce",
   "metadata": {
    "ExecuteTime": {
     "end_time": "2025-01-20T15:01:16.964906Z",
     "start_time": "2025-01-20T15:01:16.921763Z"
    }
   },
   "outputs": [],
   "source": [
    "from bertrend.utils.data_loading import group_by_days, load_data\n",
    "\n",
    "day_granularity = 30\n",
    "grouped_data = group_by_days(df=df, day_granularity=day_granularity)"
   ]
  },
  {
   "cell_type": "code",
   "execution_count": null,
   "id": "a89b3c810c4575bc",
   "metadata": {
    "ExecuteTime": {
     "end_time": "2025-01-20T15:01:17.040491Z",
     "start_time": "2025-01-20T15:01:16.997388Z"
    }
   },
   "outputs": [],
   "source": [
    "# Number of sliced data\n",
    "len(grouped_data)"
   ]
  },
  {
   "cell_type": "markdown",
   "id": "9d7ffa03a6ed9330",
   "metadata": {},
   "source": [
    "### 4. Train topic models"
   ]
  },
  {
   "cell_type": "code",
   "execution_count": null,
   "id": "8e11789ecb115639",
   "metadata": {
    "ExecuteTime": {
     "end_time": "2025-01-20T15:07:11.584568Z",
     "start_time": "2025-01-20T15:01:17.180822Z"
    }
   },
   "outputs": [],
   "source": [
    "bertrend.train_topic_models(grouped_data=grouped_data, embedding_model=embedding_model_name, embeddings=embeddings)"
   ]
  },
  {
   "cell_type": "markdown",
   "id": "855c151c8cd9f93d",
   "metadata": {},
   "source": [
    "### 5. (Optional) Save trained_models"
   ]
  },
  {
   "cell_type": "code",
   "execution_count": null,
   "id": "2a54146c6b5f591b",
   "metadata": {
    "ExecuteTime": {
     "end_time": "2025-01-20T15:07:12.523789Z",
     "start_time": "2025-01-20T15:07:12.377692Z"
    },
    "scrolled": true
   },
   "outputs": [],
   "source": "bertrend.save_model()"
  },
  {
   "cell_type": "markdown",
   "id": "6d76285c9be44e92",
   "metadata": {},
   "source": [
    "### 6. Merge models"
   ]
  },
  {
   "cell_type": "code",
   "execution_count": null,
   "id": "a95fd062728118e9",
   "metadata": {
    "ExecuteTime": {
     "end_time": "2025-01-20T15:07:13.179985Z",
     "start_time": "2025-01-20T15:07:12.853779Z"
    }
   },
   "outputs": [],
   "source": [
    "bertrend.merge_all_models()"
   ]
  },
  {
   "cell_type": "markdown",
   "id": "d5cbf21f65102cd5",
   "metadata": {},
   "source": [
    "### 7. Calculate signal popularity"
   ]
  },
  {
   "cell_type": "code",
   "execution_count": null,
   "id": "94859eb8b9944224",
   "metadata": {
    "ExecuteTime": {
     "end_time": "2025-01-20T15:07:13.819430Z",
     "start_time": "2025-01-20T15:07:13.579473Z"
    }
   },
   "outputs": [],
   "source": [
    "bertrend.calculate_signal_popularity()"
   ]
  },
  {
   "cell_type": "code",
   "execution_count": null,
   "id": "7a989f7d97083e70",
   "metadata": {
    "ExecuteTime": {
     "end_time": "2025-01-20T15:07:13.939621Z",
     "start_time": "2025-01-20T15:07:13.854683Z"
    }
   },
   "outputs": [],
   "source": [
    "# List of topic models\n",
    "bertrend.topic_models"
   ]
  },
  {
   "cell_type": "code",
   "execution_count": null,
   "id": "dcba20eeaef6b472",
   "metadata": {
    "ExecuteTime": {
     "end_time": "2025-01-20T15:07:14.331855Z",
     "start_time": "2025-01-20T15:07:14.116053Z"
    }
   },
   "outputs": [],
   "source": [
    "window_size = 30\n",
    "\n",
    "# List of strong and weak signals over time\n",
    "for ts in bertrend.topic_models.keys():\n",
    "    print(ts)\n",
    "    noise_topics_df, weak_signal_topics_df, strong_signal_topics_df = bertrend.classify_signals(window_size, ts)\n",
    "    if not weak_signal_topics_df.empty:\n",
    "        print(\"Weak signals\")\n",
    "        display(weak_signal_topics_df[[\"Topic\",\"Representation\"]].head(5))\n",
    "    if not strong_signal_topics_df.empty:\n",
    "        print(\"Strong signals\")\n",
    "        display(strong_signal_topics_df[[\"Topic\",\"Representation\"]].head(5))\n",
    "    print()\n"
   ]
  },
  {
   "cell_type": "code",
   "execution_count": null,
   "id": "4582c0cb6c1f6186",
   "metadata": {
    "ExecuteTime": {
     "end_time": "2025-01-26T19:58:55.911033Z",
     "start_time": "2025-01-26T19:58:55.907556Z"
    }
   },
   "outputs": [],
   "source": [
    "# selection of one particular timestamp to look at\n",
    "selected_timestamp = Timestamp('2017-04-20 00:00:00')\n",
    "selected_topic_model = bertrend.topic_models.get(selected_timestamp)\n"
   ]
  },
  {
   "cell_type": "markdown",
   "id": "e31285ee5eb9d9f6",
   "metadata": {},
   "source": [
    "### Get topic description\n"
   ]
  },
  {
   "cell_type": "code",
   "execution_count": null,
   "id": "c945b625df18d881",
   "metadata": {
    "ExecuteTime": {
     "end_time": "2025-01-20T15:09:22.901513Z",
     "start_time": "2025-01-20T15:09:22.731495Z"
    }
   },
   "outputs": [],
   "source": [
    "desc = generate_topic_description(topic_model=selected_topic_model, topic_number=5, filtered_docs=df, language_code=\"en\")\n"
   ]
  },
  {
   "cell_type": "code",
   "execution_count": null,
   "id": "e61b903379a0fbd1",
   "metadata": {
    "ExecuteTime": {
     "end_time": "2025-01-20T15:23:13.250764Z",
     "start_time": "2025-01-20T15:23:11.647929Z"
    }
   },
   "outputs": [],
   "source": [
    "desc[\"title\"]"
   ]
  },
  {
   "cell_type": "code",
   "execution_count": null,
   "id": "c4dbdd4998e0956a",
   "metadata": {},
   "outputs": [],
   "source": [
    "desc[\"description\"]"
   ]
  },
  {
   "cell_type": "markdown",
   "id": "e27e46b0adc6e88b",
   "metadata": {},
   "source": [
    "### Get topic analysis"
   ]
  },
  {
   "cell_type": "code",
   "execution_count": null,
   "id": "cdc44ef6f558aac0",
   "metadata": {
    "ExecuteTime": {
     "end_time": "2025-01-20T15:07:17.430211Z",
     "start_time": "2025-01-20T15:07:16.745674Z"
    }
   },
   "outputs": [],
   "source": [
    "summary, analysis, formatted_html = analyze_signal(bertrend, 7, selected_timestamp)"
   ]
  },
  {
   "cell_type": "code",
   "execution_count": null,
   "id": "531558c5b600cb30",
   "metadata": {
    "ExecuteTime": {
     "end_time": "2025-01-20T15:07:17.433647087Z",
     "start_time": "2025-01-19T14:38:52.904786Z"
    }
   },
   "outputs": [],
   "source": [
    "from IPython.display import display, HTML\n",
    "display(HTML(formatted_html))"
   ]
  },
  {
   "cell_type": "markdown",
   "id": "d4c54df2e25f24c9",
   "metadata": {},
   "source": []
  },
  {
   "cell_type": "markdown",
   "id": "c922549ec07859a9",
   "metadata": {},
   "source": [
    "## Using BERTrend for prospective analysis"
   ]
  },
  {
   "cell_type": "markdown",
   "id": "cd3a1210eb53e1e2",
   "metadata": {},
   "source": [
    "In the case of a **prospective trend analysis task**, the goal is to **forecast future** developments or outcomes based on current data and trends, enabling organizations to make informed decisions, allocate resources effectively, and strategize for upcoming challenges or opportunities.\n"
   ]
  },
  {
   "cell_type": "markdown",
   "id": "100f841b083ce637",
   "metadata": {},
   "source": [
    "In this example, we are going to simulate a prospective task:\n",
    "- we simulate new data coming in\n",
    "- for each new data, we will compute the new topic model, merge it to previous one and detect at each iteration strong and weak signals\n"
   ]
  },
  {
   "cell_type": "code",
   "execution_count": 3,
   "id": "4d88b099fc25b600",
   "metadata": {
    "ExecuteTime": {
     "end_time": "2025-01-26T20:42:31.675644Z",
     "start_time": "2025-01-26T20:42:31.671870Z"
    }
   },
   "outputs": [],
   "source": [
    "MY_DATA_DIR = DATA_PATH / \"feeds/feed_sobriete\"\n",
    "\n",
    "input_data = [\n",
    "    MY_DATA_DIR / \"2024-12-30_feed_sobriete.jsonl\",\n",
    "    MY_DATA_DIR / \"2025-01-06_feed_sobriete.jsonl\",\n",
    "    MY_DATA_DIR / \"2025-01-20_feed_sobriete.jsonl\",\n",
    "]\n",
    "\n",
    "window_size = 7"
   ]
  },
  {
   "cell_type": "code",
   "execution_count": 4,
   "id": "a4619e8b7e9fbf91",
   "metadata": {
    "ExecuteTime": {
     "end_time": "2025-01-26T21:04:04.405304Z",
     "start_time": "2025-01-26T21:04:04.401150Z"
    }
   },
   "outputs": [],
   "source": [
    "embedding_service_cfg = {\"local\": False, \"url\":\"https://localhost:6464\"}\n",
    "\n",
    "embedding_service = EmbeddingService(**embedding_service_cfg)\n",
    "embedding_model_name = embedding_service.embedding_model_name"
   ]
  },
  {
   "cell_type": "code",
   "execution_count": 5,
   "id": "29f00b403ea81df1",
   "metadata": {
    "ExecuteTime": {
     "end_time": "2025-01-26T20:41:23.289362Z",
     "start_time": "2025-01-26T20:41:23.284555Z"
    }
   },
   "outputs": [],
   "source": [
    "BERTREND_MODELS_PATH = MODELS_DIR / \"sobriete_models\""
   ]
  },
  {
   "cell_type": "code",
   "execution_count": 6,
   "id": "63e3d13a7d8c0cb",
   "metadata": {
    "ExecuteTime": {
     "end_time": "2025-01-26T21:08:01.471923Z",
     "start_time": "2025-01-26T21:08:01.464866Z"
    }
   },
   "outputs": [],
   "source": [
    "def process_new_data(data_slice_path: Path, timestamp: pd.Timestamp):\n",
    "    logger.debug(f\"Processing new data: {data_slice_path}\")\n",
    "\n",
    "    # Restore previous models\n",
    "    try:\n",
    "        bertrend = BERTrend.restore_model(BERTREND_MODELS_PATH)\n",
    "    except:\n",
    "        logger.warning(\"Cannot restore previous models, creating new one\")\n",
    "        bertrend = BERTrend(topic_model=BERTopicModel())\n",
    "\n",
    "    # Read data\n",
    "    df = load_data(data_slice_path, language=\"French\")\n",
    "    df = split_data(df)\n",
    "    text = df[TEXT_COLUMN]\n",
    "\n",
    "    # Embed new data\n",
    "    embeddings, token_strings, token_embeddings = embedding_service.embed(\n",
    "                texts=text,\n",
    "    )\n",
    "\n",
    "    # Create topic model for new data\n",
    "    bertrend.train_topic_models({timestamp: df}, embeddings=embeddings, embedding_model=embedding_model_name)\n",
    "    \n",
    "    # Merge models\n",
    "    bertrend.merge_all_models()\n",
    "\n",
    "    logger.info(f\"BERTrend contains {len(bertrend.topic_models)} topic models\")\n",
    "    \n",
    "    # Save models\n",
    "    bertrend.save_model(models_path=BERTREND_MODELS_PATH)\n",
    "\n",
    "    \n",
    "    if not bertrend._are_models_merged:\n",
    "        return None\n",
    "        \n",
    "    # Compute popularities\n",
    "    bertrend.calculate_signal_popularity()\n",
    "    \n",
    "    # classify last signals\n",
    "    noise_topics_df, weak_signal_topics_df, strong_signal_topics_df = bertrend.classify_signals(window_size, timestamp)\n",
    "    # TODO: save dfs\n",
    "\n",
    "    if weak_signal_topics_df.empty:\n",
    "        return None\n",
    "        \n",
    "    wt = weak_signal_topics_df['Topic']\n",
    "    logger.info(f\"Weak topics: {wt}\")\n",
    "    wt_list = []\n",
    "    for topic in wt:\n",
    "        desc = generate_topic_description(topic_model=bertrend.topic_models[timestamp], topic_number=topic, filtered_docs=df, language_code=\"fr\")\n",
    "        wt_list.append({\"timestamp\": timestamp, \"topic\": topic, \"title\": desc[\"title\"], \"description\": desc[\"description\"]})\n",
    "\n",
    "    return pd.DataFrame(wt_list)\n"
   ]
  },
  {
   "cell_type": "code",
   "execution_count": null,
   "id": "1b36e0e226103b8c",
   "metadata": {
    "ExecuteTime": {
     "end_time": "2025-01-26T21:05:36.124752Z",
     "start_time": "2025-01-26T21:05:36.122652Z"
    }
   },
   "outputs": [],
   "source": []
  },
  {
   "cell_type": "code",
   "execution_count": null,
   "id": "a2695805f56be632",
   "metadata": {
    "ExecuteTime": {
     "end_time": "2025-01-26T21:12:53.800721Z",
     "start_time": "2025-01-26T21:08:10.434372Z"
    }
   },
   "outputs": [
    {
     "name": "stderr",
     "output_type": "stream",
     "text": [
      "\u001B[32m2025-01-27 18:02:32.141\u001B[0m | \u001B[34m\u001B[1mDEBUG   \u001B[0m | \u001B[36m__main__\u001B[0m:\u001B[36mprocess_new_data\u001B[0m:\u001B[36m2\u001B[0m - \u001B[34m\u001B[1mProcessing new data: /scratch/nlp/data/bertrend/feeds/feed_sobriete/2024-12-30_feed_sobriete.jsonl\u001B[0m\n",
      "\u001B[32m2025-01-27 18:02:32.142\u001B[0m | \u001B[1mINFO    \u001B[0m | \u001B[36mbertrend.BERTrend\u001B[0m:\u001B[36mrestore_models\u001B[0m:\u001B[36m668\u001B[0m - \u001B[1mLoading models from: /scratch/nlp/cache/bertrend/models/sobriete_models\u001B[0m\n",
      "\u001B[32m2025-01-27 18:02:32.335\u001B[0m | \u001B[34m\u001B[1mDEBUG   \u001B[0m | \u001B[36mbertrend.services.embedding_service\u001B[0m:\u001B[36m_remote_embed_documents\u001B[0m:\u001B[36m203\u001B[0m - \u001B[34m\u001B[1mComputing embeddings...\u001B[0m\n",
      "\u001B[32m2025-01-27 18:02:49.922\u001B[0m | \u001B[34m\u001B[1mDEBUG   \u001B[0m | \u001B[36mbertrend.services.embedding_service\u001B[0m:\u001B[36m_remote_embed_documents\u001B[0m:\u001B[36m210\u001B[0m - \u001B[34m\u001B[1mComputing embeddings done for batch\u001B[0m\n",
      "\u001B[32m2025-01-27 18:02:49.937\u001B[0m | \u001B[34m\u001B[1mDEBUG   \u001B[0m | \u001B[36mbertrend.services.embedding_service\u001B[0m:\u001B[36m_get_remote_model_name\u001B[0m:\u001B[36m226\u001B[0m - \u001B[34m\u001B[1mModel name: OrdalieTech/Solon-embeddings-large-0.1\u001B[0m\n",
      "\u001B[32m2025-01-27 18:02:49.938\u001B[0m | \u001B[1mINFO    \u001B[0m | \u001B[36mbertrend.BERTrend\u001B[0m:\u001B[36mtrain_topic_models\u001B[0m:\u001B[36m240\u001B[0m - \u001B[1mTraining topic model 1/1...\u001B[0m\n",
      "\u001B[32m2025-01-27 18:02:49.942\u001B[0m | \u001B[34m\u001B[1mDEBUG   \u001B[0m | \u001B[36mbertrend.BERTrend\u001B[0m:\u001B[36m_train_by_period\u001B[0m:\u001B[36m148\u001B[0m - \u001B[34m\u001B[1mProcessing period: 2024-12-30 00:00:00\u001B[0m\n",
      "\u001B[32m2025-01-27 18:02:49.942\u001B[0m | \u001B[34m\u001B[1mDEBUG   \u001B[0m | \u001B[36mbertrend.BERTrend\u001B[0m:\u001B[36m_train_by_period\u001B[0m:\u001B[36m149\u001B[0m - \u001B[34m\u001B[1mNumber of documents: 932\u001B[0m\n",
      "\u001B[32m2025-01-27 18:02:49.942\u001B[0m | \u001B[34m\u001B[1mDEBUG   \u001B[0m | \u001B[36mbertrend.BERTrend\u001B[0m:\u001B[36m_train_by_period\u001B[0m:\u001B[36m151\u001B[0m - \u001B[34m\u001B[1mCreating topic model...\u001B[0m\n",
      "\u001B[32m2025-01-27 18:02:49.943\u001B[0m | \u001B[34m\u001B[1mDEBUG   \u001B[0m | \u001B[36mbertrend.BERTopicModel\u001B[0m:\u001B[36mfit\u001B[0m:\u001B[36m212\u001B[0m - \u001B[34m\u001B[1m\tInitializing BERTopic model\u001B[0m\n",
      "\u001B[32m2025-01-27 18:02:49.943\u001B[0m | \u001B[32m\u001B[1mSUCCESS \u001B[0m | \u001B[36mbertrend.BERTopicModel\u001B[0m:\u001B[36mfit\u001B[0m:\u001B[36m222\u001B[0m - \u001B[32m\u001B[1m\tBERTopic model instance created successfully\u001B[0m\n",
      "\u001B[32m2025-01-27 18:02:49.943\u001B[0m | \u001B[34m\u001B[1mDEBUG   \u001B[0m | \u001B[36mbertrend.BERTopicModel\u001B[0m:\u001B[36mfit\u001B[0m:\u001B[36m224\u001B[0m - \u001B[34m\u001B[1m\tFitting BERTopic model\u001B[0m\n",
      "2025-01-27 18:02:55,866 - BERTopic - Dimensionality - Fitting the dimensionality reduction algorithm\n",
      "2025-01-27 18:03:05,012 - BERTopic - Dimensionality - Completed ✓\n",
      "2025-01-27 18:03:05,014 - BERTopic - Cluster - Start clustering the reduced embeddings\n",
      "2025-01-27 18:03:05,054 - BERTopic - Cluster - Completed ✓\n",
      "2025-01-27 18:03:05,059 - BERTopic - Representation - Extracting topics from clusters using representation models.\n",
      "2025-01-27 18:03:10,131 - BERTopic - Representation - Completed ✓\n",
      "\u001B[32m2025-01-27 18:03:10.283\u001B[0m | \u001B[34m\u001B[1mDEBUG   \u001B[0m | \u001B[36mbertrend.BERTopicModel\u001B[0m:\u001B[36mfit\u001B[0m:\u001B[36m231\u001B[0m - \u001B[34m\u001B[1m\tReducing outliers\u001B[0m\n",
      "2025-01-27 18:03:10,292 - BERTopic - WARNING: Using a custom list of topic assignments may lead to errors if topic reduction techniques are used afterwards. Make sure that manually assigning topics is the last step in the pipeline.Note that topic embeddings will also be created through weightedc-TF-IDF embeddings instead of centroid embeddings.\n",
      "\u001B[32m2025-01-27 18:03:14.123\u001B[0m | \u001B[32m\u001B[1mSUCCESS \u001B[0m | \u001B[36mbertrend.BERTopicModel\u001B[0m:\u001B[36mfit\u001B[0m:\u001B[36m259\u001B[0m - \u001B[32m\u001B[1m\tBERTopic model fitted successfully\u001B[0m\n",
      "\u001B[32m2025-01-27 18:03:14.124\u001B[0m | \u001B[34m\u001B[1mDEBUG   \u001B[0m | \u001B[36mbertrend.BERTrend\u001B[0m:\u001B[36m_train_by_period\u001B[0m:\u001B[36m158\u001B[0m - \u001B[34m\u001B[1mTopic model created successfully\u001B[0m\n",
      "\u001B[32m2025-01-27 18:03:14.151\u001B[0m | \u001B[34m\u001B[1mDEBUG   \u001B[0m | \u001B[36mbertrend.BERTrend\u001B[0m:\u001B[36mtrain_topic_models\u001B[0m:\u001B[36m244\u001B[0m - \u001B[34m\u001B[1mSuccessfully processed period: 2024-12-30 00:00:00\u001B[0m\n",
      "\u001B[32m2025-01-27 18:03:14.151\u001B[0m | \u001B[32m\u001B[1mSUCCESS \u001B[0m | \u001B[36mbertrend.BERTrend\u001B[0m:\u001B[36mtrain_topic_models\u001B[0m:\u001B[36m269\u001B[0m - \u001B[32m\u001B[1mFinished training all topic models\u001B[0m\n",
      "\u001B[32m2025-01-27 18:03:14.219\u001B[0m | \u001B[33m\u001B[1mWARNING \u001B[0m | \u001B[36mbertrend.BERTrend\u001B[0m:\u001B[36mmerge_all_models\u001B[0m:\u001B[36m294\u001B[0m - \u001B[33m\u001B[1mThis function requires at least two topic models. Ignored\u001B[0m\n",
      "\u001B[32m2025-01-27 18:03:14.219\u001B[0m | \u001B[1mINFO    \u001B[0m | \u001B[36m__main__\u001B[0m:\u001B[36mprocess_new_data\u001B[0m:\u001B[36m27\u001B[0m - \u001B[1mBERTrend contains 1 topic models\u001B[0m\n",
      "\u001B[32m2025-01-27 18:03:14.247\u001B[0m | \u001B[1mINFO    \u001B[0m | \u001B[36mbertrend.BERTrend\u001B[0m:\u001B[36msave_models\u001B[0m:\u001B[36m661\u001B[0m - \u001B[1mModels saved to: /scratch/nlp/cache/bertrend/models/sobriete_models\u001B[0m\n"
     ]
    },
    {
     "data": {
      "text/plain": [
       "None"
      ]
     },
     "metadata": {},
     "output_type": "display_data"
    },
    {
     "name": "stderr",
     "output_type": "stream",
     "text": [
      "\u001B[32m2025-01-27 18:03:14.252\u001B[0m | \u001B[34m\u001B[1mDEBUG   \u001B[0m | \u001B[36m__main__\u001B[0m:\u001B[36mprocess_new_data\u001B[0m:\u001B[36m2\u001B[0m - \u001B[34m\u001B[1mProcessing new data: /scratch/nlp/data/bertrend/feeds/feed_sobriete/2025-01-06_feed_sobriete.jsonl\u001B[0m\n",
      "\u001B[32m2025-01-27 18:03:14.252\u001B[0m | \u001B[1mINFO    \u001B[0m | \u001B[36mbertrend.BERTrend\u001B[0m:\u001B[36mrestore_models\u001B[0m:\u001B[36m668\u001B[0m - \u001B[1mLoading models from: /scratch/nlp/cache/bertrend/models/sobriete_models\u001B[0m\n",
      "\u001B[32m2025-01-27 18:03:17.627\u001B[0m | \u001B[34m\u001B[1mDEBUG   \u001B[0m | \u001B[36mbertrend.services.embedding_service\u001B[0m:\u001B[36m_remote_embed_documents\u001B[0m:\u001B[36m203\u001B[0m - \u001B[34m\u001B[1mComputing embeddings...\u001B[0m\n",
      "\u001B[32m2025-01-27 18:03:32.419\u001B[0m | \u001B[34m\u001B[1mDEBUG   \u001B[0m | \u001B[36mbertrend.services.embedding_service\u001B[0m:\u001B[36m_remote_embed_documents\u001B[0m:\u001B[36m210\u001B[0m - \u001B[34m\u001B[1mComputing embeddings done for batch\u001B[0m\n",
      "\u001B[32m2025-01-27 18:03:32.434\u001B[0m | \u001B[34m\u001B[1mDEBUG   \u001B[0m | \u001B[36mbertrend.services.embedding_service\u001B[0m:\u001B[36m_get_remote_model_name\u001B[0m:\u001B[36m226\u001B[0m - \u001B[34m\u001B[1mModel name: OrdalieTech/Solon-embeddings-large-0.1\u001B[0m\n",
      "\u001B[32m2025-01-27 18:03:32.434\u001B[0m | \u001B[1mINFO    \u001B[0m | \u001B[36mbertrend.BERTrend\u001B[0m:\u001B[36mtrain_topic_models\u001B[0m:\u001B[36m240\u001B[0m - \u001B[1mTraining topic model 1/1...\u001B[0m\n",
      "\u001B[32m2025-01-27 18:03:32.437\u001B[0m | \u001B[34m\u001B[1mDEBUG   \u001B[0m | \u001B[36mbertrend.BERTrend\u001B[0m:\u001B[36m_train_by_period\u001B[0m:\u001B[36m148\u001B[0m - \u001B[34m\u001B[1mProcessing period: 2025-01-06 00:00:00\u001B[0m\n",
      "\u001B[32m2025-01-27 18:03:32.437\u001B[0m | \u001B[34m\u001B[1mDEBUG   \u001B[0m | \u001B[36mbertrend.BERTrend\u001B[0m:\u001B[36m_train_by_period\u001B[0m:\u001B[36m149\u001B[0m - \u001B[34m\u001B[1mNumber of documents: 825\u001B[0m\n",
      "\u001B[32m2025-01-27 18:03:32.438\u001B[0m | \u001B[34m\u001B[1mDEBUG   \u001B[0m | \u001B[36mbertrend.BERTrend\u001B[0m:\u001B[36m_train_by_period\u001B[0m:\u001B[36m151\u001B[0m - \u001B[34m\u001B[1mCreating topic model...\u001B[0m\n",
      "\u001B[32m2025-01-27 18:03:32.438\u001B[0m | \u001B[34m\u001B[1mDEBUG   \u001B[0m | \u001B[36mbertrend.BERTopicModel\u001B[0m:\u001B[36mfit\u001B[0m:\u001B[36m212\u001B[0m - \u001B[34m\u001B[1m\tInitializing BERTopic model\u001B[0m\n",
      "\u001B[32m2025-01-27 18:03:32.439\u001B[0m | \u001B[32m\u001B[1mSUCCESS \u001B[0m | \u001B[36mbertrend.BERTopicModel\u001B[0m:\u001B[36mfit\u001B[0m:\u001B[36m222\u001B[0m - \u001B[32m\u001B[1m\tBERTopic model instance created successfully\u001B[0m\n",
      "\u001B[32m2025-01-27 18:03:32.440\u001B[0m | \u001B[34m\u001B[1mDEBUG   \u001B[0m | \u001B[36mbertrend.BERTopicModel\u001B[0m:\u001B[36mfit\u001B[0m:\u001B[36m224\u001B[0m - \u001B[34m\u001B[1m\tFitting BERTopic model\u001B[0m\n",
      "2025-01-27 18:03:37,067 - BERTopic - Dimensionality - Fitting the dimensionality reduction algorithm\n",
      "2025-01-27 18:03:39,539 - BERTopic - Dimensionality - Completed ✓\n",
      "2025-01-27 18:03:39,540 - BERTopic - Cluster - Start clustering the reduced embeddings\n",
      "2025-01-27 18:03:39,574 - BERTopic - Cluster - Completed ✓\n",
      "2025-01-27 18:03:39,577 - BERTopic - Representation - Extracting topics from clusters using representation models.\n"
     ]
    }
   ],
   "source": [
    "for data_file in input_data:\n",
    "    timestamp = pd.Timestamp(data_file.name.split('_')[0])\n",
    "    display(process_new_data(data_file, timestamp))"
   ]
  },
  {
   "cell_type": "code",
   "execution_count": null,
   "id": "a07f5101-94ff-4e46-a808-d43873cf51fa",
   "metadata": {},
   "outputs": [],
   "source": []
  },
  {
   "cell_type": "code",
   "execution_count": null,
   "id": "779b1acd-4270-42c4-a600-75bfeb58d20b",
   "metadata": {},
   "outputs": [],
   "source": []
  },
  {
   "cell_type": "code",
   "execution_count": null,
   "id": "1b0ebd4d-c808-4880-8970-0c4c7d162a9d",
   "metadata": {},
   "outputs": [],
   "source": []
  }
 ],
 "metadata": {
  "kernelspec": {
   "display_name": "Python 3 (ipykernel)",
   "language": "python",
   "name": "python3"
  },
  "language_info": {
   "codemirror_mode": {
    "name": "ipython",
    "version": 3
   },
   "file_extension": ".py",
   "mimetype": "text/x-python",
   "name": "python",
   "nbconvert_exporter": "python",
   "pygments_lexer": "ipython3",
   "version": "3.11.9"
  }
 },
 "nbformat": 4,
 "nbformat_minor": 5
}
